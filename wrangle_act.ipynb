{
 "cells": [
  {
   "cell_type": "code",
   "execution_count": 1,
   "id": "8dfcfcb5",
   "metadata": {},
   "outputs": [],
   "source": [
    "import pandas as pd\n",
    "import numpy as np\n",
    "import json\n",
    "import matplotlib.pyplot as plt\n",
    "import seaborn as sns\n",
    "from pathlib import Path\n",
    "import statsmodels.api as sm;"
   ]
  },
  {
   "cell_type": "markdown",
   "id": "2ea957ab",
   "metadata": {},
   "source": [
    "# Gather"
   ]
  },
  {
   "cell_type": "code",
   "execution_count": 2,
   "id": "37f9d622",
   "metadata": {},
   "outputs": [],
   "source": [
    "twitter_archive = pd.read_csv('twitter-archive-enhanced.csv')"
   ]
  },
  {
   "cell_type": "code",
   "execution_count": 3,
   "id": "054564aa",
   "metadata": {},
   "outputs": [],
   "source": [
    "# If the image-predictions file does not exist, download it.\n",
    "image_predictions_file = Path('image-predictions.tsv')\n",
    "if not(image_predictions_file.exists()):\n",
    "    url = 'https://d17h27t6h515a5.cloudfront.net/topher/2017/August/599fd2ad_image-predictions/image-predictions.tsv' \n",
    "    request = requests.get(url)\n",
    "    open('image-predictions.tsv', 'wb').write(request.content) "
   ]
  },
  {
   "cell_type": "code",
   "execution_count": 4,
   "id": "d7703acb",
   "metadata": {},
   "outputs": [],
   "source": [
    "image_predictions = pd.read_csv('image-predictions.tsv', sep = '\\t')"
   ]
  },
  {
   "cell_type": "code",
   "execution_count": 5,
   "id": "fdb8a764",
   "metadata": {},
   "outputs": [],
   "source": [
    "# If the file containing the additional data acquired via the Twitter API file does not exist, create it.\n",
    "dfTwitter_file = Path('tweet_json.txt')\n",
    "if not(dfTwitter_file.exists()):\n",
    "    consumer_key = '####################'\n",
    "    consumer_secret = '####################'\n",
    "    access_token = '####################'\n",
    "    access_token_secret= '####################'\n",
    "\n",
    "    auth = tweepy.OAuthHandler(consumer_key, consumer_secret)\n",
    "    auth.set_access_token(access_token, access_token_secret)\n",
    "\n",
    "    api = tweepy.API(auth, wait_on_rate_limit=True)\n",
    "    \n",
    "    all_ids = twitter_archive.tweet_id.values\n",
    "    \n",
    "    failed = []\n",
    "    with open('tweet_json.txt', 'w') as outfile:\n",
    "        for tweet_id in all_ids:\n",
    "            try:\n",
    "                tweet = api.get_status(tweet_id, tweet_mode=\"extended\")\n",
    "                print(\"Acquired tweet with ID: \", tweet_id)\n",
    "                json.dump(tweet._json, outfile)\n",
    "                outfile.write('\\n')\n",
    "            except tweepy.TweepError:\n",
    "                print(\"Could not acquire tweet with ID: \", tweet_id)\n",
    "                failed.append(tweet_id)\n",
    "                pass"
   ]
  },
  {
   "cell_type": "code",
   "execution_count": 6,
   "id": "3c414592",
   "metadata": {},
   "outputs": [],
   "source": [
    "# Load in the additional Twitter data\n",
    "filename = 'tweet_json.txt'\n",
    "dfTwitter = pd.DataFrame(columns = {'tweet_id', 'retweet_count', 'favorite_count'})\n",
    "with open(filename) as the_file:\n",
    "    for line in the_file:\n",
    "        status = json.loads(line)\n",
    "        tweet_id = status['id_str']\n",
    "        retweet_count = status['retweet_count']\n",
    "        favorite_count = status['favorite_count']\n",
    "        the_row = [tweet_id, retweet_count, favorite_count]\n",
    "        #print(the_row)\n",
    "        df_row = pd.DataFrame([the_row], columns = ['tweet_id', 'retweet_count', 'favorite_count'])\n",
    "        dfTwitter = dfTwitter.append(df_row)\n",
    "dfTwitter = dfTwitter.reset_index(drop = True)"
   ]
  },
  {
   "cell_type": "code",
   "execution_count": 7,
   "id": "772af3b1",
   "metadata": {},
   "outputs": [],
   "source": [
    "# I prefer to keep a copy of the originals and then clean the already imported dataframes \n",
    "twitter_archive_original = twitter_archive.copy()\n",
    "image_predictions_original = image_predictions.copy()\n",
    "dfTwitter_original = dfTwitter.copy()"
   ]
  },
  {
   "cell_type": "markdown",
   "id": "2c6ba2b1",
   "metadata": {},
   "source": [
    "# Assess"
   ]
  },
  {
   "cell_type": "markdown",
   "id": "b623ce6b",
   "metadata": {},
   "source": [
    "`twitter_archive`\n",
    "---------------"
   ]
  },
  {
   "cell_type": "markdown",
   "id": "4d254167",
   "metadata": {},
   "source": [
    "### Visual assessment:"
   ]
  },
  {
   "cell_type": "code",
   "execution_count": 8,
   "id": "0445bcd7",
   "metadata": {},
   "outputs": [
    {
     "data": {
      "text/html": [
       "<div>\n",
       "<style scoped>\n",
       "    .dataframe tbody tr th:only-of-type {\n",
       "        vertical-align: middle;\n",
       "    }\n",
       "\n",
       "    .dataframe tbody tr th {\n",
       "        vertical-align: top;\n",
       "    }\n",
       "\n",
       "    .dataframe thead th {\n",
       "        text-align: right;\n",
       "    }\n",
       "</style>\n",
       "<table border=\"1\" class=\"dataframe\">\n",
       "  <thead>\n",
       "    <tr style=\"text-align: right;\">\n",
       "      <th></th>\n",
       "      <th>tweet_id</th>\n",
       "      <th>in_reply_to_status_id</th>\n",
       "      <th>in_reply_to_user_id</th>\n",
       "      <th>timestamp</th>\n",
       "      <th>source</th>\n",
       "      <th>text</th>\n",
       "      <th>retweeted_status_id</th>\n",
       "      <th>retweeted_status_user_id</th>\n",
       "      <th>retweeted_status_timestamp</th>\n",
       "      <th>expanded_urls</th>\n",
       "      <th>rating_numerator</th>\n",
       "      <th>rating_denominator</th>\n",
       "      <th>name</th>\n",
       "      <th>doggo</th>\n",
       "      <th>floofer</th>\n",
       "      <th>pupper</th>\n",
       "      <th>puppo</th>\n",
       "    </tr>\n",
       "  </thead>\n",
       "  <tbody>\n",
       "    <tr>\n",
       "      <th>0</th>\n",
       "      <td>892420643555336193</td>\n",
       "      <td>NaN</td>\n",
       "      <td>NaN</td>\n",
       "      <td>2017-08-01 16:23:56 +0000</td>\n",
       "      <td>&lt;a href=\"http://twitter.com/download/iphone\" r...</td>\n",
       "      <td>This is Phineas. He's a mystical boy. Only eve...</td>\n",
       "      <td>NaN</td>\n",
       "      <td>NaN</td>\n",
       "      <td>NaN</td>\n",
       "      <td>https://twitter.com/dog_rates/status/892420643...</td>\n",
       "      <td>13</td>\n",
       "      <td>10</td>\n",
       "      <td>Phineas</td>\n",
       "      <td>None</td>\n",
       "      <td>None</td>\n",
       "      <td>None</td>\n",
       "      <td>None</td>\n",
       "    </tr>\n",
       "    <tr>\n",
       "      <th>1</th>\n",
       "      <td>892177421306343426</td>\n",
       "      <td>NaN</td>\n",
       "      <td>NaN</td>\n",
       "      <td>2017-08-01 00:17:27 +0000</td>\n",
       "      <td>&lt;a href=\"http://twitter.com/download/iphone\" r...</td>\n",
       "      <td>This is Tilly. She's just checking pup on you....</td>\n",
       "      <td>NaN</td>\n",
       "      <td>NaN</td>\n",
       "      <td>NaN</td>\n",
       "      <td>https://twitter.com/dog_rates/status/892177421...</td>\n",
       "      <td>13</td>\n",
       "      <td>10</td>\n",
       "      <td>Tilly</td>\n",
       "      <td>None</td>\n",
       "      <td>None</td>\n",
       "      <td>None</td>\n",
       "      <td>None</td>\n",
       "    </tr>\n",
       "    <tr>\n",
       "      <th>2</th>\n",
       "      <td>891815181378084864</td>\n",
       "      <td>NaN</td>\n",
       "      <td>NaN</td>\n",
       "      <td>2017-07-31 00:18:03 +0000</td>\n",
       "      <td>&lt;a href=\"http://twitter.com/download/iphone\" r...</td>\n",
       "      <td>This is Archie. He is a rare Norwegian Pouncin...</td>\n",
       "      <td>NaN</td>\n",
       "      <td>NaN</td>\n",
       "      <td>NaN</td>\n",
       "      <td>https://twitter.com/dog_rates/status/891815181...</td>\n",
       "      <td>12</td>\n",
       "      <td>10</td>\n",
       "      <td>Archie</td>\n",
       "      <td>None</td>\n",
       "      <td>None</td>\n",
       "      <td>None</td>\n",
       "      <td>None</td>\n",
       "    </tr>\n",
       "    <tr>\n",
       "      <th>3</th>\n",
       "      <td>891689557279858688</td>\n",
       "      <td>NaN</td>\n",
       "      <td>NaN</td>\n",
       "      <td>2017-07-30 15:58:51 +0000</td>\n",
       "      <td>&lt;a href=\"http://twitter.com/download/iphone\" r...</td>\n",
       "      <td>This is Darla. She commenced a snooze mid meal...</td>\n",
       "      <td>NaN</td>\n",
       "      <td>NaN</td>\n",
       "      <td>NaN</td>\n",
       "      <td>https://twitter.com/dog_rates/status/891689557...</td>\n",
       "      <td>13</td>\n",
       "      <td>10</td>\n",
       "      <td>Darla</td>\n",
       "      <td>None</td>\n",
       "      <td>None</td>\n",
       "      <td>None</td>\n",
       "      <td>None</td>\n",
       "    </tr>\n",
       "    <tr>\n",
       "      <th>4</th>\n",
       "      <td>891327558926688256</td>\n",
       "      <td>NaN</td>\n",
       "      <td>NaN</td>\n",
       "      <td>2017-07-29 16:00:24 +0000</td>\n",
       "      <td>&lt;a href=\"http://twitter.com/download/iphone\" r...</td>\n",
       "      <td>This is Franklin. He would like you to stop ca...</td>\n",
       "      <td>NaN</td>\n",
       "      <td>NaN</td>\n",
       "      <td>NaN</td>\n",
       "      <td>https://twitter.com/dog_rates/status/891327558...</td>\n",
       "      <td>12</td>\n",
       "      <td>10</td>\n",
       "      <td>Franklin</td>\n",
       "      <td>None</td>\n",
       "      <td>None</td>\n",
       "      <td>None</td>\n",
       "      <td>None</td>\n",
       "    </tr>\n",
       "    <tr>\n",
       "      <th>...</th>\n",
       "      <td>...</td>\n",
       "      <td>...</td>\n",
       "      <td>...</td>\n",
       "      <td>...</td>\n",
       "      <td>...</td>\n",
       "      <td>...</td>\n",
       "      <td>...</td>\n",
       "      <td>...</td>\n",
       "      <td>...</td>\n",
       "      <td>...</td>\n",
       "      <td>...</td>\n",
       "      <td>...</td>\n",
       "      <td>...</td>\n",
       "      <td>...</td>\n",
       "      <td>...</td>\n",
       "      <td>...</td>\n",
       "      <td>...</td>\n",
       "    </tr>\n",
       "    <tr>\n",
       "      <th>2351</th>\n",
       "      <td>666049248165822465</td>\n",
       "      <td>NaN</td>\n",
       "      <td>NaN</td>\n",
       "      <td>2015-11-16 00:24:50 +0000</td>\n",
       "      <td>&lt;a href=\"http://twitter.com/download/iphone\" r...</td>\n",
       "      <td>Here we have a 1949 1st generation vulpix. Enj...</td>\n",
       "      <td>NaN</td>\n",
       "      <td>NaN</td>\n",
       "      <td>NaN</td>\n",
       "      <td>https://twitter.com/dog_rates/status/666049248...</td>\n",
       "      <td>5</td>\n",
       "      <td>10</td>\n",
       "      <td>None</td>\n",
       "      <td>None</td>\n",
       "      <td>None</td>\n",
       "      <td>None</td>\n",
       "      <td>None</td>\n",
       "    </tr>\n",
       "    <tr>\n",
       "      <th>2352</th>\n",
       "      <td>666044226329800704</td>\n",
       "      <td>NaN</td>\n",
       "      <td>NaN</td>\n",
       "      <td>2015-11-16 00:04:52 +0000</td>\n",
       "      <td>&lt;a href=\"http://twitter.com/download/iphone\" r...</td>\n",
       "      <td>This is a purebred Piers Morgan. Loves to Netf...</td>\n",
       "      <td>NaN</td>\n",
       "      <td>NaN</td>\n",
       "      <td>NaN</td>\n",
       "      <td>https://twitter.com/dog_rates/status/666044226...</td>\n",
       "      <td>6</td>\n",
       "      <td>10</td>\n",
       "      <td>a</td>\n",
       "      <td>None</td>\n",
       "      <td>None</td>\n",
       "      <td>None</td>\n",
       "      <td>None</td>\n",
       "    </tr>\n",
       "    <tr>\n",
       "      <th>2353</th>\n",
       "      <td>666033412701032449</td>\n",
       "      <td>NaN</td>\n",
       "      <td>NaN</td>\n",
       "      <td>2015-11-15 23:21:54 +0000</td>\n",
       "      <td>&lt;a href=\"http://twitter.com/download/iphone\" r...</td>\n",
       "      <td>Here is a very happy pup. Big fan of well-main...</td>\n",
       "      <td>NaN</td>\n",
       "      <td>NaN</td>\n",
       "      <td>NaN</td>\n",
       "      <td>https://twitter.com/dog_rates/status/666033412...</td>\n",
       "      <td>9</td>\n",
       "      <td>10</td>\n",
       "      <td>a</td>\n",
       "      <td>None</td>\n",
       "      <td>None</td>\n",
       "      <td>None</td>\n",
       "      <td>None</td>\n",
       "    </tr>\n",
       "    <tr>\n",
       "      <th>2354</th>\n",
       "      <td>666029285002620928</td>\n",
       "      <td>NaN</td>\n",
       "      <td>NaN</td>\n",
       "      <td>2015-11-15 23:05:30 +0000</td>\n",
       "      <td>&lt;a href=\"http://twitter.com/download/iphone\" r...</td>\n",
       "      <td>This is a western brown Mitsubishi terrier. Up...</td>\n",
       "      <td>NaN</td>\n",
       "      <td>NaN</td>\n",
       "      <td>NaN</td>\n",
       "      <td>https://twitter.com/dog_rates/status/666029285...</td>\n",
       "      <td>7</td>\n",
       "      <td>10</td>\n",
       "      <td>a</td>\n",
       "      <td>None</td>\n",
       "      <td>None</td>\n",
       "      <td>None</td>\n",
       "      <td>None</td>\n",
       "    </tr>\n",
       "    <tr>\n",
       "      <th>2355</th>\n",
       "      <td>666020888022790149</td>\n",
       "      <td>NaN</td>\n",
       "      <td>NaN</td>\n",
       "      <td>2015-11-15 22:32:08 +0000</td>\n",
       "      <td>&lt;a href=\"http://twitter.com/download/iphone\" r...</td>\n",
       "      <td>Here we have a Japanese Irish Setter. Lost eye...</td>\n",
       "      <td>NaN</td>\n",
       "      <td>NaN</td>\n",
       "      <td>NaN</td>\n",
       "      <td>https://twitter.com/dog_rates/status/666020888...</td>\n",
       "      <td>8</td>\n",
       "      <td>10</td>\n",
       "      <td>None</td>\n",
       "      <td>None</td>\n",
       "      <td>None</td>\n",
       "      <td>None</td>\n",
       "      <td>None</td>\n",
       "    </tr>\n",
       "  </tbody>\n",
       "</table>\n",
       "<p>2356 rows × 17 columns</p>\n",
       "</div>"
      ],
      "text/plain": [
       "                tweet_id  in_reply_to_status_id  in_reply_to_user_id  \\\n",
       "0     892420643555336193                    NaN                  NaN   \n",
       "1     892177421306343426                    NaN                  NaN   \n",
       "2     891815181378084864                    NaN                  NaN   \n",
       "3     891689557279858688                    NaN                  NaN   \n",
       "4     891327558926688256                    NaN                  NaN   \n",
       "...                  ...                    ...                  ...   \n",
       "2351  666049248165822465                    NaN                  NaN   \n",
       "2352  666044226329800704                    NaN                  NaN   \n",
       "2353  666033412701032449                    NaN                  NaN   \n",
       "2354  666029285002620928                    NaN                  NaN   \n",
       "2355  666020888022790149                    NaN                  NaN   \n",
       "\n",
       "                      timestamp  \\\n",
       "0     2017-08-01 16:23:56 +0000   \n",
       "1     2017-08-01 00:17:27 +0000   \n",
       "2     2017-07-31 00:18:03 +0000   \n",
       "3     2017-07-30 15:58:51 +0000   \n",
       "4     2017-07-29 16:00:24 +0000   \n",
       "...                         ...   \n",
       "2351  2015-11-16 00:24:50 +0000   \n",
       "2352  2015-11-16 00:04:52 +0000   \n",
       "2353  2015-11-15 23:21:54 +0000   \n",
       "2354  2015-11-15 23:05:30 +0000   \n",
       "2355  2015-11-15 22:32:08 +0000   \n",
       "\n",
       "                                                 source  \\\n",
       "0     <a href=\"http://twitter.com/download/iphone\" r...   \n",
       "1     <a href=\"http://twitter.com/download/iphone\" r...   \n",
       "2     <a href=\"http://twitter.com/download/iphone\" r...   \n",
       "3     <a href=\"http://twitter.com/download/iphone\" r...   \n",
       "4     <a href=\"http://twitter.com/download/iphone\" r...   \n",
       "...                                                 ...   \n",
       "2351  <a href=\"http://twitter.com/download/iphone\" r...   \n",
       "2352  <a href=\"http://twitter.com/download/iphone\" r...   \n",
       "2353  <a href=\"http://twitter.com/download/iphone\" r...   \n",
       "2354  <a href=\"http://twitter.com/download/iphone\" r...   \n",
       "2355  <a href=\"http://twitter.com/download/iphone\" r...   \n",
       "\n",
       "                                                   text  retweeted_status_id  \\\n",
       "0     This is Phineas. He's a mystical boy. Only eve...                  NaN   \n",
       "1     This is Tilly. She's just checking pup on you....                  NaN   \n",
       "2     This is Archie. He is a rare Norwegian Pouncin...                  NaN   \n",
       "3     This is Darla. She commenced a snooze mid meal...                  NaN   \n",
       "4     This is Franklin. He would like you to stop ca...                  NaN   \n",
       "...                                                 ...                  ...   \n",
       "2351  Here we have a 1949 1st generation vulpix. Enj...                  NaN   \n",
       "2352  This is a purebred Piers Morgan. Loves to Netf...                  NaN   \n",
       "2353  Here is a very happy pup. Big fan of well-main...                  NaN   \n",
       "2354  This is a western brown Mitsubishi terrier. Up...                  NaN   \n",
       "2355  Here we have a Japanese Irish Setter. Lost eye...                  NaN   \n",
       "\n",
       "      retweeted_status_user_id retweeted_status_timestamp  \\\n",
       "0                          NaN                        NaN   \n",
       "1                          NaN                        NaN   \n",
       "2                          NaN                        NaN   \n",
       "3                          NaN                        NaN   \n",
       "4                          NaN                        NaN   \n",
       "...                        ...                        ...   \n",
       "2351                       NaN                        NaN   \n",
       "2352                       NaN                        NaN   \n",
       "2353                       NaN                        NaN   \n",
       "2354                       NaN                        NaN   \n",
       "2355                       NaN                        NaN   \n",
       "\n",
       "                                          expanded_urls  rating_numerator  \\\n",
       "0     https://twitter.com/dog_rates/status/892420643...                13   \n",
       "1     https://twitter.com/dog_rates/status/892177421...                13   \n",
       "2     https://twitter.com/dog_rates/status/891815181...                12   \n",
       "3     https://twitter.com/dog_rates/status/891689557...                13   \n",
       "4     https://twitter.com/dog_rates/status/891327558...                12   \n",
       "...                                                 ...               ...   \n",
       "2351  https://twitter.com/dog_rates/status/666049248...                 5   \n",
       "2352  https://twitter.com/dog_rates/status/666044226...                 6   \n",
       "2353  https://twitter.com/dog_rates/status/666033412...                 9   \n",
       "2354  https://twitter.com/dog_rates/status/666029285...                 7   \n",
       "2355  https://twitter.com/dog_rates/status/666020888...                 8   \n",
       "\n",
       "      rating_denominator      name doggo floofer pupper puppo  \n",
       "0                     10   Phineas  None    None   None  None  \n",
       "1                     10     Tilly  None    None   None  None  \n",
       "2                     10    Archie  None    None   None  None  \n",
       "3                     10     Darla  None    None   None  None  \n",
       "4                     10  Franklin  None    None   None  None  \n",
       "...                  ...       ...   ...     ...    ...   ...  \n",
       "2351                  10      None  None    None   None  None  \n",
       "2352                  10         a  None    None   None  None  \n",
       "2353                  10         a  None    None   None  None  \n",
       "2354                  10         a  None    None   None  None  \n",
       "2355                  10      None  None    None   None  None  \n",
       "\n",
       "[2356 rows x 17 columns]"
      ]
     },
     "execution_count": 8,
     "metadata": {},
     "output_type": "execute_result"
    }
   ],
   "source": [
    "twitter_archive"
   ]
  },
  {
   "cell_type": "code",
   "execution_count": 9,
   "id": "ea28feeb",
   "metadata": {},
   "outputs": [
    {
     "data": {
      "text/html": [
       "<div>\n",
       "<style scoped>\n",
       "    .dataframe tbody tr th:only-of-type {\n",
       "        vertical-align: middle;\n",
       "    }\n",
       "\n",
       "    .dataframe tbody tr th {\n",
       "        vertical-align: top;\n",
       "    }\n",
       "\n",
       "    .dataframe thead th {\n",
       "        text-align: right;\n",
       "    }\n",
       "</style>\n",
       "<table border=\"1\" class=\"dataframe\">\n",
       "  <thead>\n",
       "    <tr style=\"text-align: right;\">\n",
       "      <th></th>\n",
       "      <th>tweet_id</th>\n",
       "      <th>in_reply_to_status_id</th>\n",
       "      <th>in_reply_to_user_id</th>\n",
       "      <th>timestamp</th>\n",
       "      <th>source</th>\n",
       "      <th>text</th>\n",
       "      <th>retweeted_status_id</th>\n",
       "      <th>retweeted_status_user_id</th>\n",
       "      <th>retweeted_status_timestamp</th>\n",
       "      <th>expanded_urls</th>\n",
       "      <th>rating_numerator</th>\n",
       "      <th>rating_denominator</th>\n",
       "      <th>name</th>\n",
       "      <th>doggo</th>\n",
       "      <th>floofer</th>\n",
       "      <th>pupper</th>\n",
       "      <th>puppo</th>\n",
       "    </tr>\n",
       "  </thead>\n",
       "  <tbody>\n",
       "    <tr>\n",
       "      <th>1229</th>\n",
       "      <td>713761197720473600</td>\n",
       "      <td>NaN</td>\n",
       "      <td>NaN</td>\n",
       "      <td>2016-03-26 16:15:05 +0000</td>\n",
       "      <td>&lt;a href=\"http://twitter.com/download/iphone\" r...</td>\n",
       "      <td>This is Piper. She would really like that tenn...</td>\n",
       "      <td>NaN</td>\n",
       "      <td>NaN</td>\n",
       "      <td>NaN</td>\n",
       "      <td>https://twitter.com/dog_rates/status/713761197...</td>\n",
       "      <td>12</td>\n",
       "      <td>10</td>\n",
       "      <td>Piper</td>\n",
       "      <td>None</td>\n",
       "      <td>None</td>\n",
       "      <td>None</td>\n",
       "      <td>None</td>\n",
       "    </tr>\n",
       "  </tbody>\n",
       "</table>\n",
       "</div>"
      ],
      "text/plain": [
       "                tweet_id  in_reply_to_status_id  in_reply_to_user_id  \\\n",
       "1229  713761197720473600                    NaN                  NaN   \n",
       "\n",
       "                      timestamp  \\\n",
       "1229  2016-03-26 16:15:05 +0000   \n",
       "\n",
       "                                                 source  \\\n",
       "1229  <a href=\"http://twitter.com/download/iphone\" r...   \n",
       "\n",
       "                                                   text  retweeted_status_id  \\\n",
       "1229  This is Piper. She would really like that tenn...                  NaN   \n",
       "\n",
       "      retweeted_status_user_id retweeted_status_timestamp  \\\n",
       "1229                       NaN                        NaN   \n",
       "\n",
       "                                          expanded_urls  rating_numerator  \\\n",
       "1229  https://twitter.com/dog_rates/status/713761197...                12   \n",
       "\n",
       "      rating_denominator   name doggo floofer pupper puppo  \n",
       "1229                  10  Piper  None    None   None  None  "
      ]
     },
     "execution_count": 9,
     "metadata": {},
     "output_type": "execute_result"
    }
   ],
   "source": [
    "twitter_archive.sample()"
   ]
  },
  {
   "cell_type": "code",
   "execution_count": 10,
   "id": "b2bb6f88",
   "metadata": {},
   "outputs": [
    {
     "data": {
      "text/plain": [
       "'<a href=\"http://twitter.com/download/iphone\" rel=\"nofollow\">Twitter for iPhone</a>'"
      ]
     },
     "execution_count": 10,
     "metadata": {},
     "output_type": "execute_result"
    }
   ],
   "source": [
    "[text for text in twitter_archive.source][0]"
   ]
  },
  {
   "cell_type": "markdown",
   "id": "c89cf6f9",
   "metadata": {},
   "source": [
    "The `source` column is in html format and not easily usable for analysis  \n",
    "We should extract two variables from the sources column: html address & name of page (Quality issues).    \n",
    "Then store these values in two new columns. "
   ]
  },
  {
   "cell_type": "markdown",
   "id": "3b3da914",
   "metadata": {},
   "source": [
    "### Programmatic assessment:"
   ]
  },
  {
   "cell_type": "code",
   "execution_count": 11,
   "id": "988760ce",
   "metadata": {},
   "outputs": [
    {
     "data": {
      "text/plain": [
       "(2356, 17)"
      ]
     },
     "execution_count": 11,
     "metadata": {},
     "output_type": "execute_result"
    }
   ],
   "source": [
    "twitter_archive.shape"
   ]
  },
  {
   "cell_type": "code",
   "execution_count": 12,
   "id": "130000f0",
   "metadata": {},
   "outputs": [
    {
     "data": {
      "text/html": [
       "<div>\n",
       "<style scoped>\n",
       "    .dataframe tbody tr th:only-of-type {\n",
       "        vertical-align: middle;\n",
       "    }\n",
       "\n",
       "    .dataframe tbody tr th {\n",
       "        vertical-align: top;\n",
       "    }\n",
       "\n",
       "    .dataframe thead th {\n",
       "        text-align: right;\n",
       "    }\n",
       "</style>\n",
       "<table border=\"1\" class=\"dataframe\">\n",
       "  <thead>\n",
       "    <tr style=\"text-align: right;\">\n",
       "      <th></th>\n",
       "      <th>tweet_id</th>\n",
       "      <th>in_reply_to_status_id</th>\n",
       "      <th>in_reply_to_user_id</th>\n",
       "      <th>retweeted_status_id</th>\n",
       "      <th>retweeted_status_user_id</th>\n",
       "      <th>rating_numerator</th>\n",
       "      <th>rating_denominator</th>\n",
       "    </tr>\n",
       "  </thead>\n",
       "  <tbody>\n",
       "    <tr>\n",
       "      <th>count</th>\n",
       "      <td>2.356000e+03</td>\n",
       "      <td>7.800000e+01</td>\n",
       "      <td>7.800000e+01</td>\n",
       "      <td>1.810000e+02</td>\n",
       "      <td>1.810000e+02</td>\n",
       "      <td>2356.000000</td>\n",
       "      <td>2356.000000</td>\n",
       "    </tr>\n",
       "    <tr>\n",
       "      <th>mean</th>\n",
       "      <td>7.427716e+17</td>\n",
       "      <td>7.455079e+17</td>\n",
       "      <td>2.014171e+16</td>\n",
       "      <td>7.720400e+17</td>\n",
       "      <td>1.241698e+16</td>\n",
       "      <td>13.126486</td>\n",
       "      <td>10.455433</td>\n",
       "    </tr>\n",
       "    <tr>\n",
       "      <th>std</th>\n",
       "      <td>6.856705e+16</td>\n",
       "      <td>7.582492e+16</td>\n",
       "      <td>1.252797e+17</td>\n",
       "      <td>6.236928e+16</td>\n",
       "      <td>9.599254e+16</td>\n",
       "      <td>45.876648</td>\n",
       "      <td>6.745237</td>\n",
       "    </tr>\n",
       "    <tr>\n",
       "      <th>min</th>\n",
       "      <td>6.660209e+17</td>\n",
       "      <td>6.658147e+17</td>\n",
       "      <td>1.185634e+07</td>\n",
       "      <td>6.661041e+17</td>\n",
       "      <td>7.832140e+05</td>\n",
       "      <td>0.000000</td>\n",
       "      <td>0.000000</td>\n",
       "    </tr>\n",
       "    <tr>\n",
       "      <th>25%</th>\n",
       "      <td>6.783989e+17</td>\n",
       "      <td>6.757419e+17</td>\n",
       "      <td>3.086374e+08</td>\n",
       "      <td>7.186315e+17</td>\n",
       "      <td>4.196984e+09</td>\n",
       "      <td>10.000000</td>\n",
       "      <td>10.000000</td>\n",
       "    </tr>\n",
       "    <tr>\n",
       "      <th>50%</th>\n",
       "      <td>7.196279e+17</td>\n",
       "      <td>7.038708e+17</td>\n",
       "      <td>4.196984e+09</td>\n",
       "      <td>7.804657e+17</td>\n",
       "      <td>4.196984e+09</td>\n",
       "      <td>11.000000</td>\n",
       "      <td>10.000000</td>\n",
       "    </tr>\n",
       "    <tr>\n",
       "      <th>75%</th>\n",
       "      <td>7.993373e+17</td>\n",
       "      <td>8.257804e+17</td>\n",
       "      <td>4.196984e+09</td>\n",
       "      <td>8.203146e+17</td>\n",
       "      <td>4.196984e+09</td>\n",
       "      <td>12.000000</td>\n",
       "      <td>10.000000</td>\n",
       "    </tr>\n",
       "    <tr>\n",
       "      <th>max</th>\n",
       "      <td>8.924206e+17</td>\n",
       "      <td>8.862664e+17</td>\n",
       "      <td>8.405479e+17</td>\n",
       "      <td>8.874740e+17</td>\n",
       "      <td>7.874618e+17</td>\n",
       "      <td>1776.000000</td>\n",
       "      <td>170.000000</td>\n",
       "    </tr>\n",
       "  </tbody>\n",
       "</table>\n",
       "</div>"
      ],
      "text/plain": [
       "           tweet_id  in_reply_to_status_id  in_reply_to_user_id  \\\n",
       "count  2.356000e+03           7.800000e+01         7.800000e+01   \n",
       "mean   7.427716e+17           7.455079e+17         2.014171e+16   \n",
       "std    6.856705e+16           7.582492e+16         1.252797e+17   \n",
       "min    6.660209e+17           6.658147e+17         1.185634e+07   \n",
       "25%    6.783989e+17           6.757419e+17         3.086374e+08   \n",
       "50%    7.196279e+17           7.038708e+17         4.196984e+09   \n",
       "75%    7.993373e+17           8.257804e+17         4.196984e+09   \n",
       "max    8.924206e+17           8.862664e+17         8.405479e+17   \n",
       "\n",
       "       retweeted_status_id  retweeted_status_user_id  rating_numerator  \\\n",
       "count         1.810000e+02              1.810000e+02       2356.000000   \n",
       "mean          7.720400e+17              1.241698e+16         13.126486   \n",
       "std           6.236928e+16              9.599254e+16         45.876648   \n",
       "min           6.661041e+17              7.832140e+05          0.000000   \n",
       "25%           7.186315e+17              4.196984e+09         10.000000   \n",
       "50%           7.804657e+17              4.196984e+09         11.000000   \n",
       "75%           8.203146e+17              4.196984e+09         12.000000   \n",
       "max           8.874740e+17              7.874618e+17       1776.000000   \n",
       "\n",
       "       rating_denominator  \n",
       "count         2356.000000  \n",
       "mean            10.455433  \n",
       "std              6.745237  \n",
       "min              0.000000  \n",
       "25%             10.000000  \n",
       "50%             10.000000  \n",
       "75%             10.000000  \n",
       "max            170.000000  "
      ]
     },
     "execution_count": 12,
     "metadata": {},
     "output_type": "execute_result"
    }
   ],
   "source": [
    "twitter_archive.describe()"
   ]
  },
  {
   "cell_type": "markdown",
   "id": "36432727",
   "metadata": {},
   "source": [
    "Why is there a rating numerator of 1776? Let's have a look at the related text..."
   ]
  },
  {
   "cell_type": "code",
   "execution_count": 13,
   "id": "761608db",
   "metadata": {},
   "outputs": [
    {
     "data": {
      "text/plain": [
       "[\"This is Atticus. He's quite simply America af. 1776/10 https://t.co/GRXwMxLBkh\"]"
      ]
     },
     "execution_count": 13,
     "metadata": {},
     "output_type": "execute_result"
    }
   ],
   "source": [
    "twitter_archive.rating_numerator.max()\n",
    "max_rating_row = twitter_archive[twitter_archive.rating_numerator == twitter_archive.rating_numerator.max()]\n",
    "[text for text in max_rating_row.text]"
   ]
  },
  {
   "cell_type": "markdown",
   "id": "ac9a0812",
   "metadata": {},
   "source": [
    "Checking the associated picture, this is an amusing reference to the date of the United States Declaration of Independence.\n",
    "We should remove this item before analysis."
   ]
  },
  {
   "cell_type": "code",
   "execution_count": 14,
   "id": "6f01f822",
   "metadata": {},
   "outputs": [
    {
     "name": "stdout",
     "output_type": "stream",
     "text": [
      "<class 'pandas.core.frame.DataFrame'>\n",
      "RangeIndex: 2356 entries, 0 to 2355\n",
      "Data columns (total 17 columns):\n",
      " #   Column                      Non-Null Count  Dtype  \n",
      "---  ------                      --------------  -----  \n",
      " 0   tweet_id                    2356 non-null   int64  \n",
      " 1   in_reply_to_status_id       78 non-null     float64\n",
      " 2   in_reply_to_user_id         78 non-null     float64\n",
      " 3   timestamp                   2356 non-null   object \n",
      " 4   source                      2356 non-null   object \n",
      " 5   text                        2356 non-null   object \n",
      " 6   retweeted_status_id         181 non-null    float64\n",
      " 7   retweeted_status_user_id    181 non-null    float64\n",
      " 8   retweeted_status_timestamp  181 non-null    object \n",
      " 9   expanded_urls               2297 non-null   object \n",
      " 10  rating_numerator            2356 non-null   int64  \n",
      " 11  rating_denominator          2356 non-null   int64  \n",
      " 12  name                        2356 non-null   object \n",
      " 13  doggo                       2356 non-null   object \n",
      " 14  floofer                     2356 non-null   object \n",
      " 15  pupper                      2356 non-null   object \n",
      " 16  puppo                       2356 non-null   object \n",
      "dtypes: float64(4), int64(3), object(10)\n",
      "memory usage: 313.0+ KB\n"
     ]
    }
   ],
   "source": [
    "twitter_archive.info()"
   ]
  },
  {
   "cell_type": "markdown",
   "id": "fc2e6e25",
   "metadata": {},
   "source": [
    "We need to change to \"Timestamp\" column to datetime datatype (quality) and split into \"time\" and \"date\" columns. (Tidiness issue).\n",
    "\n",
    "We need to make a single column \"stage\" and record the stage of dog. Then, drop the doggo, floofer, pupper & puppo columns. (Tidiness issue)."
   ]
  },
  {
   "cell_type": "markdown",
   "id": "2eea4ac7",
   "metadata": {},
   "source": [
    "Retweets should be removed ( https://knowledge.udacity.com/questions/79100 ). Afterwards, the retweets columns and associated columns should be removed.\n",
    "\n",
    "Replies to other users should be removed as the \"Project Motivation\" states that we \"only want original ratings\".  (See also: https://knowledge.udacity.com/questions/79100 ). \n",
    "\n"
   ]
  },
  {
   "cell_type": "code",
   "execution_count": 15,
   "id": "fdb5cd5f",
   "metadata": {},
   "outputs": [
    {
     "data": {
      "text/plain": [
       "False    2333\n",
       "True       23\n",
       "Name: rating_denominator, dtype: int64"
      ]
     },
     "execution_count": 15,
     "metadata": {},
     "output_type": "execute_result"
    }
   ],
   "source": [
    "(twitter_archive.rating_denominator != 10).value_counts()"
   ]
  },
  {
   "cell_type": "markdown",
   "id": "928d17ad",
   "metadata": {},
   "source": [
    "We're expecting all the denominators to be 10. Something isn't right. What?"
   ]
  },
  {
   "cell_type": "code",
   "execution_count": 16,
   "id": "32c38d4e",
   "metadata": {},
   "outputs": [
    {
     "name": "stdout",
     "output_type": "stream",
     "text": [
      "[\"@jonnysun @Lin_Manuel ok jomny I know you're excited but 960/00 isn't a valid rating, 13/10 is tho\"]\n",
      "['@docmisterio account started on 11/15/15']\n",
      "['The floofs have been released I repeat the floofs have been released. 84/70 https://t.co/NIYC820tmd']\n",
      "['Meet Sam. She smiles 24/7 &amp; secretly aspires to be a reindeer. \\nKeep Sam smiling by clicking and sharing this link:\\nhttps://t.co/98tB8y7y7t https://t.co/LouL5vdvxx']\n",
      "['RT @dog_rates: After so many requests, this is Bretagne. She was the last surviving 9/11 search dog, and our second ever 14/10. RIP https:/…']\n",
      "['Why does this never happen at my front door... 165/150 https://t.co/HmwrdfEfUE']\n",
      "['After so many requests, this is Bretagne. She was the last surviving 9/11 search dog, and our second ever 14/10. RIP https://t.co/XAVDNDaVgQ']\n",
      "['Say hello to this unbelievably well behaved squad of doggos. 204/170 would try to pet all at once https://t.co/yGQI3He3xv']\n",
      "['Happy 4/20 from the squad! 13/10 for all https://t.co/eV1diwds8a']\n",
      "['This is Bluebert. He just saw that both #FinalFur match ups are split 50/50. Amazed af. 11/10 https://t.co/Kky1DPG4iq']\n",
      "[\"Happy Saturday here's 9 puppers on a bench. 99/90 good work everybody https://t.co/mpvaVxKmc1\"]\n",
      "[\"Here's a brigade of puppers. All look very prepared for whatever happens next. 80/80 https://t.co/0eb7R1Om12\"]\n",
      "['From left to right:\\nCletus, Jerome, Alejandro, Burp, &amp; Titson\\nNone know where camera is. 45/50 would hug all at once https://t.co/sedre1ivTK']\n",
      "[\"Here is a whole flock of puppers.  60/50 I'll take the lot https://t.co/9dpcw6MdWa\"]\n",
      "[\"Happy Wednesday here's a bucket of pups. 44/40 would pet all at once https://t.co/HppvrYuamZ\"]\n",
      "[\"Yes I do realize a rating of 4/20 would've been fitting. However, it would be unjust to give these cooperative pups that low of a rating\"]\n",
      "['Two sneaky puppers were not initially seen, moving the rating to 143/130. Please forgive us. Thank you https://t.co/kRK51Y5ac3']\n",
      "['Someone help the girl is being mugged. Several are distracting her while two steal her shoes. Clever puppers 121/110 https://t.co/1zfnTJLt55']\n",
      "['This is Darrel. He just robbed a 7/11 and is in a high speed police chase. Was just spotted by the helicopter 10/10 https://t.co/7EsP8LmSp5']\n",
      "[\"I'm aware that I could've said 20/16, but here at WeRateDogs we are very professional. An inconsistent rating scale is simply irresponsible\"]\n",
      "[\"IT'S PUPPERGEDDON. Total of 144/120 ...I think https://t.co/ZanVtAtvIq\"]\n",
      "['Here we have an entire platoon of puppers. Total score: 88/80 would pet all at once https://t.co/y93p6FLvVw']\n",
      "['This is an Albanian 3 1/2 legged  Episcopalian. Loves well-polished hardwood flooring. Penis on the collar. 9/10 https://t.co/d9NcXFKwLv']\n"
     ]
    }
   ],
   "source": [
    "for text in (twitter_archive[['text']][twitter_archive.rating_denominator != 10].values):\n",
    "    print(text)"
   ]
  },
  {
   "cell_type": "markdown",
   "id": "2f7ab2e5",
   "metadata": {},
   "source": [
    "Values that are not ratings (e.g., some are dates) have ended up in the denominator column. As there are only 23 incorrect items, these rows can just be removed."
   ]
  },
  {
   "cell_type": "markdown",
   "id": "56e20bcc",
   "metadata": {},
   "source": [
    "`image_predictions`\n",
    "---------------"
   ]
  },
  {
   "cell_type": "code",
   "execution_count": 17,
   "id": "c7272ec1",
   "metadata": {},
   "outputs": [
    {
     "data": {
      "text/html": [
       "<div>\n",
       "<style scoped>\n",
       "    .dataframe tbody tr th:only-of-type {\n",
       "        vertical-align: middle;\n",
       "    }\n",
       "\n",
       "    .dataframe tbody tr th {\n",
       "        vertical-align: top;\n",
       "    }\n",
       "\n",
       "    .dataframe thead th {\n",
       "        text-align: right;\n",
       "    }\n",
       "</style>\n",
       "<table border=\"1\" class=\"dataframe\">\n",
       "  <thead>\n",
       "    <tr style=\"text-align: right;\">\n",
       "      <th></th>\n",
       "      <th>tweet_id</th>\n",
       "      <th>jpg_url</th>\n",
       "      <th>img_num</th>\n",
       "      <th>p1</th>\n",
       "      <th>p1_conf</th>\n",
       "      <th>p1_dog</th>\n",
       "      <th>p2</th>\n",
       "      <th>p2_conf</th>\n",
       "      <th>p2_dog</th>\n",
       "      <th>p3</th>\n",
       "      <th>p3_conf</th>\n",
       "      <th>p3_dog</th>\n",
       "    </tr>\n",
       "  </thead>\n",
       "  <tbody>\n",
       "    <tr>\n",
       "      <th>0</th>\n",
       "      <td>666020888022790149</td>\n",
       "      <td>https://pbs.twimg.com/media/CT4udn0WwAA0aMy.jpg</td>\n",
       "      <td>1</td>\n",
       "      <td>Welsh_springer_spaniel</td>\n",
       "      <td>0.465074</td>\n",
       "      <td>True</td>\n",
       "      <td>collie</td>\n",
       "      <td>0.156665</td>\n",
       "      <td>True</td>\n",
       "      <td>Shetland_sheepdog</td>\n",
       "      <td>0.061428</td>\n",
       "      <td>True</td>\n",
       "    </tr>\n",
       "    <tr>\n",
       "      <th>1</th>\n",
       "      <td>666029285002620928</td>\n",
       "      <td>https://pbs.twimg.com/media/CT42GRgUYAA5iDo.jpg</td>\n",
       "      <td>1</td>\n",
       "      <td>redbone</td>\n",
       "      <td>0.506826</td>\n",
       "      <td>True</td>\n",
       "      <td>miniature_pinscher</td>\n",
       "      <td>0.074192</td>\n",
       "      <td>True</td>\n",
       "      <td>Rhodesian_ridgeback</td>\n",
       "      <td>0.072010</td>\n",
       "      <td>True</td>\n",
       "    </tr>\n",
       "    <tr>\n",
       "      <th>2</th>\n",
       "      <td>666033412701032449</td>\n",
       "      <td>https://pbs.twimg.com/media/CT4521TWwAEvMyu.jpg</td>\n",
       "      <td>1</td>\n",
       "      <td>German_shepherd</td>\n",
       "      <td>0.596461</td>\n",
       "      <td>True</td>\n",
       "      <td>malinois</td>\n",
       "      <td>0.138584</td>\n",
       "      <td>True</td>\n",
       "      <td>bloodhound</td>\n",
       "      <td>0.116197</td>\n",
       "      <td>True</td>\n",
       "    </tr>\n",
       "    <tr>\n",
       "      <th>3</th>\n",
       "      <td>666044226329800704</td>\n",
       "      <td>https://pbs.twimg.com/media/CT5Dr8HUEAA-lEu.jpg</td>\n",
       "      <td>1</td>\n",
       "      <td>Rhodesian_ridgeback</td>\n",
       "      <td>0.408143</td>\n",
       "      <td>True</td>\n",
       "      <td>redbone</td>\n",
       "      <td>0.360687</td>\n",
       "      <td>True</td>\n",
       "      <td>miniature_pinscher</td>\n",
       "      <td>0.222752</td>\n",
       "      <td>True</td>\n",
       "    </tr>\n",
       "    <tr>\n",
       "      <th>4</th>\n",
       "      <td>666049248165822465</td>\n",
       "      <td>https://pbs.twimg.com/media/CT5IQmsXIAAKY4A.jpg</td>\n",
       "      <td>1</td>\n",
       "      <td>miniature_pinscher</td>\n",
       "      <td>0.560311</td>\n",
       "      <td>True</td>\n",
       "      <td>Rottweiler</td>\n",
       "      <td>0.243682</td>\n",
       "      <td>True</td>\n",
       "      <td>Doberman</td>\n",
       "      <td>0.154629</td>\n",
       "      <td>True</td>\n",
       "    </tr>\n",
       "    <tr>\n",
       "      <th>...</th>\n",
       "      <td>...</td>\n",
       "      <td>...</td>\n",
       "      <td>...</td>\n",
       "      <td>...</td>\n",
       "      <td>...</td>\n",
       "      <td>...</td>\n",
       "      <td>...</td>\n",
       "      <td>...</td>\n",
       "      <td>...</td>\n",
       "      <td>...</td>\n",
       "      <td>...</td>\n",
       "      <td>...</td>\n",
       "    </tr>\n",
       "    <tr>\n",
       "      <th>2070</th>\n",
       "      <td>891327558926688256</td>\n",
       "      <td>https://pbs.twimg.com/media/DF6hr6BUMAAzZgT.jpg</td>\n",
       "      <td>2</td>\n",
       "      <td>basset</td>\n",
       "      <td>0.555712</td>\n",
       "      <td>True</td>\n",
       "      <td>English_springer</td>\n",
       "      <td>0.225770</td>\n",
       "      <td>True</td>\n",
       "      <td>German_short-haired_pointer</td>\n",
       "      <td>0.175219</td>\n",
       "      <td>True</td>\n",
       "    </tr>\n",
       "    <tr>\n",
       "      <th>2071</th>\n",
       "      <td>891689557279858688</td>\n",
       "      <td>https://pbs.twimg.com/media/DF_q7IAWsAEuuN8.jpg</td>\n",
       "      <td>1</td>\n",
       "      <td>paper_towel</td>\n",
       "      <td>0.170278</td>\n",
       "      <td>False</td>\n",
       "      <td>Labrador_retriever</td>\n",
       "      <td>0.168086</td>\n",
       "      <td>True</td>\n",
       "      <td>spatula</td>\n",
       "      <td>0.040836</td>\n",
       "      <td>False</td>\n",
       "    </tr>\n",
       "    <tr>\n",
       "      <th>2072</th>\n",
       "      <td>891815181378084864</td>\n",
       "      <td>https://pbs.twimg.com/media/DGBdLU1WsAANxJ9.jpg</td>\n",
       "      <td>1</td>\n",
       "      <td>Chihuahua</td>\n",
       "      <td>0.716012</td>\n",
       "      <td>True</td>\n",
       "      <td>malamute</td>\n",
       "      <td>0.078253</td>\n",
       "      <td>True</td>\n",
       "      <td>kelpie</td>\n",
       "      <td>0.031379</td>\n",
       "      <td>True</td>\n",
       "    </tr>\n",
       "    <tr>\n",
       "      <th>2073</th>\n",
       "      <td>892177421306343426</td>\n",
       "      <td>https://pbs.twimg.com/media/DGGmoV4XsAAUL6n.jpg</td>\n",
       "      <td>1</td>\n",
       "      <td>Chihuahua</td>\n",
       "      <td>0.323581</td>\n",
       "      <td>True</td>\n",
       "      <td>Pekinese</td>\n",
       "      <td>0.090647</td>\n",
       "      <td>True</td>\n",
       "      <td>papillon</td>\n",
       "      <td>0.068957</td>\n",
       "      <td>True</td>\n",
       "    </tr>\n",
       "    <tr>\n",
       "      <th>2074</th>\n",
       "      <td>892420643555336193</td>\n",
       "      <td>https://pbs.twimg.com/media/DGKD1-bXoAAIAUK.jpg</td>\n",
       "      <td>1</td>\n",
       "      <td>orange</td>\n",
       "      <td>0.097049</td>\n",
       "      <td>False</td>\n",
       "      <td>bagel</td>\n",
       "      <td>0.085851</td>\n",
       "      <td>False</td>\n",
       "      <td>banana</td>\n",
       "      <td>0.076110</td>\n",
       "      <td>False</td>\n",
       "    </tr>\n",
       "  </tbody>\n",
       "</table>\n",
       "<p>2075 rows × 12 columns</p>\n",
       "</div>"
      ],
      "text/plain": [
       "                tweet_id                                          jpg_url  \\\n",
       "0     666020888022790149  https://pbs.twimg.com/media/CT4udn0WwAA0aMy.jpg   \n",
       "1     666029285002620928  https://pbs.twimg.com/media/CT42GRgUYAA5iDo.jpg   \n",
       "2     666033412701032449  https://pbs.twimg.com/media/CT4521TWwAEvMyu.jpg   \n",
       "3     666044226329800704  https://pbs.twimg.com/media/CT5Dr8HUEAA-lEu.jpg   \n",
       "4     666049248165822465  https://pbs.twimg.com/media/CT5IQmsXIAAKY4A.jpg   \n",
       "...                  ...                                              ...   \n",
       "2070  891327558926688256  https://pbs.twimg.com/media/DF6hr6BUMAAzZgT.jpg   \n",
       "2071  891689557279858688  https://pbs.twimg.com/media/DF_q7IAWsAEuuN8.jpg   \n",
       "2072  891815181378084864  https://pbs.twimg.com/media/DGBdLU1WsAANxJ9.jpg   \n",
       "2073  892177421306343426  https://pbs.twimg.com/media/DGGmoV4XsAAUL6n.jpg   \n",
       "2074  892420643555336193  https://pbs.twimg.com/media/DGKD1-bXoAAIAUK.jpg   \n",
       "\n",
       "      img_num                      p1   p1_conf  p1_dog                  p2  \\\n",
       "0           1  Welsh_springer_spaniel  0.465074    True              collie   \n",
       "1           1                 redbone  0.506826    True  miniature_pinscher   \n",
       "2           1         German_shepherd  0.596461    True            malinois   \n",
       "3           1     Rhodesian_ridgeback  0.408143    True             redbone   \n",
       "4           1      miniature_pinscher  0.560311    True          Rottweiler   \n",
       "...       ...                     ...       ...     ...                 ...   \n",
       "2070        2                  basset  0.555712    True    English_springer   \n",
       "2071        1             paper_towel  0.170278   False  Labrador_retriever   \n",
       "2072        1               Chihuahua  0.716012    True            malamute   \n",
       "2073        1               Chihuahua  0.323581    True            Pekinese   \n",
       "2074        1                  orange  0.097049   False               bagel   \n",
       "\n",
       "       p2_conf  p2_dog                           p3   p3_conf  p3_dog  \n",
       "0     0.156665    True            Shetland_sheepdog  0.061428    True  \n",
       "1     0.074192    True          Rhodesian_ridgeback  0.072010    True  \n",
       "2     0.138584    True                   bloodhound  0.116197    True  \n",
       "3     0.360687    True           miniature_pinscher  0.222752    True  \n",
       "4     0.243682    True                     Doberman  0.154629    True  \n",
       "...        ...     ...                          ...       ...     ...  \n",
       "2070  0.225770    True  German_short-haired_pointer  0.175219    True  \n",
       "2071  0.168086    True                      spatula  0.040836   False  \n",
       "2072  0.078253    True                       kelpie  0.031379    True  \n",
       "2073  0.090647    True                     papillon  0.068957    True  \n",
       "2074  0.085851   False                       banana  0.076110   False  \n",
       "\n",
       "[2075 rows x 12 columns]"
      ]
     },
     "execution_count": 17,
     "metadata": {},
     "output_type": "execute_result"
    }
   ],
   "source": [
    "image_predictions"
   ]
  },
  {
   "cell_type": "code",
   "execution_count": 18,
   "id": "de94aa6d",
   "metadata": {},
   "outputs": [
    {
     "data": {
      "text/plain": [
       "(2075, 12)"
      ]
     },
     "execution_count": 18,
     "metadata": {},
     "output_type": "execute_result"
    }
   ],
   "source": [
    "image_predictions.shape"
   ]
  },
  {
   "cell_type": "code",
   "execution_count": 19,
   "id": "534cffd8",
   "metadata": {},
   "outputs": [
    {
     "name": "stdout",
     "output_type": "stream",
     "text": [
      "<class 'pandas.core.frame.DataFrame'>\n",
      "RangeIndex: 2075 entries, 0 to 2074\n",
      "Data columns (total 12 columns):\n",
      " #   Column    Non-Null Count  Dtype  \n",
      "---  ------    --------------  -----  \n",
      " 0   tweet_id  2075 non-null   int64  \n",
      " 1   jpg_url   2075 non-null   object \n",
      " 2   img_num   2075 non-null   int64  \n",
      " 3   p1        2075 non-null   object \n",
      " 4   p1_conf   2075 non-null   float64\n",
      " 5   p1_dog    2075 non-null   bool   \n",
      " 6   p2        2075 non-null   object \n",
      " 7   p2_conf   2075 non-null   float64\n",
      " 8   p2_dog    2075 non-null   bool   \n",
      " 9   p3        2075 non-null   object \n",
      " 10  p3_conf   2075 non-null   float64\n",
      " 11  p3_dog    2075 non-null   bool   \n",
      "dtypes: bool(3), float64(3), int64(2), object(4)\n",
      "memory usage: 152.1+ KB\n"
     ]
    }
   ],
   "source": [
    "image_predictions.info()"
   ]
  },
  {
   "cell_type": "markdown",
   "id": "059bcf72",
   "metadata": {},
   "source": [
    "Are any images not identified as dogs?"
   ]
  },
  {
   "cell_type": "code",
   "execution_count": 20,
   "id": "b743fa0b",
   "metadata": {},
   "outputs": [
    {
     "data": {
      "text/plain": [
       "324"
      ]
     },
     "execution_count": 20,
     "metadata": {},
     "output_type": "execute_result"
    }
   ],
   "source": [
    "len(image_predictions[(image_predictions.p1_dog == False) & (image_predictions.p2_dog == False) & (image_predictions.p3_dog == False)])"
   ]
  },
  {
   "cell_type": "code",
   "execution_count": 21,
   "id": "d2645557",
   "metadata": {},
   "outputs": [
    {
     "data": {
      "text/html": [
       "<div>\n",
       "<style scoped>\n",
       "    .dataframe tbody tr th:only-of-type {\n",
       "        vertical-align: middle;\n",
       "    }\n",
       "\n",
       "    .dataframe tbody tr th {\n",
       "        vertical-align: top;\n",
       "    }\n",
       "\n",
       "    .dataframe thead th {\n",
       "        text-align: right;\n",
       "    }\n",
       "</style>\n",
       "<table border=\"1\" class=\"dataframe\">\n",
       "  <thead>\n",
       "    <tr style=\"text-align: right;\">\n",
       "      <th></th>\n",
       "      <th>tweet_id</th>\n",
       "      <th>jpg_url</th>\n",
       "      <th>img_num</th>\n",
       "      <th>p1</th>\n",
       "      <th>p1_conf</th>\n",
       "      <th>p1_dog</th>\n",
       "      <th>p2</th>\n",
       "      <th>p2_conf</th>\n",
       "      <th>p2_dog</th>\n",
       "      <th>p3</th>\n",
       "      <th>p3_conf</th>\n",
       "      <th>p3_dog</th>\n",
       "    </tr>\n",
       "  </thead>\n",
       "  <tbody>\n",
       "    <tr>\n",
       "      <th>6</th>\n",
       "      <td>666051853826850816</td>\n",
       "      <td>https://pbs.twimg.com/media/CT5KoJ1WoAAJash.jpg</td>\n",
       "      <td>1</td>\n",
       "      <td>box_turtle</td>\n",
       "      <td>0.933012</td>\n",
       "      <td>False</td>\n",
       "      <td>mud_turtle</td>\n",
       "      <td>0.045885</td>\n",
       "      <td>False</td>\n",
       "      <td>terrapin</td>\n",
       "      <td>0.017885</td>\n",
       "      <td>False</td>\n",
       "    </tr>\n",
       "    <tr>\n",
       "      <th>17</th>\n",
       "      <td>666104133288665088</td>\n",
       "      <td>https://pbs.twimg.com/media/CT56LSZWoAAlJj2.jpg</td>\n",
       "      <td>1</td>\n",
       "      <td>hen</td>\n",
       "      <td>0.965932</td>\n",
       "      <td>False</td>\n",
       "      <td>cock</td>\n",
       "      <td>0.033919</td>\n",
       "      <td>False</td>\n",
       "      <td>partridge</td>\n",
       "      <td>0.000052</td>\n",
       "      <td>False</td>\n",
       "    </tr>\n",
       "    <tr>\n",
       "      <th>18</th>\n",
       "      <td>666268910803644416</td>\n",
       "      <td>https://pbs.twimg.com/media/CT8QCd1WEAADXws.jpg</td>\n",
       "      <td>1</td>\n",
       "      <td>desktop_computer</td>\n",
       "      <td>0.086502</td>\n",
       "      <td>False</td>\n",
       "      <td>desk</td>\n",
       "      <td>0.085547</td>\n",
       "      <td>False</td>\n",
       "      <td>bookcase</td>\n",
       "      <td>0.079480</td>\n",
       "      <td>False</td>\n",
       "    </tr>\n",
       "    <tr>\n",
       "      <th>21</th>\n",
       "      <td>666293911632134144</td>\n",
       "      <td>https://pbs.twimg.com/media/CT8mx7KW4AEQu8N.jpg</td>\n",
       "      <td>1</td>\n",
       "      <td>three-toed_sloth</td>\n",
       "      <td>0.914671</td>\n",
       "      <td>False</td>\n",
       "      <td>otter</td>\n",
       "      <td>0.015250</td>\n",
       "      <td>False</td>\n",
       "      <td>great_grey_owl</td>\n",
       "      <td>0.013207</td>\n",
       "      <td>False</td>\n",
       "    </tr>\n",
       "    <tr>\n",
       "      <th>25</th>\n",
       "      <td>666362758909284353</td>\n",
       "      <td>https://pbs.twimg.com/media/CT9lXGsUcAAyUFt.jpg</td>\n",
       "      <td>1</td>\n",
       "      <td>guinea_pig</td>\n",
       "      <td>0.996496</td>\n",
       "      <td>False</td>\n",
       "      <td>skunk</td>\n",
       "      <td>0.002402</td>\n",
       "      <td>False</td>\n",
       "      <td>hamster</td>\n",
       "      <td>0.000461</td>\n",
       "      <td>False</td>\n",
       "    </tr>\n",
       "    <tr>\n",
       "      <th>...</th>\n",
       "      <td>...</td>\n",
       "      <td>...</td>\n",
       "      <td>...</td>\n",
       "      <td>...</td>\n",
       "      <td>...</td>\n",
       "      <td>...</td>\n",
       "      <td>...</td>\n",
       "      <td>...</td>\n",
       "      <td>...</td>\n",
       "      <td>...</td>\n",
       "      <td>...</td>\n",
       "      <td>...</td>\n",
       "    </tr>\n",
       "    <tr>\n",
       "      <th>2021</th>\n",
       "      <td>880935762899988482</td>\n",
       "      <td>https://pbs.twimg.com/media/DDm2Z5aXUAEDS2u.jpg</td>\n",
       "      <td>1</td>\n",
       "      <td>street_sign</td>\n",
       "      <td>0.251801</td>\n",
       "      <td>False</td>\n",
       "      <td>umbrella</td>\n",
       "      <td>0.115123</td>\n",
       "      <td>False</td>\n",
       "      <td>traffic_light</td>\n",
       "      <td>0.069534</td>\n",
       "      <td>False</td>\n",
       "    </tr>\n",
       "    <tr>\n",
       "      <th>2022</th>\n",
       "      <td>881268444196462592</td>\n",
       "      <td>https://pbs.twimg.com/media/DDrk-f9WAAI-WQv.jpg</td>\n",
       "      <td>1</td>\n",
       "      <td>tusker</td>\n",
       "      <td>0.473303</td>\n",
       "      <td>False</td>\n",
       "      <td>Indian_elephant</td>\n",
       "      <td>0.245646</td>\n",
       "      <td>False</td>\n",
       "      <td>ibex</td>\n",
       "      <td>0.055661</td>\n",
       "      <td>False</td>\n",
       "    </tr>\n",
       "    <tr>\n",
       "      <th>2046</th>\n",
       "      <td>886680336477933568</td>\n",
       "      <td>https://pbs.twimg.com/media/DE4fEDzWAAAyHMM.jpg</td>\n",
       "      <td>1</td>\n",
       "      <td>convertible</td>\n",
       "      <td>0.738995</td>\n",
       "      <td>False</td>\n",
       "      <td>sports_car</td>\n",
       "      <td>0.139952</td>\n",
       "      <td>False</td>\n",
       "      <td>car_wheel</td>\n",
       "      <td>0.044173</td>\n",
       "      <td>False</td>\n",
       "    </tr>\n",
       "    <tr>\n",
       "      <th>2052</th>\n",
       "      <td>887517139158093824</td>\n",
       "      <td>https://pbs.twimg.com/ext_tw_video_thumb/88751...</td>\n",
       "      <td>1</td>\n",
       "      <td>limousine</td>\n",
       "      <td>0.130432</td>\n",
       "      <td>False</td>\n",
       "      <td>tow_truck</td>\n",
       "      <td>0.029175</td>\n",
       "      <td>False</td>\n",
       "      <td>shopping_cart</td>\n",
       "      <td>0.026321</td>\n",
       "      <td>False</td>\n",
       "    </tr>\n",
       "    <tr>\n",
       "      <th>2074</th>\n",
       "      <td>892420643555336193</td>\n",
       "      <td>https://pbs.twimg.com/media/DGKD1-bXoAAIAUK.jpg</td>\n",
       "      <td>1</td>\n",
       "      <td>orange</td>\n",
       "      <td>0.097049</td>\n",
       "      <td>False</td>\n",
       "      <td>bagel</td>\n",
       "      <td>0.085851</td>\n",
       "      <td>False</td>\n",
       "      <td>banana</td>\n",
       "      <td>0.076110</td>\n",
       "      <td>False</td>\n",
       "    </tr>\n",
       "  </tbody>\n",
       "</table>\n",
       "<p>324 rows × 12 columns</p>\n",
       "</div>"
      ],
      "text/plain": [
       "                tweet_id                                            jpg_url  \\\n",
       "6     666051853826850816    https://pbs.twimg.com/media/CT5KoJ1WoAAJash.jpg   \n",
       "17    666104133288665088    https://pbs.twimg.com/media/CT56LSZWoAAlJj2.jpg   \n",
       "18    666268910803644416    https://pbs.twimg.com/media/CT8QCd1WEAADXws.jpg   \n",
       "21    666293911632134144    https://pbs.twimg.com/media/CT8mx7KW4AEQu8N.jpg   \n",
       "25    666362758909284353    https://pbs.twimg.com/media/CT9lXGsUcAAyUFt.jpg   \n",
       "...                  ...                                                ...   \n",
       "2021  880935762899988482    https://pbs.twimg.com/media/DDm2Z5aXUAEDS2u.jpg   \n",
       "2022  881268444196462592    https://pbs.twimg.com/media/DDrk-f9WAAI-WQv.jpg   \n",
       "2046  886680336477933568    https://pbs.twimg.com/media/DE4fEDzWAAAyHMM.jpg   \n",
       "2052  887517139158093824  https://pbs.twimg.com/ext_tw_video_thumb/88751...   \n",
       "2074  892420643555336193    https://pbs.twimg.com/media/DGKD1-bXoAAIAUK.jpg   \n",
       "\n",
       "      img_num                p1   p1_conf  p1_dog               p2   p2_conf  \\\n",
       "6           1        box_turtle  0.933012   False       mud_turtle  0.045885   \n",
       "17          1               hen  0.965932   False             cock  0.033919   \n",
       "18          1  desktop_computer  0.086502   False             desk  0.085547   \n",
       "21          1  three-toed_sloth  0.914671   False            otter  0.015250   \n",
       "25          1        guinea_pig  0.996496   False            skunk  0.002402   \n",
       "...       ...               ...       ...     ...              ...       ...   \n",
       "2021        1       street_sign  0.251801   False         umbrella  0.115123   \n",
       "2022        1            tusker  0.473303   False  Indian_elephant  0.245646   \n",
       "2046        1       convertible  0.738995   False       sports_car  0.139952   \n",
       "2052        1         limousine  0.130432   False        tow_truck  0.029175   \n",
       "2074        1            orange  0.097049   False            bagel  0.085851   \n",
       "\n",
       "      p2_dog              p3   p3_conf  p3_dog  \n",
       "6      False        terrapin  0.017885   False  \n",
       "17     False       partridge  0.000052   False  \n",
       "18     False        bookcase  0.079480   False  \n",
       "21     False  great_grey_owl  0.013207   False  \n",
       "25     False         hamster  0.000461   False  \n",
       "...      ...             ...       ...     ...  \n",
       "2021   False   traffic_light  0.069534   False  \n",
       "2022   False            ibex  0.055661   False  \n",
       "2046   False       car_wheel  0.044173   False  \n",
       "2052   False   shopping_cart  0.026321   False  \n",
       "2074   False          banana  0.076110   False  \n",
       "\n",
       "[324 rows x 12 columns]"
      ]
     },
     "execution_count": 21,
     "metadata": {},
     "output_type": "execute_result"
    }
   ],
   "source": [
    "image_predictions[(image_predictions.p1_dog == False) & (image_predictions.p2_dog == False) & (image_predictions.p3_dog == False)]"
   ]
  },
  {
   "cell_type": "markdown",
   "id": "e63c62c0",
   "metadata": {},
   "source": [
    "These should be removed."
   ]
  },
  {
   "cell_type": "code",
   "execution_count": 22,
   "id": "4be42e3a",
   "metadata": {},
   "outputs": [
    {
     "data": {
      "text/plain": [
       "1751"
      ]
     },
     "execution_count": 22,
     "metadata": {},
     "output_type": "execute_result"
    }
   ],
   "source": [
    "len(image_predictions[~((image_predictions.p1_dog == False) & (image_predictions.p2_dog == False) & (image_predictions.p3_dog == False))])"
   ]
  },
  {
   "cell_type": "markdown",
   "id": "46ad3e40",
   "metadata": {},
   "source": [
    "\n",
    "`dfTwitter`\n",
    "---------------"
   ]
  },
  {
   "cell_type": "code",
   "execution_count": 23,
   "id": "e53d11ef",
   "metadata": {},
   "outputs": [
    {
     "data": {
      "text/html": [
       "<div>\n",
       "<style scoped>\n",
       "    .dataframe tbody tr th:only-of-type {\n",
       "        vertical-align: middle;\n",
       "    }\n",
       "\n",
       "    .dataframe tbody tr th {\n",
       "        vertical-align: top;\n",
       "    }\n",
       "\n",
       "    .dataframe thead th {\n",
       "        text-align: right;\n",
       "    }\n",
       "</style>\n",
       "<table border=\"1\" class=\"dataframe\">\n",
       "  <thead>\n",
       "    <tr style=\"text-align: right;\">\n",
       "      <th></th>\n",
       "      <th>tweet_id</th>\n",
       "      <th>favorite_count</th>\n",
       "      <th>retweet_count</th>\n",
       "    </tr>\n",
       "  </thead>\n",
       "  <tbody>\n",
       "    <tr>\n",
       "      <th>0</th>\n",
       "      <td>892420643555336193</td>\n",
       "      <td>34636</td>\n",
       "      <td>7232</td>\n",
       "    </tr>\n",
       "    <tr>\n",
       "      <th>1</th>\n",
       "      <td>892177421306343426</td>\n",
       "      <td>30021</td>\n",
       "      <td>5419</td>\n",
       "    </tr>\n",
       "    <tr>\n",
       "      <th>2</th>\n",
       "      <td>891815181378084864</td>\n",
       "      <td>22599</td>\n",
       "      <td>3579</td>\n",
       "    </tr>\n",
       "    <tr>\n",
       "      <th>3</th>\n",
       "      <td>891689557279858688</td>\n",
       "      <td>37886</td>\n",
       "      <td>7435</td>\n",
       "    </tr>\n",
       "    <tr>\n",
       "      <th>4</th>\n",
       "      <td>891327558926688256</td>\n",
       "      <td>36162</td>\n",
       "      <td>7988</td>\n",
       "    </tr>\n",
       "    <tr>\n",
       "      <th>...</th>\n",
       "      <td>...</td>\n",
       "      <td>...</td>\n",
       "      <td>...</td>\n",
       "    </tr>\n",
       "    <tr>\n",
       "      <th>2323</th>\n",
       "      <td>666049248165822465</td>\n",
       "      <td>92</td>\n",
       "      <td>37</td>\n",
       "    </tr>\n",
       "    <tr>\n",
       "      <th>2324</th>\n",
       "      <td>666044226329800704</td>\n",
       "      <td>252</td>\n",
       "      <td>119</td>\n",
       "    </tr>\n",
       "    <tr>\n",
       "      <th>2325</th>\n",
       "      <td>666033412701032449</td>\n",
       "      <td>103</td>\n",
       "      <td>38</td>\n",
       "    </tr>\n",
       "    <tr>\n",
       "      <th>2326</th>\n",
       "      <td>666029285002620928</td>\n",
       "      <td>116</td>\n",
       "      <td>41</td>\n",
       "    </tr>\n",
       "    <tr>\n",
       "      <th>2327</th>\n",
       "      <td>666020888022790149</td>\n",
       "      <td>2329</td>\n",
       "      <td>439</td>\n",
       "    </tr>\n",
       "  </tbody>\n",
       "</table>\n",
       "<p>2328 rows × 3 columns</p>\n",
       "</div>"
      ],
      "text/plain": [
       "                tweet_id favorite_count retweet_count\n",
       "0     892420643555336193          34636          7232\n",
       "1     892177421306343426          30021          5419\n",
       "2     891815181378084864          22599          3579\n",
       "3     891689557279858688          37886          7435\n",
       "4     891327558926688256          36162          7988\n",
       "...                  ...            ...           ...\n",
       "2323  666049248165822465             92            37\n",
       "2324  666044226329800704            252           119\n",
       "2325  666033412701032449            103            38\n",
       "2326  666029285002620928            116            41\n",
       "2327  666020888022790149           2329           439\n",
       "\n",
       "[2328 rows x 3 columns]"
      ]
     },
     "execution_count": 23,
     "metadata": {},
     "output_type": "execute_result"
    }
   ],
   "source": [
    "dfTwitter"
   ]
  },
  {
   "cell_type": "code",
   "execution_count": 24,
   "id": "28925da4",
   "metadata": {},
   "outputs": [
    {
     "name": "stdout",
     "output_type": "stream",
     "text": [
      "<class 'pandas.core.frame.DataFrame'>\n",
      "RangeIndex: 2328 entries, 0 to 2327\n",
      "Data columns (total 3 columns):\n",
      " #   Column          Non-Null Count  Dtype \n",
      "---  ------          --------------  ----- \n",
      " 0   tweet_id        2328 non-null   object\n",
      " 1   favorite_count  2328 non-null   object\n",
      " 2   retweet_count   2328 non-null   object\n",
      "dtypes: object(3)\n",
      "memory usage: 54.7+ KB\n"
     ]
    }
   ],
   "source": [
    "dfTwitter.info()"
   ]
  },
  {
   "cell_type": "markdown",
   "id": "82c86aaf",
   "metadata": {},
   "source": [
    "We want to merge `dfTwitter` with `twitter_archive` using `tweet_id` as the key, so we must ensure the datatype for this column is consistent across the DataFrames, i.e., make them all int64. The other columns of `dfTwitter` will be used for data analysis. So these should also be changed to int64 format."
   ]
  },
  {
   "cell_type": "markdown",
   "id": "5f528a8e",
   "metadata": {},
   "source": [
    "## To do list based on assessment\n",
    "### Quality\n",
    "#### `twitter_archive` table\n",
    "1. Retweets should be removed. \n",
    "2. Remove retweets columns and associated columns.\n",
    "3. Replies to other users should be removed. \n",
    "4. `source` column:  \n",
    "i) Extract two variables from sources column: html address, name of page (quality)    \n",
    "ii) Store these values in two new columns (tidiness)  \n",
    "5. Change \"Timestamp\" column to datetime data type (quality); split into \"time\" and \"date\" columns (tidiness)\n",
    "6. Decide which of the four variables (doggo, floofer, pupper &\tpuppo) a dog actually belongs to (quality). Make a single column \"stage\" and record stage of dog; Drop doggo, floofer, pupper &\tpuppo columns (tidiness) \n",
    "7. Remove rows where the rating_denominator is not 10\n",
    "8. Remove rating_denominator column as the number is always 10. Rename rating_numerator column.\n",
    "9. Remove the row with the 1776 rating.\n",
    "\n",
    "#### `image_predictions` table\n",
    "1. Remove any image predictions that aren't dogs\n",
    "\n",
    "#### `dfTwitter` table\n",
    "1. Datatype of `tweet_id`, `retweet_count` and `favorite_count` in `dfTwitter` needs to be int64 \n",
    "                                                                   \n",
    "### Tidiness\n",
    "1. There are two variables in `source` column in `twitter_archive`: html address, name of page. Make two columns to contain these\n",
    "2. Merge the cleaned `dfTwitter` and  `twitter_archive` together and save as `twitter_archive_master.csv`\n",
    "3. The cleaned `image_predictions` dataframe should be saved separately in order to conform to Wickham, 2014: \"3. Each observational unit forms a table.\" \n"
   ]
  },
  {
   "cell_type": "markdown",
   "id": "48243d0f",
   "metadata": {},
   "source": [
    "# Clean"
   ]
  },
  {
   "cell_type": "markdown",
   "id": "f7ab080a",
   "metadata": {},
   "source": [
    "`twitter_archive`\n",
    "---------------"
   ]
  },
  {
   "cell_type": "markdown",
   "id": "cc795764",
   "metadata": {},
   "source": [
    "##### 1a) Define"
   ]
  },
  {
   "cell_type": "markdown",
   "id": "d3d8455f",
   "metadata": {},
   "source": [
    "Retweets should be removed. Reference: https://knowledge.udacity.com/questions/79100"
   ]
  },
  {
   "cell_type": "markdown",
   "id": "33bb5b1e",
   "metadata": {},
   "source": [
    "##### 1b) Code"
   ]
  },
  {
   "cell_type": "code",
   "execution_count": 25,
   "id": "e7b7ca79",
   "metadata": {},
   "outputs": [],
   "source": [
    "twitter_archive = (twitter_archive[~twitter_archive.retweeted_status_id.notna()])"
   ]
  },
  {
   "cell_type": "markdown",
   "id": "4fda048e",
   "metadata": {},
   "source": [
    "##### 1c) Test"
   ]
  },
  {
   "cell_type": "code",
   "execution_count": 26,
   "id": "449bea1d",
   "metadata": {},
   "outputs": [
    {
     "data": {
      "text/plain": [
       "0"
      ]
     },
     "execution_count": 26,
     "metadata": {},
     "output_type": "execute_result"
    }
   ],
   "source": [
    "len( twitter_archive[twitter_archive.retweeted_status_id.notna()] )"
   ]
  },
  {
   "cell_type": "markdown",
   "id": "7cf134e8",
   "metadata": {},
   "source": [
    "##### 2a) Define"
   ]
  },
  {
   "cell_type": "markdown",
   "id": "fa19402f",
   "metadata": {},
   "source": [
    "Remove retweets columns and associated columns"
   ]
  },
  {
   "cell_type": "markdown",
   "id": "b1ed5a6c",
   "metadata": {},
   "source": [
    "##### 2b) Code"
   ]
  },
  {
   "cell_type": "code",
   "execution_count": 27,
   "id": "a38cee03",
   "metadata": {},
   "outputs": [
    {
     "name": "stderr",
     "output_type": "stream",
     "text": [
      "C:\\Users\\renju\\Anaconda3\\envs\\udacity\\lib\\site-packages\\pandas\\core\\frame.py:4308: SettingWithCopyWarning: \n",
      "A value is trying to be set on a copy of a slice from a DataFrame\n",
      "\n",
      "See the caveats in the documentation: https://pandas.pydata.org/pandas-docs/stable/user_guide/indexing.html#returning-a-view-versus-a-copy\n",
      "  return super().drop(\n"
     ]
    }
   ],
   "source": [
    "twitter_archive.drop('retweeted_status_id', axis = 1, inplace = True)\n",
    "# Remove associated columns\n",
    "twitter_archive.drop('retweeted_status_timestamp', axis = 1, inplace = True)\n",
    "twitter_archive.drop('retweeted_status_user_id', axis = 1, inplace = True)"
   ]
  },
  {
   "cell_type": "markdown",
   "id": "1338baaf",
   "metadata": {},
   "source": [
    "#### 2c) Test"
   ]
  },
  {
   "cell_type": "code",
   "execution_count": 28,
   "id": "7d7908ea",
   "metadata": {},
   "outputs": [
    {
     "data": {
      "text/html": [
       "<div>\n",
       "<style scoped>\n",
       "    .dataframe tbody tr th:only-of-type {\n",
       "        vertical-align: middle;\n",
       "    }\n",
       "\n",
       "    .dataframe tbody tr th {\n",
       "        vertical-align: top;\n",
       "    }\n",
       "\n",
       "    .dataframe thead th {\n",
       "        text-align: right;\n",
       "    }\n",
       "</style>\n",
       "<table border=\"1\" class=\"dataframe\">\n",
       "  <thead>\n",
       "    <tr style=\"text-align: right;\">\n",
       "      <th></th>\n",
       "      <th>tweet_id</th>\n",
       "      <th>in_reply_to_status_id</th>\n",
       "      <th>in_reply_to_user_id</th>\n",
       "      <th>timestamp</th>\n",
       "      <th>source</th>\n",
       "      <th>text</th>\n",
       "      <th>expanded_urls</th>\n",
       "      <th>rating_numerator</th>\n",
       "      <th>rating_denominator</th>\n",
       "      <th>name</th>\n",
       "      <th>doggo</th>\n",
       "      <th>floofer</th>\n",
       "      <th>pupper</th>\n",
       "      <th>puppo</th>\n",
       "    </tr>\n",
       "  </thead>\n",
       "  <tbody>\n",
       "    <tr>\n",
       "      <th>0</th>\n",
       "      <td>892420643555336193</td>\n",
       "      <td>NaN</td>\n",
       "      <td>NaN</td>\n",
       "      <td>2017-08-01 16:23:56 +0000</td>\n",
       "      <td>&lt;a href=\"http://twitter.com/download/iphone\" r...</td>\n",
       "      <td>This is Phineas. He's a mystical boy. Only eve...</td>\n",
       "      <td>https://twitter.com/dog_rates/status/892420643...</td>\n",
       "      <td>13</td>\n",
       "      <td>10</td>\n",
       "      <td>Phineas</td>\n",
       "      <td>None</td>\n",
       "      <td>None</td>\n",
       "      <td>None</td>\n",
       "      <td>None</td>\n",
       "    </tr>\n",
       "  </tbody>\n",
       "</table>\n",
       "</div>"
      ],
      "text/plain": [
       "             tweet_id  in_reply_to_status_id  in_reply_to_user_id  \\\n",
       "0  892420643555336193                    NaN                  NaN   \n",
       "\n",
       "                   timestamp  \\\n",
       "0  2017-08-01 16:23:56 +0000   \n",
       "\n",
       "                                              source  \\\n",
       "0  <a href=\"http://twitter.com/download/iphone\" r...   \n",
       "\n",
       "                                                text  \\\n",
       "0  This is Phineas. He's a mystical boy. Only eve...   \n",
       "\n",
       "                                       expanded_urls  rating_numerator  \\\n",
       "0  https://twitter.com/dog_rates/status/892420643...                13   \n",
       "\n",
       "   rating_denominator     name doggo floofer pupper puppo  \n",
       "0                  10  Phineas  None    None   None  None  "
      ]
     },
     "execution_count": 28,
     "metadata": {},
     "output_type": "execute_result"
    }
   ],
   "source": [
    "twitter_archive.head(1)"
   ]
  },
  {
   "cell_type": "markdown",
   "id": "8328304e",
   "metadata": {},
   "source": [
    "##### 3a) Define"
   ]
  },
  {
   "cell_type": "markdown",
   "id": "cd47f030",
   "metadata": {},
   "source": [
    "Replies to other users should be removed. Reference: https://knowledge.udacity.com/questions/79100 . Also, \"Project Motivation\" states: \"You only want original ratings\"."
   ]
  },
  {
   "cell_type": "markdown",
   "id": "2646c674",
   "metadata": {},
   "source": [
    "##### 3b) Code"
   ]
  },
  {
   "cell_type": "code",
   "execution_count": 29,
   "id": "7a158d38",
   "metadata": {},
   "outputs": [],
   "source": [
    "twitter_archive = (twitter_archive[~twitter_archive.in_reply_to_status_id.notna()])\n",
    "twitter_archive.drop('in_reply_to_status_id', axis = 1, inplace = True)\n",
    "# Remove associated column(s)\n",
    "twitter_archive.drop('in_reply_to_user_id', axis = 1, inplace = True)"
   ]
  },
  {
   "cell_type": "markdown",
   "id": "c47e52cb",
   "metadata": {},
   "source": [
    "##### 3c) Test"
   ]
  },
  {
   "cell_type": "code",
   "execution_count": 30,
   "id": "a3cb53e8",
   "metadata": {},
   "outputs": [
    {
     "data": {
      "text/html": [
       "<div>\n",
       "<style scoped>\n",
       "    .dataframe tbody tr th:only-of-type {\n",
       "        vertical-align: middle;\n",
       "    }\n",
       "\n",
       "    .dataframe tbody tr th {\n",
       "        vertical-align: top;\n",
       "    }\n",
       "\n",
       "    .dataframe thead th {\n",
       "        text-align: right;\n",
       "    }\n",
       "</style>\n",
       "<table border=\"1\" class=\"dataframe\">\n",
       "  <thead>\n",
       "    <tr style=\"text-align: right;\">\n",
       "      <th></th>\n",
       "      <th>tweet_id</th>\n",
       "      <th>timestamp</th>\n",
       "      <th>source</th>\n",
       "      <th>text</th>\n",
       "      <th>expanded_urls</th>\n",
       "      <th>rating_numerator</th>\n",
       "      <th>rating_denominator</th>\n",
       "      <th>name</th>\n",
       "      <th>doggo</th>\n",
       "      <th>floofer</th>\n",
       "      <th>pupper</th>\n",
       "      <th>puppo</th>\n",
       "    </tr>\n",
       "  </thead>\n",
       "  <tbody>\n",
       "    <tr>\n",
       "      <th>0</th>\n",
       "      <td>892420643555336193</td>\n",
       "      <td>2017-08-01 16:23:56 +0000</td>\n",
       "      <td>&lt;a href=\"http://twitter.com/download/iphone\" r...</td>\n",
       "      <td>This is Phineas. He's a mystical boy. Only eve...</td>\n",
       "      <td>https://twitter.com/dog_rates/status/892420643...</td>\n",
       "      <td>13</td>\n",
       "      <td>10</td>\n",
       "      <td>Phineas</td>\n",
       "      <td>None</td>\n",
       "      <td>None</td>\n",
       "      <td>None</td>\n",
       "      <td>None</td>\n",
       "    </tr>\n",
       "  </tbody>\n",
       "</table>\n",
       "</div>"
      ],
      "text/plain": [
       "             tweet_id                  timestamp  \\\n",
       "0  892420643555336193  2017-08-01 16:23:56 +0000   \n",
       "\n",
       "                                              source  \\\n",
       "0  <a href=\"http://twitter.com/download/iphone\" r...   \n",
       "\n",
       "                                                text  \\\n",
       "0  This is Phineas. He's a mystical boy. Only eve...   \n",
       "\n",
       "                                       expanded_urls  rating_numerator  \\\n",
       "0  https://twitter.com/dog_rates/status/892420643...                13   \n",
       "\n",
       "   rating_denominator     name doggo floofer pupper puppo  \n",
       "0                  10  Phineas  None    None   None  None  "
      ]
     },
     "execution_count": 30,
     "metadata": {},
     "output_type": "execute_result"
    }
   ],
   "source": [
    "twitter_archive.head(1)"
   ]
  },
  {
   "cell_type": "markdown",
   "id": "edd5acd4",
   "metadata": {},
   "source": [
    "##### 4a) Define"
   ]
  },
  {
   "cell_type": "markdown",
   "id": "7e9d5f5f",
   "metadata": {},
   "source": [
    "i) Extract two variables from sources column: html address, name of page (Quality)  \n",
    "ii) Store these values in two new columns (Tidiness)"
   ]
  },
  {
   "cell_type": "markdown",
   "id": "f111b573",
   "metadata": {},
   "source": [
    "##### 4b) Code"
   ]
  },
  {
   "cell_type": "code",
   "execution_count": 31,
   "id": "6abf470f",
   "metadata": {},
   "outputs": [
    {
     "data": {
      "text/plain": [
       "array(['<a href=\"http://twitter.com/download/iphone\" rel=\"nofollow\">Twitter for iPhone</a>',\n",
       "       '<a href=\"http://twitter.com\" rel=\"nofollow\">Twitter Web Client</a>',\n",
       "       '<a href=\"http://vine.co\" rel=\"nofollow\">Vine - Make a Scene</a>',\n",
       "       '<a href=\"https://about.twitter.com/products/tweetdeck\" rel=\"nofollow\">TweetDeck</a>'],\n",
       "      dtype=object)"
      ]
     },
     "execution_count": 31,
     "metadata": {},
     "output_type": "execute_result"
    }
   ],
   "source": [
    "unique_sources = twitter_archive.source.unique()\n",
    "unique_sources"
   ]
  },
  {
   "cell_type": "markdown",
   "id": "4a3aa912",
   "metadata": {},
   "source": [
    "There are only two sets of 4 distinct values. The first set of 4 values are:"
   ]
  },
  {
   "cell_type": "code",
   "execution_count": 32,
   "id": "a4f5d663",
   "metadata": {},
   "outputs": [
    {
     "data": {
      "text/plain": [
       "['http://twitter.com/download/iphone',\n",
       " 'http://twitter.com',\n",
       " 'http://vine.co',\n",
       " 'https://about.twitter.com/products/tweetdeck']"
      ]
     },
     "execution_count": 32,
     "metadata": {},
     "output_type": "execute_result"
    }
   ],
   "source": [
    "unique_source_locs = [unique_source.split(\"\\\"\")[1] for unique_source in unique_sources]\n",
    "unique_source_locs"
   ]
  },
  {
   "cell_type": "markdown",
   "id": "42e3bdbd",
   "metadata": {},
   "source": [
    "The second set of 4 values are:"
   ]
  },
  {
   "cell_type": "code",
   "execution_count": 33,
   "id": "7c6f7cc1",
   "metadata": {},
   "outputs": [
    {
     "data": {
      "text/plain": [
       "['Twitter for iPhone',\n",
       " 'Twitter Web Client',\n",
       " 'Vine - Make a Scene',\n",
       " 'TweetDeck']"
      ]
     },
     "execution_count": 33,
     "metadata": {},
     "output_type": "execute_result"
    }
   ],
   "source": [
    "unique_source_names = [unique_source.split(\">\")[1][:-3] for unique_source in unique_sources]\n",
    "unique_source_names"
   ]
  },
  {
   "cell_type": "code",
   "execution_count": 34,
   "id": "9e35697a",
   "metadata": {},
   "outputs": [],
   "source": [
    "# Make two new columns & remove original column\n",
    "twitter_archive['source_name'] = twitter_archive.source\n",
    "twitter_archive['source_location'] = twitter_archive.source\n",
    "twitter_archive.drop('source', axis = 1, inplace = True)"
   ]
  },
  {
   "cell_type": "code",
   "execution_count": 35,
   "id": "2a903762",
   "metadata": {},
   "outputs": [],
   "source": [
    "for i in range(len(unique_sources)) :\n",
    "    twitter_archive['source_location'] = twitter_archive['source_location'].replace(unique_sources[i], unique_source_locs[i])\n",
    "    twitter_archive['source_name'] = twitter_archive['source_name'].replace(unique_sources[i], unique_source_names[i])"
   ]
  },
  {
   "cell_type": "markdown",
   "id": "e77b4cd7",
   "metadata": {},
   "source": [
    "##### 4c) Test"
   ]
  },
  {
   "cell_type": "code",
   "execution_count": 36,
   "id": "e6b7b0f0",
   "metadata": {},
   "outputs": [
    {
     "data": {
      "text/plain": [
       "array(['http://twitter.com/download/iphone', 'http://twitter.com',\n",
       "       'http://vine.co', 'https://about.twitter.com/products/tweetdeck'],\n",
       "      dtype=object)"
      ]
     },
     "execution_count": 36,
     "metadata": {},
     "output_type": "execute_result"
    }
   ],
   "source": [
    "twitter_archive.source_location.unique()"
   ]
  },
  {
   "cell_type": "code",
   "execution_count": 37,
   "id": "bc232735",
   "metadata": {},
   "outputs": [
    {
     "data": {
      "text/plain": [
       "array(['Twitter for iPhone', 'Twitter Web Client', 'Vine - Make a Scene',\n",
       "       'TweetDeck'], dtype=object)"
      ]
     },
     "execution_count": 37,
     "metadata": {},
     "output_type": "execute_result"
    }
   ],
   "source": [
    "twitter_archive.source_name.unique()"
   ]
  },
  {
   "cell_type": "code",
   "execution_count": 38,
   "id": "f170a30c",
   "metadata": {},
   "outputs": [
    {
     "data": {
      "text/html": [
       "<div>\n",
       "<style scoped>\n",
       "    .dataframe tbody tr th:only-of-type {\n",
       "        vertical-align: middle;\n",
       "    }\n",
       "\n",
       "    .dataframe tbody tr th {\n",
       "        vertical-align: top;\n",
       "    }\n",
       "\n",
       "    .dataframe thead th {\n",
       "        text-align: right;\n",
       "    }\n",
       "</style>\n",
       "<table border=\"1\" class=\"dataframe\">\n",
       "  <thead>\n",
       "    <tr style=\"text-align: right;\">\n",
       "      <th></th>\n",
       "      <th>tweet_id</th>\n",
       "      <th>timestamp</th>\n",
       "      <th>text</th>\n",
       "      <th>expanded_urls</th>\n",
       "      <th>rating_numerator</th>\n",
       "      <th>rating_denominator</th>\n",
       "      <th>name</th>\n",
       "      <th>doggo</th>\n",
       "      <th>floofer</th>\n",
       "      <th>pupper</th>\n",
       "      <th>puppo</th>\n",
       "      <th>source_name</th>\n",
       "      <th>source_location</th>\n",
       "    </tr>\n",
       "  </thead>\n",
       "  <tbody>\n",
       "    <tr>\n",
       "      <th>0</th>\n",
       "      <td>892420643555336193</td>\n",
       "      <td>2017-08-01 16:23:56 +0000</td>\n",
       "      <td>This is Phineas. He's a mystical boy. Only eve...</td>\n",
       "      <td>https://twitter.com/dog_rates/status/892420643...</td>\n",
       "      <td>13</td>\n",
       "      <td>10</td>\n",
       "      <td>Phineas</td>\n",
       "      <td>None</td>\n",
       "      <td>None</td>\n",
       "      <td>None</td>\n",
       "      <td>None</td>\n",
       "      <td>Twitter for iPhone</td>\n",
       "      <td>http://twitter.com/download/iphone</td>\n",
       "    </tr>\n",
       "  </tbody>\n",
       "</table>\n",
       "</div>"
      ],
      "text/plain": [
       "             tweet_id                  timestamp  \\\n",
       "0  892420643555336193  2017-08-01 16:23:56 +0000   \n",
       "\n",
       "                                                text  \\\n",
       "0  This is Phineas. He's a mystical boy. Only eve...   \n",
       "\n",
       "                                       expanded_urls  rating_numerator  \\\n",
       "0  https://twitter.com/dog_rates/status/892420643...                13   \n",
       "\n",
       "   rating_denominator     name doggo floofer pupper puppo         source_name  \\\n",
       "0                  10  Phineas  None    None   None  None  Twitter for iPhone   \n",
       "\n",
       "                      source_location  \n",
       "0  http://twitter.com/download/iphone  "
      ]
     },
     "execution_count": 38,
     "metadata": {},
     "output_type": "execute_result"
    }
   ],
   "source": [
    "twitter_archive.head(1)"
   ]
  },
  {
   "cell_type": "markdown",
   "id": "4be57bdd",
   "metadata": {},
   "source": [
    "##### 5a) Define\n",
    "Change \"Timestamp\" column to datetime data type (Quality) & split columns into \"Time\" and \"Date\" columns (Tidiness).\n",
    "Drop \"Timestamp\" column."
   ]
  },
  {
   "cell_type": "markdown",
   "id": "a67b95d1",
   "metadata": {},
   "source": [
    "##### 5b) Code"
   ]
  },
  {
   "cell_type": "code",
   "execution_count": 39,
   "id": "a1b71560",
   "metadata": {},
   "outputs": [],
   "source": [
    "twitter_archive['timestamp'] = pd.to_datetime(twitter_archive.timestamp.str[:-5])"
   ]
  },
  {
   "cell_type": "code",
   "execution_count": 40,
   "id": "f012a301",
   "metadata": {
    "scrolled": true
   },
   "outputs": [],
   "source": [
    "twitter_archive['time'] = [ val.time() for val in twitter_archive['timestamp'] ]"
   ]
  },
  {
   "cell_type": "code",
   "execution_count": 41,
   "id": "4b5c09de",
   "metadata": {},
   "outputs": [],
   "source": [
    "twitter_archive['date'] = [ val.date() for val in twitter_archive['timestamp'] ]"
   ]
  },
  {
   "cell_type": "code",
   "execution_count": 42,
   "id": "d90fea8b",
   "metadata": {},
   "outputs": [],
   "source": [
    "twitter_archive = twitter_archive.drop('timestamp', axis = 1)"
   ]
  },
  {
   "cell_type": "markdown",
   "id": "d15e38ab",
   "metadata": {},
   "source": [
    "##### 5c) Test"
   ]
  },
  {
   "cell_type": "code",
   "execution_count": 43,
   "id": "3091d9ca",
   "metadata": {},
   "outputs": [
    {
     "data": {
      "text/html": [
       "<div>\n",
       "<style scoped>\n",
       "    .dataframe tbody tr th:only-of-type {\n",
       "        vertical-align: middle;\n",
       "    }\n",
       "\n",
       "    .dataframe tbody tr th {\n",
       "        vertical-align: top;\n",
       "    }\n",
       "\n",
       "    .dataframe thead th {\n",
       "        text-align: right;\n",
       "    }\n",
       "</style>\n",
       "<table border=\"1\" class=\"dataframe\">\n",
       "  <thead>\n",
       "    <tr style=\"text-align: right;\">\n",
       "      <th></th>\n",
       "      <th>tweet_id</th>\n",
       "      <th>text</th>\n",
       "      <th>expanded_urls</th>\n",
       "      <th>rating_numerator</th>\n",
       "      <th>rating_denominator</th>\n",
       "      <th>name</th>\n",
       "      <th>doggo</th>\n",
       "      <th>floofer</th>\n",
       "      <th>pupper</th>\n",
       "      <th>puppo</th>\n",
       "      <th>source_name</th>\n",
       "      <th>source_location</th>\n",
       "      <th>time</th>\n",
       "      <th>date</th>\n",
       "    </tr>\n",
       "  </thead>\n",
       "  <tbody>\n",
       "    <tr>\n",
       "      <th>0</th>\n",
       "      <td>892420643555336193</td>\n",
       "      <td>This is Phineas. He's a mystical boy. Only eve...</td>\n",
       "      <td>https://twitter.com/dog_rates/status/892420643...</td>\n",
       "      <td>13</td>\n",
       "      <td>10</td>\n",
       "      <td>Phineas</td>\n",
       "      <td>None</td>\n",
       "      <td>None</td>\n",
       "      <td>None</td>\n",
       "      <td>None</td>\n",
       "      <td>Twitter for iPhone</td>\n",
       "      <td>http://twitter.com/download/iphone</td>\n",
       "      <td>16:23:56</td>\n",
       "      <td>2017-08-01</td>\n",
       "    </tr>\n",
       "    <tr>\n",
       "      <th>1</th>\n",
       "      <td>892177421306343426</td>\n",
       "      <td>This is Tilly. She's just checking pup on you....</td>\n",
       "      <td>https://twitter.com/dog_rates/status/892177421...</td>\n",
       "      <td>13</td>\n",
       "      <td>10</td>\n",
       "      <td>Tilly</td>\n",
       "      <td>None</td>\n",
       "      <td>None</td>\n",
       "      <td>None</td>\n",
       "      <td>None</td>\n",
       "      <td>Twitter for iPhone</td>\n",
       "      <td>http://twitter.com/download/iphone</td>\n",
       "      <td>00:17:27</td>\n",
       "      <td>2017-08-01</td>\n",
       "    </tr>\n",
       "    <tr>\n",
       "      <th>2</th>\n",
       "      <td>891815181378084864</td>\n",
       "      <td>This is Archie. He is a rare Norwegian Pouncin...</td>\n",
       "      <td>https://twitter.com/dog_rates/status/891815181...</td>\n",
       "      <td>12</td>\n",
       "      <td>10</td>\n",
       "      <td>Archie</td>\n",
       "      <td>None</td>\n",
       "      <td>None</td>\n",
       "      <td>None</td>\n",
       "      <td>None</td>\n",
       "      <td>Twitter for iPhone</td>\n",
       "      <td>http://twitter.com/download/iphone</td>\n",
       "      <td>00:18:03</td>\n",
       "      <td>2017-07-31</td>\n",
       "    </tr>\n",
       "    <tr>\n",
       "      <th>3</th>\n",
       "      <td>891689557279858688</td>\n",
       "      <td>This is Darla. She commenced a snooze mid meal...</td>\n",
       "      <td>https://twitter.com/dog_rates/status/891689557...</td>\n",
       "      <td>13</td>\n",
       "      <td>10</td>\n",
       "      <td>Darla</td>\n",
       "      <td>None</td>\n",
       "      <td>None</td>\n",
       "      <td>None</td>\n",
       "      <td>None</td>\n",
       "      <td>Twitter for iPhone</td>\n",
       "      <td>http://twitter.com/download/iphone</td>\n",
       "      <td>15:58:51</td>\n",
       "      <td>2017-07-30</td>\n",
       "    </tr>\n",
       "    <tr>\n",
       "      <th>4</th>\n",
       "      <td>891327558926688256</td>\n",
       "      <td>This is Franklin. He would like you to stop ca...</td>\n",
       "      <td>https://twitter.com/dog_rates/status/891327558...</td>\n",
       "      <td>12</td>\n",
       "      <td>10</td>\n",
       "      <td>Franklin</td>\n",
       "      <td>None</td>\n",
       "      <td>None</td>\n",
       "      <td>None</td>\n",
       "      <td>None</td>\n",
       "      <td>Twitter for iPhone</td>\n",
       "      <td>http://twitter.com/download/iphone</td>\n",
       "      <td>16:00:24</td>\n",
       "      <td>2017-07-29</td>\n",
       "    </tr>\n",
       "  </tbody>\n",
       "</table>\n",
       "</div>"
      ],
      "text/plain": [
       "             tweet_id                                               text  \\\n",
       "0  892420643555336193  This is Phineas. He's a mystical boy. Only eve...   \n",
       "1  892177421306343426  This is Tilly. She's just checking pup on you....   \n",
       "2  891815181378084864  This is Archie. He is a rare Norwegian Pouncin...   \n",
       "3  891689557279858688  This is Darla. She commenced a snooze mid meal...   \n",
       "4  891327558926688256  This is Franklin. He would like you to stop ca...   \n",
       "\n",
       "                                       expanded_urls  rating_numerator  \\\n",
       "0  https://twitter.com/dog_rates/status/892420643...                13   \n",
       "1  https://twitter.com/dog_rates/status/892177421...                13   \n",
       "2  https://twitter.com/dog_rates/status/891815181...                12   \n",
       "3  https://twitter.com/dog_rates/status/891689557...                13   \n",
       "4  https://twitter.com/dog_rates/status/891327558...                12   \n",
       "\n",
       "   rating_denominator      name doggo floofer pupper puppo  \\\n",
       "0                  10   Phineas  None    None   None  None   \n",
       "1                  10     Tilly  None    None   None  None   \n",
       "2                  10    Archie  None    None   None  None   \n",
       "3                  10     Darla  None    None   None  None   \n",
       "4                  10  Franklin  None    None   None  None   \n",
       "\n",
       "          source_name                     source_location      time  \\\n",
       "0  Twitter for iPhone  http://twitter.com/download/iphone  16:23:56   \n",
       "1  Twitter for iPhone  http://twitter.com/download/iphone  00:17:27   \n",
       "2  Twitter for iPhone  http://twitter.com/download/iphone  00:18:03   \n",
       "3  Twitter for iPhone  http://twitter.com/download/iphone  15:58:51   \n",
       "4  Twitter for iPhone  http://twitter.com/download/iphone  16:00:24   \n",
       "\n",
       "         date  \n",
       "0  2017-08-01  \n",
       "1  2017-08-01  \n",
       "2  2017-07-31  \n",
       "3  2017-07-30  \n",
       "4  2017-07-29  "
      ]
     },
     "execution_count": 43,
     "metadata": {},
     "output_type": "execute_result"
    }
   ],
   "source": [
    "twitter_archive.head()"
   ]
  },
  {
   "cell_type": "markdown",
   "id": "00a2e480",
   "metadata": {},
   "source": [
    "##### 6a) Define"
   ]
  },
  {
   "cell_type": "markdown",
   "id": "355e92de",
   "metadata": {},
   "source": [
    "Decide which of the four variables (doggo, floofer, pupper &puppo) a dog actually belongs to (quality).     \n",
    "Make a single column \"stage\" and record stage of dog; Drop doggo, floofer, pupper &\tpuppo columns (tidiness)."
   ]
  },
  {
   "cell_type": "markdown",
   "id": "23fd302b",
   "metadata": {},
   "source": [
    "##### 6b) Code"
   ]
  },
  {
   "cell_type": "code",
   "execution_count": 44,
   "id": "225b862c",
   "metadata": {},
   "outputs": [],
   "source": [
    "twitter_archive['stage'] = [val for val in (twitter_archive.doggo+twitter_archive.floofer+twitter_archive.pupper+twitter_archive.puppo)]"
   ]
  },
  {
   "cell_type": "code",
   "execution_count": 45,
   "id": "3e05c8e5",
   "metadata": {},
   "outputs": [],
   "source": [
    "twitter_archive['stage'] = twitter_archive['stage'].str.replace('NoneNoneNoneNone', 'Not recorded')"
   ]
  },
  {
   "cell_type": "code",
   "execution_count": 46,
   "id": "79a8401c",
   "metadata": {},
   "outputs": [],
   "source": [
    "twitter_archive['stage'] = twitter_archive['stage'].str.replace('None', '')"
   ]
  },
  {
   "cell_type": "code",
   "execution_count": 47,
   "id": "a70f9031",
   "metadata": {},
   "outputs": [
    {
     "data": {
      "text/plain": [
       "Not recorded    1761\n",
       "pupper           221\n",
       "doggo             72\n",
       "puppo             23\n",
       "doggopupper        9\n",
       "floofer            9\n",
       "doggofloofer       1\n",
       "doggopuppo         1\n",
       "Name: stage, dtype: int64"
      ]
     },
     "execution_count": 47,
     "metadata": {},
     "output_type": "execute_result"
    }
   ],
   "source": [
    "twitter_archive['stage'].value_counts()"
   ]
  },
  {
   "cell_type": "markdown",
   "id": "2b5bd4bf",
   "metadata": {},
   "source": [
    "Force a choice of 1 of the 4 stages according to my understanding of [\"The Dogtionary\"]:(https://classroom.udacity.com/nanodegrees/nd002/parts/af503f34-9646-4795-a916-190ebc82cb4a/modules/86c36b91-055f-4970-8462-864f332c2ebb/lessons/a8085857-3e28-4fc7-aeb8-da64ccbc2e20/concepts/28d4643b-3785-4700-bdee-4e5fc9963576)"
   ]
  },
  {
   "cell_type": "code",
   "execution_count": 48,
   "id": "cfd2ab75",
   "metadata": {},
   "outputs": [],
   "source": [
    "twitter_archive['stage'] = twitter_archive['stage'].str.replace('doggofloofer', 'floofer');\n",
    "twitter_archive['stage'] = twitter_archive['stage'].str.replace('doggopuppo', 'puppo');\n",
    "twitter_archive['stage'] = twitter_archive['stage'].str.replace('doggopupper', 'pupper');"
   ]
  },
  {
   "cell_type": "code",
   "execution_count": 49,
   "id": "83bd9b84",
   "metadata": {},
   "outputs": [],
   "source": [
    "twitter_archive.drop(['doggo','floofer','pupper','puppo'], axis = 1, inplace = True)"
   ]
  },
  {
   "cell_type": "markdown",
   "id": "633d11de",
   "metadata": {},
   "source": [
    "##### 6c) Test"
   ]
  },
  {
   "cell_type": "code",
   "execution_count": 50,
   "id": "693173f8",
   "metadata": {},
   "outputs": [
    {
     "data": {
      "text/plain": [
       "Not recorded    1761\n",
       "pupper           230\n",
       "doggo             72\n",
       "puppo             24\n",
       "floofer           10\n",
       "Name: stage, dtype: int64"
      ]
     },
     "execution_count": 50,
     "metadata": {},
     "output_type": "execute_result"
    }
   ],
   "source": [
    "twitter_archive['stage'].value_counts()"
   ]
  },
  {
   "cell_type": "code",
   "execution_count": 51,
   "id": "66beca3e",
   "metadata": {},
   "outputs": [
    {
     "data": {
      "text/html": [
       "<div>\n",
       "<style scoped>\n",
       "    .dataframe tbody tr th:only-of-type {\n",
       "        vertical-align: middle;\n",
       "    }\n",
       "\n",
       "    .dataframe tbody tr th {\n",
       "        vertical-align: top;\n",
       "    }\n",
       "\n",
       "    .dataframe thead th {\n",
       "        text-align: right;\n",
       "    }\n",
       "</style>\n",
       "<table border=\"1\" class=\"dataframe\">\n",
       "  <thead>\n",
       "    <tr style=\"text-align: right;\">\n",
       "      <th></th>\n",
       "      <th>tweet_id</th>\n",
       "      <th>text</th>\n",
       "      <th>expanded_urls</th>\n",
       "      <th>rating_numerator</th>\n",
       "      <th>rating_denominator</th>\n",
       "      <th>name</th>\n",
       "      <th>source_name</th>\n",
       "      <th>source_location</th>\n",
       "      <th>time</th>\n",
       "      <th>date</th>\n",
       "      <th>stage</th>\n",
       "    </tr>\n",
       "  </thead>\n",
       "  <tbody>\n",
       "    <tr>\n",
       "      <th>1966</th>\n",
       "      <td>673343217010679808</td>\n",
       "      <td>IT'S SO SMALL ERMERGERF 11/10 https://t.co/dNU...</td>\n",
       "      <td>https://twitter.com/dog_rates/status/673343217...</td>\n",
       "      <td>11</td>\n",
       "      <td>10</td>\n",
       "      <td>None</td>\n",
       "      <td>Twitter for iPhone</td>\n",
       "      <td>http://twitter.com/download/iphone</td>\n",
       "      <td>03:28:27</td>\n",
       "      <td>2015-12-06</td>\n",
       "      <td>Not recorded</td>\n",
       "    </tr>\n",
       "  </tbody>\n",
       "</table>\n",
       "</div>"
      ],
      "text/plain": [
       "                tweet_id                                               text  \\\n",
       "1966  673343217010679808  IT'S SO SMALL ERMERGERF 11/10 https://t.co/dNU...   \n",
       "\n",
       "                                          expanded_urls  rating_numerator  \\\n",
       "1966  https://twitter.com/dog_rates/status/673343217...                11   \n",
       "\n",
       "      rating_denominator  name         source_name  \\\n",
       "1966                  10  None  Twitter for iPhone   \n",
       "\n",
       "                         source_location      time        date         stage  \n",
       "1966  http://twitter.com/download/iphone  03:28:27  2015-12-06  Not recorded  "
      ]
     },
     "execution_count": 51,
     "metadata": {},
     "output_type": "execute_result"
    }
   ],
   "source": [
    "twitter_archive.sample()"
   ]
  },
  {
   "cell_type": "markdown",
   "id": "39fb356e",
   "metadata": {},
   "source": [
    "##### 7a) Define"
   ]
  },
  {
   "cell_type": "markdown",
   "id": "c15f1ae5",
   "metadata": {},
   "source": [
    "Remove rows where the rating_denominator is not 10."
   ]
  },
  {
   "cell_type": "markdown",
   "id": "bcccac44",
   "metadata": {},
   "source": [
    "##### 7b) Code"
   ]
  },
  {
   "cell_type": "code",
   "execution_count": 52,
   "id": "0dc6ea3c",
   "metadata": {},
   "outputs": [
    {
     "data": {
      "text/plain": [
       "17"
      ]
     },
     "execution_count": 52,
     "metadata": {},
     "output_type": "execute_result"
    }
   ],
   "source": [
    "len(twitter_archive[(twitter_archive.rating_denominator != 10)])"
   ]
  },
  {
   "cell_type": "code",
   "execution_count": 53,
   "id": "86ef5635",
   "metadata": {},
   "outputs": [],
   "source": [
    "twitter_archive = twitter_archive[~(twitter_archive.rating_denominator != 10)]"
   ]
  },
  {
   "cell_type": "markdown",
   "id": "2770ad8a",
   "metadata": {},
   "source": [
    "##### 7c) Test"
   ]
  },
  {
   "cell_type": "code",
   "execution_count": 54,
   "id": "89404cd4",
   "metadata": {},
   "outputs": [
    {
     "data": {
      "text/plain": [
       "False    2080\n",
       "Name: rating_denominator, dtype: int64"
      ]
     },
     "execution_count": 54,
     "metadata": {},
     "output_type": "execute_result"
    }
   ],
   "source": [
    "(twitter_archive.rating_denominator != 10).value_counts()"
   ]
  },
  {
   "cell_type": "markdown",
   "id": "06252240",
   "metadata": {},
   "source": [
    "##### 8a) Define"
   ]
  },
  {
   "cell_type": "markdown",
   "id": "1240dd81",
   "metadata": {},
   "source": [
    "Remove rating_denominator column as the number is always 10. Rename rating_numerator column to remind us of that the denominator equals 10."
   ]
  },
  {
   "cell_type": "markdown",
   "id": "a57ff45e",
   "metadata": {},
   "source": [
    "##### 8b) Code"
   ]
  },
  {
   "cell_type": "code",
   "execution_count": 55,
   "id": "8a96b685",
   "metadata": {},
   "outputs": [],
   "source": [
    "twitter_archive = twitter_archive.drop('rating_denominator', axis = 1)\n",
    "twitter_archive = twitter_archive.rename(columns = {'rating_numerator' : 'rating_out_of_10'})"
   ]
  },
  {
   "cell_type": "markdown",
   "id": "cec1b8a7",
   "metadata": {},
   "source": [
    "##### 8c) Test"
   ]
  },
  {
   "cell_type": "code",
   "execution_count": 56,
   "id": "94f2bae2",
   "metadata": {},
   "outputs": [
    {
     "data": {
      "text/html": [
       "<div>\n",
       "<style scoped>\n",
       "    .dataframe tbody tr th:only-of-type {\n",
       "        vertical-align: middle;\n",
       "    }\n",
       "\n",
       "    .dataframe tbody tr th {\n",
       "        vertical-align: top;\n",
       "    }\n",
       "\n",
       "    .dataframe thead th {\n",
       "        text-align: right;\n",
       "    }\n",
       "</style>\n",
       "<table border=\"1\" class=\"dataframe\">\n",
       "  <thead>\n",
       "    <tr style=\"text-align: right;\">\n",
       "      <th></th>\n",
       "      <th>tweet_id</th>\n",
       "      <th>text</th>\n",
       "      <th>expanded_urls</th>\n",
       "      <th>rating_out_of_10</th>\n",
       "      <th>name</th>\n",
       "      <th>source_name</th>\n",
       "      <th>source_location</th>\n",
       "      <th>time</th>\n",
       "      <th>date</th>\n",
       "      <th>stage</th>\n",
       "    </tr>\n",
       "  </thead>\n",
       "  <tbody>\n",
       "    <tr>\n",
       "      <th>0</th>\n",
       "      <td>892420643555336193</td>\n",
       "      <td>This is Phineas. He's a mystical boy. Only eve...</td>\n",
       "      <td>https://twitter.com/dog_rates/status/892420643...</td>\n",
       "      <td>13</td>\n",
       "      <td>Phineas</td>\n",
       "      <td>Twitter for iPhone</td>\n",
       "      <td>http://twitter.com/download/iphone</td>\n",
       "      <td>16:23:56</td>\n",
       "      <td>2017-08-01</td>\n",
       "      <td>Not recorded</td>\n",
       "    </tr>\n",
       "    <tr>\n",
       "      <th>1</th>\n",
       "      <td>892177421306343426</td>\n",
       "      <td>This is Tilly. She's just checking pup on you....</td>\n",
       "      <td>https://twitter.com/dog_rates/status/892177421...</td>\n",
       "      <td>13</td>\n",
       "      <td>Tilly</td>\n",
       "      <td>Twitter for iPhone</td>\n",
       "      <td>http://twitter.com/download/iphone</td>\n",
       "      <td>00:17:27</td>\n",
       "      <td>2017-08-01</td>\n",
       "      <td>Not recorded</td>\n",
       "    </tr>\n",
       "    <tr>\n",
       "      <th>2</th>\n",
       "      <td>891815181378084864</td>\n",
       "      <td>This is Archie. He is a rare Norwegian Pouncin...</td>\n",
       "      <td>https://twitter.com/dog_rates/status/891815181...</td>\n",
       "      <td>12</td>\n",
       "      <td>Archie</td>\n",
       "      <td>Twitter for iPhone</td>\n",
       "      <td>http://twitter.com/download/iphone</td>\n",
       "      <td>00:18:03</td>\n",
       "      <td>2017-07-31</td>\n",
       "      <td>Not recorded</td>\n",
       "    </tr>\n",
       "    <tr>\n",
       "      <th>3</th>\n",
       "      <td>891689557279858688</td>\n",
       "      <td>This is Darla. She commenced a snooze mid meal...</td>\n",
       "      <td>https://twitter.com/dog_rates/status/891689557...</td>\n",
       "      <td>13</td>\n",
       "      <td>Darla</td>\n",
       "      <td>Twitter for iPhone</td>\n",
       "      <td>http://twitter.com/download/iphone</td>\n",
       "      <td>15:58:51</td>\n",
       "      <td>2017-07-30</td>\n",
       "      <td>Not recorded</td>\n",
       "    </tr>\n",
       "    <tr>\n",
       "      <th>4</th>\n",
       "      <td>891327558926688256</td>\n",
       "      <td>This is Franklin. He would like you to stop ca...</td>\n",
       "      <td>https://twitter.com/dog_rates/status/891327558...</td>\n",
       "      <td>12</td>\n",
       "      <td>Franklin</td>\n",
       "      <td>Twitter for iPhone</td>\n",
       "      <td>http://twitter.com/download/iphone</td>\n",
       "      <td>16:00:24</td>\n",
       "      <td>2017-07-29</td>\n",
       "      <td>Not recorded</td>\n",
       "    </tr>\n",
       "  </tbody>\n",
       "</table>\n",
       "</div>"
      ],
      "text/plain": [
       "             tweet_id                                               text  \\\n",
       "0  892420643555336193  This is Phineas. He's a mystical boy. Only eve...   \n",
       "1  892177421306343426  This is Tilly. She's just checking pup on you....   \n",
       "2  891815181378084864  This is Archie. He is a rare Norwegian Pouncin...   \n",
       "3  891689557279858688  This is Darla. She commenced a snooze mid meal...   \n",
       "4  891327558926688256  This is Franklin. He would like you to stop ca...   \n",
       "\n",
       "                                       expanded_urls  rating_out_of_10  \\\n",
       "0  https://twitter.com/dog_rates/status/892420643...                13   \n",
       "1  https://twitter.com/dog_rates/status/892177421...                13   \n",
       "2  https://twitter.com/dog_rates/status/891815181...                12   \n",
       "3  https://twitter.com/dog_rates/status/891689557...                13   \n",
       "4  https://twitter.com/dog_rates/status/891327558...                12   \n",
       "\n",
       "       name         source_name                     source_location      time  \\\n",
       "0   Phineas  Twitter for iPhone  http://twitter.com/download/iphone  16:23:56   \n",
       "1     Tilly  Twitter for iPhone  http://twitter.com/download/iphone  00:17:27   \n",
       "2    Archie  Twitter for iPhone  http://twitter.com/download/iphone  00:18:03   \n",
       "3     Darla  Twitter for iPhone  http://twitter.com/download/iphone  15:58:51   \n",
       "4  Franklin  Twitter for iPhone  http://twitter.com/download/iphone  16:00:24   \n",
       "\n",
       "         date         stage  \n",
       "0  2017-08-01  Not recorded  \n",
       "1  2017-08-01  Not recorded  \n",
       "2  2017-07-31  Not recorded  \n",
       "3  2017-07-30  Not recorded  \n",
       "4  2017-07-29  Not recorded  "
      ]
     },
     "execution_count": 56,
     "metadata": {},
     "output_type": "execute_result"
    }
   ],
   "source": [
    "twitter_archive.head()"
   ]
  },
  {
   "cell_type": "markdown",
   "id": "2a2c3a96",
   "metadata": {},
   "source": [
    "##### 9a) Define"
   ]
  },
  {
   "cell_type": "markdown",
   "id": "aba89b7b",
   "metadata": {},
   "source": [
    "Remove the row with the 1776 rating"
   ]
  },
  {
   "cell_type": "markdown",
   "id": "e00377c0",
   "metadata": {},
   "source": [
    "##### 9b) Code"
   ]
  },
  {
   "cell_type": "code",
   "execution_count": 57,
   "id": "b877b60a",
   "metadata": {},
   "outputs": [],
   "source": [
    "twitter_archive = twitter_archive[~(twitter_archive.rating_out_of_10 == twitter_archive.rating_out_of_10.max())]"
   ]
  },
  {
   "cell_type": "markdown",
   "id": "43e00edd",
   "metadata": {},
   "source": [
    "##### 9c) Test"
   ]
  },
  {
   "cell_type": "code",
   "execution_count": 58,
   "id": "d380fbcb",
   "metadata": {},
   "outputs": [
    {
     "data": {
      "text/plain": [
       "420"
      ]
     },
     "execution_count": 58,
     "metadata": {},
     "output_type": "execute_result"
    }
   ],
   "source": [
    "twitter_archive.rating_out_of_10.max()"
   ]
  },
  {
   "cell_type": "markdown",
   "id": "37015585",
   "metadata": {},
   "source": [
    "## _Iteration_"
   ]
  },
  {
   "cell_type": "markdown",
   "id": "329ca30e",
   "metadata": {},
   "source": [
    "The fact that the rating of 420 still seems to be an outlier led to us iterating through the Assess, Clean, Analyse cycle and discovering that it was worthwhile to fix a few more outliers:"
   ]
  },
  {
   "cell_type": "markdown",
   "id": "ed82662b",
   "metadata": {},
   "source": [
    "##### Define\n",
    "The image associated with the rating of 420 shows Snoop Dogg, so remove!"
   ]
  },
  {
   "cell_type": "code",
   "execution_count": 59,
   "id": "f51e4733",
   "metadata": {},
   "outputs": [
    {
     "name": "stdout",
     "output_type": "stream",
     "text": [
      "['After so many requests... here you go.\\n\\nGood dogg. 420/10 https://t.co/yfAAo1gdeY']\n"
     ]
    },
    {
     "data": {
      "text/html": [
       "<div>\n",
       "<style scoped>\n",
       "    .dataframe tbody tr th:only-of-type {\n",
       "        vertical-align: middle;\n",
       "    }\n",
       "\n",
       "    .dataframe tbody tr th {\n",
       "        vertical-align: top;\n",
       "    }\n",
       "\n",
       "    .dataframe thead th {\n",
       "        text-align: right;\n",
       "    }\n",
       "</style>\n",
       "<table border=\"1\" class=\"dataframe\">\n",
       "  <thead>\n",
       "    <tr style=\"text-align: right;\">\n",
       "      <th></th>\n",
       "      <th>tweet_id</th>\n",
       "      <th>text</th>\n",
       "      <th>expanded_urls</th>\n",
       "      <th>rating_out_of_10</th>\n",
       "      <th>name</th>\n",
       "      <th>source_name</th>\n",
       "      <th>source_location</th>\n",
       "      <th>time</th>\n",
       "      <th>date</th>\n",
       "      <th>stage</th>\n",
       "    </tr>\n",
       "  </thead>\n",
       "  <tbody>\n",
       "    <tr>\n",
       "      <th>2074</th>\n",
       "      <td>670842764863651840</td>\n",
       "      <td>After so many requests... here you go.\\n\\nGood...</td>\n",
       "      <td>https://twitter.com/dog_rates/status/670842764...</td>\n",
       "      <td>420</td>\n",
       "      <td>None</td>\n",
       "      <td>Twitter for iPhone</td>\n",
       "      <td>http://twitter.com/download/iphone</td>\n",
       "      <td>05:52:33</td>\n",
       "      <td>2015-11-29</td>\n",
       "      <td>Not recorded</td>\n",
       "    </tr>\n",
       "  </tbody>\n",
       "</table>\n",
       "</div>"
      ],
      "text/plain": [
       "                tweet_id                                               text  \\\n",
       "2074  670842764863651840  After so many requests... here you go.\\n\\nGood...   \n",
       "\n",
       "                                          expanded_urls  rating_out_of_10  \\\n",
       "2074  https://twitter.com/dog_rates/status/670842764...               420   \n",
       "\n",
       "      name         source_name                     source_location      time  \\\n",
       "2074  None  Twitter for iPhone  http://twitter.com/download/iphone  05:52:33   \n",
       "\n",
       "            date         stage  \n",
       "2074  2015-11-29  Not recorded  "
      ]
     },
     "execution_count": 59,
     "metadata": {},
     "output_type": "execute_result"
    }
   ],
   "source": [
    "print([text for text in twitter_archive[ twitter_archive.rating_out_of_10 == 420].text])\n",
    "twitter_archive[ twitter_archive.rating_out_of_10 == 420]"
   ]
  },
  {
   "cell_type": "markdown",
   "id": "30d88562",
   "metadata": {},
   "source": [
    "##### Code"
   ]
  },
  {
   "cell_type": "code",
   "execution_count": 60,
   "id": "d3f81c4f",
   "metadata": {},
   "outputs": [],
   "source": [
    "twitter_archive = twitter_archive[~(twitter_archive.rating_out_of_10 == 420)]"
   ]
  },
  {
   "cell_type": "markdown",
   "id": "5ae50943",
   "metadata": {},
   "source": [
    "##### Test"
   ]
  },
  {
   "cell_type": "code",
   "execution_count": 61,
   "id": "2d95abf8",
   "metadata": {},
   "outputs": [
    {
     "data": {
      "text/plain": [
       "False"
      ]
     },
     "execution_count": 61,
     "metadata": {},
     "output_type": "execute_result"
    }
   ],
   "source": [
    "any(twitter_archive.rating_out_of_10 == 420)"
   ]
  },
  {
   "cell_type": "markdown",
   "id": "12f78ba6",
   "metadata": {},
   "source": [
    "##### Define\n",
    "Fix the next outlier, if required"
   ]
  },
  {
   "cell_type": "code",
   "execution_count": 62,
   "id": "9c9288b6",
   "metadata": {},
   "outputs": [
    {
     "data": {
      "text/plain": [
       "75"
      ]
     },
     "execution_count": 62,
     "metadata": {},
     "output_type": "execute_result"
    }
   ],
   "source": [
    "twitter_archive.rating_out_of_10.max()"
   ]
  },
  {
   "cell_type": "code",
   "execution_count": 63,
   "id": "c3b0b785",
   "metadata": {},
   "outputs": [
    {
     "name": "stdout",
     "output_type": "stream",
     "text": [
      "[\"This is Logan, the Chow who lived. He solemnly swears he's up to lots of good. H*ckin magical af 9.75/10 https://t.co/yBO5wuqaPS\"]\n"
     ]
    },
    {
     "data": {
      "text/html": [
       "<div>\n",
       "<style scoped>\n",
       "    .dataframe tbody tr th:only-of-type {\n",
       "        vertical-align: middle;\n",
       "    }\n",
       "\n",
       "    .dataframe tbody tr th {\n",
       "        vertical-align: top;\n",
       "    }\n",
       "\n",
       "    .dataframe thead th {\n",
       "        text-align: right;\n",
       "    }\n",
       "</style>\n",
       "<table border=\"1\" class=\"dataframe\">\n",
       "  <thead>\n",
       "    <tr style=\"text-align: right;\">\n",
       "      <th></th>\n",
       "      <th>tweet_id</th>\n",
       "      <th>text</th>\n",
       "      <th>expanded_urls</th>\n",
       "      <th>rating_out_of_10</th>\n",
       "      <th>name</th>\n",
       "      <th>source_name</th>\n",
       "      <th>source_location</th>\n",
       "      <th>time</th>\n",
       "      <th>date</th>\n",
       "      <th>stage</th>\n",
       "    </tr>\n",
       "  </thead>\n",
       "  <tbody>\n",
       "    <tr>\n",
       "      <th>695</th>\n",
       "      <td>786709082849828864</td>\n",
       "      <td>This is Logan, the Chow who lived. He solemnly...</td>\n",
       "      <td>https://twitter.com/dog_rates/status/786709082...</td>\n",
       "      <td>75</td>\n",
       "      <td>Logan</td>\n",
       "      <td>Twitter for iPhone</td>\n",
       "      <td>http://twitter.com/download/iphone</td>\n",
       "      <td>23:23:56</td>\n",
       "      <td>2016-10-13</td>\n",
       "      <td>Not recorded</td>\n",
       "    </tr>\n",
       "  </tbody>\n",
       "</table>\n",
       "</div>"
      ],
      "text/plain": [
       "               tweet_id                                               text  \\\n",
       "695  786709082849828864  This is Logan, the Chow who lived. He solemnly...   \n",
       "\n",
       "                                         expanded_urls  rating_out_of_10  \\\n",
       "695  https://twitter.com/dog_rates/status/786709082...                75   \n",
       "\n",
       "      name         source_name                     source_location      time  \\\n",
       "695  Logan  Twitter for iPhone  http://twitter.com/download/iphone  23:23:56   \n",
       "\n",
       "           date         stage  \n",
       "695  2016-10-13  Not recorded  "
      ]
     },
     "execution_count": 63,
     "metadata": {},
     "output_type": "execute_result"
    }
   ],
   "source": [
    "print([text for text in twitter_archive[ twitter_archive.rating_out_of_10 == 75].text])\n",
    "twitter_archive[ twitter_archive.rating_out_of_10 == 75]"
   ]
  },
  {
   "cell_type": "markdown",
   "id": "407690b6",
   "metadata": {},
   "source": [
    "Change 75 rating to 9.75 $\\approx$ 10 rating"
   ]
  },
  {
   "cell_type": "markdown",
   "id": "4ca86ccb",
   "metadata": {},
   "source": [
    "##### Code"
   ]
  },
  {
   "cell_type": "code",
   "execution_count": 64,
   "id": "331523ab",
   "metadata": {},
   "outputs": [],
   "source": [
    "twitter_archive.at[695,'rating_out_of_10'] = 10"
   ]
  },
  {
   "cell_type": "markdown",
   "id": "4953da3a",
   "metadata": {},
   "source": [
    "##### Test"
   ]
  },
  {
   "cell_type": "code",
   "execution_count": 65,
   "id": "dad2ab0f",
   "metadata": {},
   "outputs": [
    {
     "name": "stdout",
     "output_type": "stream",
     "text": [
      "695    10\n",
      "Name: rating_out_of_10, dtype: int64\n"
     ]
    }
   ],
   "source": [
    "print(twitter_archive[twitter_archive.tweet_id == 786709082849828864].rating_out_of_10)"
   ]
  },
  {
   "cell_type": "markdown",
   "id": "4dac67cb",
   "metadata": {},
   "source": [
    "##### Define\n",
    "Fix the next outlier, if required"
   ]
  },
  {
   "cell_type": "markdown",
   "id": "ace7a3db",
   "metadata": {},
   "source": [
    "The following is also removed because it is not a rating about a dog but a complaint about plagiarism:"
   ]
  },
  {
   "cell_type": "code",
   "execution_count": 66,
   "id": "e03c676b",
   "metadata": {},
   "outputs": [
    {
     "name": "stdout",
     "output_type": "stream",
     "text": [
      "[\"When you're so blinded by your systematic plagiarism that you forget what day it is. 0/10 https://t.co/YbEJPkg4Ag\"]\n"
     ]
    },
    {
     "data": {
      "text/html": [
       "<div>\n",
       "<style scoped>\n",
       "    .dataframe tbody tr th:only-of-type {\n",
       "        vertical-align: middle;\n",
       "    }\n",
       "\n",
       "    .dataframe tbody tr th {\n",
       "        vertical-align: top;\n",
       "    }\n",
       "\n",
       "    .dataframe thead th {\n",
       "        text-align: right;\n",
       "    }\n",
       "</style>\n",
       "<table border=\"1\" class=\"dataframe\">\n",
       "  <thead>\n",
       "    <tr style=\"text-align: right;\">\n",
       "      <th></th>\n",
       "      <th>tweet_id</th>\n",
       "      <th>text</th>\n",
       "      <th>expanded_urls</th>\n",
       "      <th>rating_out_of_10</th>\n",
       "      <th>name</th>\n",
       "      <th>source_name</th>\n",
       "      <th>source_location</th>\n",
       "      <th>time</th>\n",
       "      <th>date</th>\n",
       "      <th>stage</th>\n",
       "    </tr>\n",
       "  </thead>\n",
       "  <tbody>\n",
       "    <tr>\n",
       "      <th>315</th>\n",
       "      <td>835152434251116546</td>\n",
       "      <td>When you're so blinded by your systematic plag...</td>\n",
       "      <td>https://twitter.com/dog_rates/status/835152434...</td>\n",
       "      <td>0</td>\n",
       "      <td>None</td>\n",
       "      <td>Twitter for iPhone</td>\n",
       "      <td>http://twitter.com/download/iphone</td>\n",
       "      <td>15:40:31</td>\n",
       "      <td>2017-02-24</td>\n",
       "      <td>Not recorded</td>\n",
       "    </tr>\n",
       "  </tbody>\n",
       "</table>\n",
       "</div>"
      ],
      "text/plain": [
       "               tweet_id                                               text  \\\n",
       "315  835152434251116546  When you're so blinded by your systematic plag...   \n",
       "\n",
       "                                         expanded_urls  rating_out_of_10  \\\n",
       "315  https://twitter.com/dog_rates/status/835152434...                 0   \n",
       "\n",
       "     name         source_name                     source_location      time  \\\n",
       "315  None  Twitter for iPhone  http://twitter.com/download/iphone  15:40:31   \n",
       "\n",
       "           date         stage  \n",
       "315  2017-02-24  Not recorded  "
      ]
     },
     "execution_count": 66,
     "metadata": {},
     "output_type": "execute_result"
    }
   ],
   "source": [
    "print([text for text in twitter_archive[ twitter_archive.rating_out_of_10 == 0].text])\n",
    "twitter_archive[ twitter_archive.rating_out_of_10 == 0]"
   ]
  },
  {
   "cell_type": "markdown",
   "id": "783dd2a4",
   "metadata": {},
   "source": [
    "##### Code"
   ]
  },
  {
   "cell_type": "code",
   "execution_count": 67,
   "id": "33becd9a",
   "metadata": {},
   "outputs": [],
   "source": [
    "twitter_archive = twitter_archive[~(twitter_archive.rating_out_of_10 == 0)]"
   ]
  },
  {
   "cell_type": "markdown",
   "id": "67cc4f18",
   "metadata": {},
   "source": [
    "##### Test"
   ]
  },
  {
   "cell_type": "code",
   "execution_count": 68,
   "id": "420a02ca",
   "metadata": {},
   "outputs": [
    {
     "data": {
      "text/html": [
       "<div>\n",
       "<style scoped>\n",
       "    .dataframe tbody tr th:only-of-type {\n",
       "        vertical-align: middle;\n",
       "    }\n",
       "\n",
       "    .dataframe tbody tr th {\n",
       "        vertical-align: top;\n",
       "    }\n",
       "\n",
       "    .dataframe thead th {\n",
       "        text-align: right;\n",
       "    }\n",
       "</style>\n",
       "<table border=\"1\" class=\"dataframe\">\n",
       "  <thead>\n",
       "    <tr style=\"text-align: right;\">\n",
       "      <th></th>\n",
       "      <th>tweet_id</th>\n",
       "      <th>text</th>\n",
       "      <th>expanded_urls</th>\n",
       "      <th>rating_out_of_10</th>\n",
       "      <th>name</th>\n",
       "      <th>source_name</th>\n",
       "      <th>source_location</th>\n",
       "      <th>time</th>\n",
       "      <th>date</th>\n",
       "      <th>stage</th>\n",
       "    </tr>\n",
       "  </thead>\n",
       "  <tbody>\n",
       "  </tbody>\n",
       "</table>\n",
       "</div>"
      ],
      "text/plain": [
       "Empty DataFrame\n",
       "Columns: [tweet_id, text, expanded_urls, rating_out_of_10, name, source_name, source_location, time, date, stage]\n",
       "Index: []"
      ]
     },
     "execution_count": 68,
     "metadata": {},
     "output_type": "execute_result"
    }
   ],
   "source": [
    "twitter_archive[ twitter_archive.rating_out_of_10 == 0]"
   ]
  },
  {
   "cell_type": "markdown",
   "id": "fc754b78",
   "metadata": {},
   "source": [
    "##### Define\n",
    "Fix the next outlier, if required"
   ]
  },
  {
   "cell_type": "code",
   "execution_count": 69,
   "id": "31469c36",
   "metadata": {},
   "outputs": [
    {
     "name": "stdout",
     "output_type": "stream",
     "text": [
      "['Here we have uncovered an entire battalion of holiday puppers. Average of 11.26/10 https://t.co/eNm2S6p9BD']\n"
     ]
    },
    {
     "data": {
      "text/html": [
       "<div>\n",
       "<style scoped>\n",
       "    .dataframe tbody tr th:only-of-type {\n",
       "        vertical-align: middle;\n",
       "    }\n",
       "\n",
       "    .dataframe tbody tr th {\n",
       "        vertical-align: top;\n",
       "    }\n",
       "\n",
       "    .dataframe thead th {\n",
       "        text-align: right;\n",
       "    }\n",
       "</style>\n",
       "<table border=\"1\" class=\"dataframe\">\n",
       "  <thead>\n",
       "    <tr style=\"text-align: right;\">\n",
       "      <th></th>\n",
       "      <th>tweet_id</th>\n",
       "      <th>text</th>\n",
       "      <th>expanded_urls</th>\n",
       "      <th>rating_out_of_10</th>\n",
       "      <th>name</th>\n",
       "      <th>source_name</th>\n",
       "      <th>source_location</th>\n",
       "      <th>time</th>\n",
       "      <th>date</th>\n",
       "      <th>stage</th>\n",
       "    </tr>\n",
       "  </thead>\n",
       "  <tbody>\n",
       "    <tr>\n",
       "      <th>1712</th>\n",
       "      <td>680494726643068929</td>\n",
       "      <td>Here we have uncovered an entire battalion of ...</td>\n",
       "      <td>https://twitter.com/dog_rates/status/680494726...</td>\n",
       "      <td>26</td>\n",
       "      <td>None</td>\n",
       "      <td>Twitter for iPhone</td>\n",
       "      <td>http://twitter.com/download/iphone</td>\n",
       "      <td>21:06:00</td>\n",
       "      <td>2015-12-25</td>\n",
       "      <td>Not recorded</td>\n",
       "    </tr>\n",
       "  </tbody>\n",
       "</table>\n",
       "</div>"
      ],
      "text/plain": [
       "                tweet_id                                               text  \\\n",
       "1712  680494726643068929  Here we have uncovered an entire battalion of ...   \n",
       "\n",
       "                                          expanded_urls  rating_out_of_10  \\\n",
       "1712  https://twitter.com/dog_rates/status/680494726...                26   \n",
       "\n",
       "      name         source_name                     source_location      time  \\\n",
       "1712  None  Twitter for iPhone  http://twitter.com/download/iphone  21:06:00   \n",
       "\n",
       "            date         stage  \n",
       "1712  2015-12-25  Not recorded  "
      ]
     },
     "execution_count": 69,
     "metadata": {},
     "output_type": "execute_result"
    }
   ],
   "source": [
    "print([text for text in twitter_archive[ twitter_archive.rating_out_of_10 == 26].text])\n",
    "twitter_archive[ twitter_archive.rating_out_of_10 == 26]"
   ]
  },
  {
   "cell_type": "markdown",
   "id": "797f9eea",
   "metadata": {},
   "source": [
    "##### Code"
   ]
  },
  {
   "cell_type": "code",
   "execution_count": 70,
   "id": "f65da83f",
   "metadata": {},
   "outputs": [],
   "source": [
    "twitter_archive.at[1712,'rating_out_of_10'] = 12"
   ]
  },
  {
   "cell_type": "markdown",
   "id": "6639a698",
   "metadata": {},
   "source": [
    "##### Test"
   ]
  },
  {
   "cell_type": "code",
   "execution_count": 71,
   "id": "af040942",
   "metadata": {},
   "outputs": [
    {
     "name": "stdout",
     "output_type": "stream",
     "text": [
      "1712    12\n",
      "Name: rating_out_of_10, dtype: int64\n"
     ]
    }
   ],
   "source": [
    "print(twitter_archive[twitter_archive.tweet_id == 680494726643068929].rating_out_of_10)"
   ]
  },
  {
   "cell_type": "markdown",
   "id": "d960249d",
   "metadata": {},
   "source": [
    "##### Define\n",
    "Fix the next outlier, if required"
   ]
  },
  {
   "cell_type": "code",
   "execution_count": 72,
   "id": "b5eab0ad",
   "metadata": {},
   "outputs": [
    {
     "name": "stdout",
     "output_type": "stream",
     "text": [
      "[\"This is Sophie. She's a Jubilant Bush Pupper. Super h*ckin rare. Appears at random just to smile at the locals. 11.27/10 would smile back https://t.co/QFaUiIHxHq\"]\n"
     ]
    },
    {
     "data": {
      "text/html": [
       "<div>\n",
       "<style scoped>\n",
       "    .dataframe tbody tr th:only-of-type {\n",
       "        vertical-align: middle;\n",
       "    }\n",
       "\n",
       "    .dataframe tbody tr th {\n",
       "        vertical-align: top;\n",
       "    }\n",
       "\n",
       "    .dataframe thead th {\n",
       "        text-align: right;\n",
       "    }\n",
       "</style>\n",
       "<table border=\"1\" class=\"dataframe\">\n",
       "  <thead>\n",
       "    <tr style=\"text-align: right;\">\n",
       "      <th></th>\n",
       "      <th>tweet_id</th>\n",
       "      <th>text</th>\n",
       "      <th>expanded_urls</th>\n",
       "      <th>rating_out_of_10</th>\n",
       "      <th>name</th>\n",
       "      <th>source_name</th>\n",
       "      <th>source_location</th>\n",
       "      <th>time</th>\n",
       "      <th>date</th>\n",
       "      <th>stage</th>\n",
       "    </tr>\n",
       "  </thead>\n",
       "  <tbody>\n",
       "    <tr>\n",
       "      <th>763</th>\n",
       "      <td>778027034220126208</td>\n",
       "      <td>This is Sophie. She's a Jubilant Bush Pupper. ...</td>\n",
       "      <td>https://twitter.com/dog_rates/status/778027034...</td>\n",
       "      <td>27</td>\n",
       "      <td>Sophie</td>\n",
       "      <td>Twitter for iPhone</td>\n",
       "      <td>http://twitter.com/download/iphone</td>\n",
       "      <td>00:24:34</td>\n",
       "      <td>2016-09-20</td>\n",
       "      <td>pupper</td>\n",
       "    </tr>\n",
       "  </tbody>\n",
       "</table>\n",
       "</div>"
      ],
      "text/plain": [
       "               tweet_id                                               text  \\\n",
       "763  778027034220126208  This is Sophie. She's a Jubilant Bush Pupper. ...   \n",
       "\n",
       "                                         expanded_urls  rating_out_of_10  \\\n",
       "763  https://twitter.com/dog_rates/status/778027034...                27   \n",
       "\n",
       "       name         source_name                     source_location      time  \\\n",
       "763  Sophie  Twitter for iPhone  http://twitter.com/download/iphone  00:24:34   \n",
       "\n",
       "           date   stage  \n",
       "763  2016-09-20  pupper  "
      ]
     },
     "execution_count": 72,
     "metadata": {},
     "output_type": "execute_result"
    }
   ],
   "source": [
    "print([text for text in twitter_archive[ twitter_archive.rating_out_of_10 == 27].text])\n",
    "twitter_archive[ twitter_archive.rating_out_of_10 == 27]"
   ]
  },
  {
   "cell_type": "markdown",
   "id": "8757279f",
   "metadata": {},
   "source": [
    "##### Code"
   ]
  },
  {
   "cell_type": "code",
   "execution_count": 73,
   "id": "e7310324",
   "metadata": {},
   "outputs": [],
   "source": [
    "twitter_archive.at[763,'rating_out_of_10'] = 12"
   ]
  },
  {
   "cell_type": "markdown",
   "id": "9e48b59e",
   "metadata": {},
   "source": [
    "##### Test"
   ]
  },
  {
   "cell_type": "code",
   "execution_count": 74,
   "id": "4cca882c",
   "metadata": {},
   "outputs": [
    {
     "name": "stdout",
     "output_type": "stream",
     "text": [
      "763    12\n",
      "Name: rating_out_of_10, dtype: int64\n"
     ]
    }
   ],
   "source": [
    "print(twitter_archive[twitter_archive.tweet_id == 778027034220126208].rating_out_of_10)"
   ]
  },
  {
   "cell_type": "markdown",
   "id": "54bf9da9",
   "metadata": {},
   "source": [
    "### Final Test"
   ]
  },
  {
   "cell_type": "code",
   "execution_count": 75,
   "id": "05d0d46a",
   "metadata": {},
   "outputs": [
    {
     "data": {
      "text/plain": [
       "12    488\n",
       "10    437\n",
       "11    413\n",
       "13    287\n",
       "9     152\n",
       "8      98\n",
       "7      51\n",
       "14     38\n",
       "5      34\n",
       "6      32\n",
       "3      19\n",
       "4      15\n",
       "2       9\n",
       "1       4\n",
       "Name: rating_out_of_10, dtype: int64"
      ]
     },
     "execution_count": 75,
     "metadata": {},
     "output_type": "execute_result"
    }
   ],
   "source": [
    "twitter_archive['rating_out_of_10'].value_counts()"
   ]
  },
  {
   "cell_type": "markdown",
   "id": "348e513e",
   "metadata": {},
   "source": [
    "`dfTwitter`\n",
    "------------"
   ]
  },
  {
   "cell_type": "markdown",
   "id": "84dae373",
   "metadata": {},
   "source": [
    "##### 1a) Define"
   ]
  },
  {
   "cell_type": "markdown",
   "id": "004643ec",
   "metadata": {},
   "source": [
    "Set all dfTwitter columns to the int64 datatype"
   ]
  },
  {
   "cell_type": "markdown",
   "id": "1559735c",
   "metadata": {},
   "source": [
    "##### 1b) Test"
   ]
  },
  {
   "cell_type": "code",
   "execution_count": 76,
   "id": "a81ea91b",
   "metadata": {},
   "outputs": [],
   "source": [
    "dfTwitter.tweet_id = dfTwitter.tweet_id.astype(dtype='int64')\n",
    "dfTwitter.retweet_count = dfTwitter.retweet_count.astype('int64')\n",
    "dfTwitter.favorite_count = dfTwitter.favorite_count.astype('int64')"
   ]
  },
  {
   "cell_type": "markdown",
   "id": "ddd4c750",
   "metadata": {},
   "source": [
    "##### 1c) Code"
   ]
  },
  {
   "cell_type": "code",
   "execution_count": 77,
   "id": "b7bd6f77",
   "metadata": {},
   "outputs": [
    {
     "name": "stdout",
     "output_type": "stream",
     "text": [
      "<class 'pandas.core.frame.DataFrame'>\n",
      "RangeIndex: 2328 entries, 0 to 2327\n",
      "Data columns (total 3 columns):\n",
      " #   Column          Non-Null Count  Dtype\n",
      "---  ------          --------------  -----\n",
      " 0   tweet_id        2328 non-null   int64\n",
      " 1   favorite_count  2328 non-null   int64\n",
      " 2   retweet_count   2328 non-null   int64\n",
      "dtypes: int64(3)\n",
      "memory usage: 54.7 KB\n"
     ]
    }
   ],
   "source": [
    "dfTwitter.info()"
   ]
  },
  {
   "cell_type": "markdown",
   "id": "2ab82dd6",
   "metadata": {},
   "source": [
    "`image_predictions`\n",
    "------------"
   ]
  },
  {
   "cell_type": "markdown",
   "id": "e73a66e4",
   "metadata": {},
   "source": [
    "##### 1a) Define"
   ]
  },
  {
   "cell_type": "markdown",
   "id": "a52c6667",
   "metadata": {},
   "source": [
    "Remove any image predictions that aren't dogs"
   ]
  },
  {
   "cell_type": "markdown",
   "id": "68ebd566",
   "metadata": {},
   "source": [
    "##### 1b) Code"
   ]
  },
  {
   "cell_type": "code",
   "execution_count": 78,
   "id": "4d830220",
   "metadata": {},
   "outputs": [],
   "source": [
    "image_predictions = image_predictions[~((image_predictions.p1_dog == False) & (image_predictions.p2_dog == False) & (image_predictions.p3_dog == False))]"
   ]
  },
  {
   "cell_type": "markdown",
   "id": "3895c40f",
   "metadata": {},
   "source": [
    "##### 1c) Test"
   ]
  },
  {
   "cell_type": "code",
   "execution_count": 79,
   "id": "a864b584",
   "metadata": {},
   "outputs": [
    {
     "data": {
      "text/html": [
       "<div>\n",
       "<style scoped>\n",
       "    .dataframe tbody tr th:only-of-type {\n",
       "        vertical-align: middle;\n",
       "    }\n",
       "\n",
       "    .dataframe tbody tr th {\n",
       "        vertical-align: top;\n",
       "    }\n",
       "\n",
       "    .dataframe thead th {\n",
       "        text-align: right;\n",
       "    }\n",
       "</style>\n",
       "<table border=\"1\" class=\"dataframe\">\n",
       "  <thead>\n",
       "    <tr style=\"text-align: right;\">\n",
       "      <th></th>\n",
       "      <th>tweet_id</th>\n",
       "      <th>jpg_url</th>\n",
       "      <th>img_num</th>\n",
       "      <th>p1</th>\n",
       "      <th>p1_conf</th>\n",
       "      <th>p1_dog</th>\n",
       "      <th>p2</th>\n",
       "      <th>p2_conf</th>\n",
       "      <th>p2_dog</th>\n",
       "      <th>p3</th>\n",
       "      <th>p3_conf</th>\n",
       "      <th>p3_dog</th>\n",
       "    </tr>\n",
       "  </thead>\n",
       "  <tbody>\n",
       "  </tbody>\n",
       "</table>\n",
       "</div>"
      ],
      "text/plain": [
       "Empty DataFrame\n",
       "Columns: [tweet_id, jpg_url, img_num, p1, p1_conf, p1_dog, p2, p2_conf, p2_dog, p3, p3_conf, p3_dog]\n",
       "Index: []"
      ]
     },
     "execution_count": 79,
     "metadata": {},
     "output_type": "execute_result"
    }
   ],
   "source": [
    "image_predictions[(image_predictions.p1_dog == False) & (image_predictions.p2_dog == False) & (image_predictions.p3_dog == False)]"
   ]
  },
  {
   "cell_type": "code",
   "execution_count": 80,
   "id": "940030d3",
   "metadata": {},
   "outputs": [
    {
     "data": {
      "text/plain": [
       "1751"
      ]
     },
     "execution_count": 80,
     "metadata": {},
     "output_type": "execute_result"
    }
   ],
   "source": [
    "len(image_predictions)"
   ]
  },
  {
   "cell_type": "markdown",
   "id": "38e3c178",
   "metadata": {},
   "source": [
    "### Tidiness"
   ]
  },
  {
   "cell_type": "markdown",
   "id": "f6c5125c",
   "metadata": {},
   "source": [
    "##### 1(a-c) \n",
    "\n",
    "There are two variables in `source` column in `twitter_archive`: html address, name of page. Make two columns to contain these. This has already been done above."
   ]
  },
  {
   "cell_type": "markdown",
   "id": "911829d9",
   "metadata": {},
   "source": [
    "##### 2a) Define"
   ]
  },
  {
   "cell_type": "markdown",
   "id": "45404c09",
   "metadata": {},
   "source": [
    "Merge the cleaned `dfTwitter` and  `twitter_archive` together and save as twitter_archive_master.csv"
   ]
  },
  {
   "cell_type": "markdown",
   "id": "fd874bcc",
   "metadata": {},
   "source": [
    "##### 2b) Code"
   ]
  },
  {
   "cell_type": "code",
   "execution_count": 81,
   "id": "b75ac32e",
   "metadata": {},
   "outputs": [],
   "source": [
    "# Combine \"Enhanced Twitted Archive\" with the data gathered by the API\n",
    "master_df = (pd.merge(twitter_archive, dfTwitter, on = ['tweet_id'], how = 'inner'))\n",
    "master_df.to_csv('twitter_archive_master.csv', index = False)"
   ]
  },
  {
   "cell_type": "markdown",
   "id": "f3bd5196",
   "metadata": {},
   "source": [
    "##### 2c) Test"
   ]
  },
  {
   "cell_type": "code",
   "execution_count": 82,
   "id": "dba703b6",
   "metadata": {},
   "outputs": [
    {
     "data": {
      "text/html": [
       "<div>\n",
       "<style scoped>\n",
       "    .dataframe tbody tr th:only-of-type {\n",
       "        vertical-align: middle;\n",
       "    }\n",
       "\n",
       "    .dataframe tbody tr th {\n",
       "        vertical-align: top;\n",
       "    }\n",
       "\n",
       "    .dataframe thead th {\n",
       "        text-align: right;\n",
       "    }\n",
       "</style>\n",
       "<table border=\"1\" class=\"dataframe\">\n",
       "  <thead>\n",
       "    <tr style=\"text-align: right;\">\n",
       "      <th></th>\n",
       "      <th>tweet_id</th>\n",
       "      <th>text</th>\n",
       "      <th>expanded_urls</th>\n",
       "      <th>rating_out_of_10</th>\n",
       "      <th>name</th>\n",
       "      <th>source_name</th>\n",
       "      <th>source_location</th>\n",
       "      <th>time</th>\n",
       "      <th>date</th>\n",
       "      <th>stage</th>\n",
       "      <th>favorite_count</th>\n",
       "      <th>retweet_count</th>\n",
       "    </tr>\n",
       "  </thead>\n",
       "  <tbody>\n",
       "    <tr>\n",
       "      <th>0</th>\n",
       "      <td>892420643555336193</td>\n",
       "      <td>This is Phineas. He's a mystical boy. Only eve...</td>\n",
       "      <td>https://twitter.com/dog_rates/status/892420643...</td>\n",
       "      <td>13</td>\n",
       "      <td>Phineas</td>\n",
       "      <td>Twitter for iPhone</td>\n",
       "      <td>http://twitter.com/download/iphone</td>\n",
       "      <td>16:23:56</td>\n",
       "      <td>2017-08-01</td>\n",
       "      <td>Not recorded</td>\n",
       "      <td>34636</td>\n",
       "      <td>7232</td>\n",
       "    </tr>\n",
       "    <tr>\n",
       "      <th>1</th>\n",
       "      <td>892177421306343426</td>\n",
       "      <td>This is Tilly. She's just checking pup on you....</td>\n",
       "      <td>https://twitter.com/dog_rates/status/892177421...</td>\n",
       "      <td>13</td>\n",
       "      <td>Tilly</td>\n",
       "      <td>Twitter for iPhone</td>\n",
       "      <td>http://twitter.com/download/iphone</td>\n",
       "      <td>00:17:27</td>\n",
       "      <td>2017-08-01</td>\n",
       "      <td>Not recorded</td>\n",
       "      <td>30021</td>\n",
       "      <td>5419</td>\n",
       "    </tr>\n",
       "    <tr>\n",
       "      <th>2</th>\n",
       "      <td>891815181378084864</td>\n",
       "      <td>This is Archie. He is a rare Norwegian Pouncin...</td>\n",
       "      <td>https://twitter.com/dog_rates/status/891815181...</td>\n",
       "      <td>12</td>\n",
       "      <td>Archie</td>\n",
       "      <td>Twitter for iPhone</td>\n",
       "      <td>http://twitter.com/download/iphone</td>\n",
       "      <td>00:18:03</td>\n",
       "      <td>2017-07-31</td>\n",
       "      <td>Not recorded</td>\n",
       "      <td>22599</td>\n",
       "      <td>3579</td>\n",
       "    </tr>\n",
       "    <tr>\n",
       "      <th>3</th>\n",
       "      <td>891689557279858688</td>\n",
       "      <td>This is Darla. She commenced a snooze mid meal...</td>\n",
       "      <td>https://twitter.com/dog_rates/status/891689557...</td>\n",
       "      <td>13</td>\n",
       "      <td>Darla</td>\n",
       "      <td>Twitter for iPhone</td>\n",
       "      <td>http://twitter.com/download/iphone</td>\n",
       "      <td>15:58:51</td>\n",
       "      <td>2017-07-30</td>\n",
       "      <td>Not recorded</td>\n",
       "      <td>37886</td>\n",
       "      <td>7435</td>\n",
       "    </tr>\n",
       "    <tr>\n",
       "      <th>4</th>\n",
       "      <td>891327558926688256</td>\n",
       "      <td>This is Franklin. He would like you to stop ca...</td>\n",
       "      <td>https://twitter.com/dog_rates/status/891327558...</td>\n",
       "      <td>12</td>\n",
       "      <td>Franklin</td>\n",
       "      <td>Twitter for iPhone</td>\n",
       "      <td>http://twitter.com/download/iphone</td>\n",
       "      <td>16:00:24</td>\n",
       "      <td>2017-07-29</td>\n",
       "      <td>Not recorded</td>\n",
       "      <td>36162</td>\n",
       "      <td>7988</td>\n",
       "    </tr>\n",
       "  </tbody>\n",
       "</table>\n",
       "</div>"
      ],
      "text/plain": [
       "             tweet_id                                               text  \\\n",
       "0  892420643555336193  This is Phineas. He's a mystical boy. Only eve...   \n",
       "1  892177421306343426  This is Tilly. She's just checking pup on you....   \n",
       "2  891815181378084864  This is Archie. He is a rare Norwegian Pouncin...   \n",
       "3  891689557279858688  This is Darla. She commenced a snooze mid meal...   \n",
       "4  891327558926688256  This is Franklin. He would like you to stop ca...   \n",
       "\n",
       "                                       expanded_urls  rating_out_of_10  \\\n",
       "0  https://twitter.com/dog_rates/status/892420643...                13   \n",
       "1  https://twitter.com/dog_rates/status/892177421...                13   \n",
       "2  https://twitter.com/dog_rates/status/891815181...                12   \n",
       "3  https://twitter.com/dog_rates/status/891689557...                13   \n",
       "4  https://twitter.com/dog_rates/status/891327558...                12   \n",
       "\n",
       "       name         source_name                     source_location      time  \\\n",
       "0   Phineas  Twitter for iPhone  http://twitter.com/download/iphone  16:23:56   \n",
       "1     Tilly  Twitter for iPhone  http://twitter.com/download/iphone  00:17:27   \n",
       "2    Archie  Twitter for iPhone  http://twitter.com/download/iphone  00:18:03   \n",
       "3     Darla  Twitter for iPhone  http://twitter.com/download/iphone  15:58:51   \n",
       "4  Franklin  Twitter for iPhone  http://twitter.com/download/iphone  16:00:24   \n",
       "\n",
       "         date         stage  favorite_count  retweet_count  \n",
       "0  2017-08-01  Not recorded           34636           7232  \n",
       "1  2017-08-01  Not recorded           30021           5419  \n",
       "2  2017-07-31  Not recorded           22599           3579  \n",
       "3  2017-07-30  Not recorded           37886           7435  \n",
       "4  2017-07-29  Not recorded           36162           7988  "
      ]
     },
     "execution_count": 82,
     "metadata": {},
     "output_type": "execute_result"
    }
   ],
   "source": [
    "master_df = pd.read_csv('twitter_archive_master.csv')\n",
    "master_df.head()"
   ]
  },
  {
   "cell_type": "code",
   "execution_count": 83,
   "id": "dc33d04a",
   "metadata": {},
   "outputs": [
    {
     "name": "stdout",
     "output_type": "stream",
     "text": [
      "<class 'pandas.core.frame.DataFrame'>\n",
      "RangeIndex: 2069 entries, 0 to 2068\n",
      "Data columns (total 12 columns):\n",
      " #   Column            Non-Null Count  Dtype \n",
      "---  ------            --------------  ----- \n",
      " 0   tweet_id          2069 non-null   int64 \n",
      " 1   text              2069 non-null   object\n",
      " 2   expanded_urls     2066 non-null   object\n",
      " 3   rating_out_of_10  2069 non-null   int64 \n",
      " 4   name              2069 non-null   object\n",
      " 5   source_name       2069 non-null   object\n",
      " 6   source_location   2069 non-null   object\n",
      " 7   time              2069 non-null   object\n",
      " 8   date              2069 non-null   object\n",
      " 9   stage             2069 non-null   object\n",
      " 10  favorite_count    2069 non-null   int64 \n",
      " 11  retweet_count     2069 non-null   int64 \n",
      "dtypes: int64(4), object(8)\n",
      "memory usage: 194.1+ KB\n"
     ]
    }
   ],
   "source": [
    "master_df.info()"
   ]
  },
  {
   "cell_type": "code",
   "execution_count": 84,
   "id": "57ab8c06",
   "metadata": {},
   "outputs": [
    {
     "data": {
      "text/html": [
       "<div>\n",
       "<style scoped>\n",
       "    .dataframe tbody tr th:only-of-type {\n",
       "        vertical-align: middle;\n",
       "    }\n",
       "\n",
       "    .dataframe tbody tr th {\n",
       "        vertical-align: top;\n",
       "    }\n",
       "\n",
       "    .dataframe thead th {\n",
       "        text-align: right;\n",
       "    }\n",
       "</style>\n",
       "<table border=\"1\" class=\"dataframe\">\n",
       "  <thead>\n",
       "    <tr style=\"text-align: right;\">\n",
       "      <th></th>\n",
       "      <th>tweet_id</th>\n",
       "      <th>text</th>\n",
       "      <th>expanded_urls</th>\n",
       "      <th>rating_out_of_10</th>\n",
       "      <th>name</th>\n",
       "      <th>source_name</th>\n",
       "      <th>source_location</th>\n",
       "      <th>time</th>\n",
       "      <th>date</th>\n",
       "      <th>stage</th>\n",
       "      <th>favorite_count</th>\n",
       "      <th>retweet_count</th>\n",
       "    </tr>\n",
       "  </thead>\n",
       "  <tbody>\n",
       "    <tr>\n",
       "      <th>0</th>\n",
       "      <td>892420643555336193</td>\n",
       "      <td>This is Phineas. He's a mystical boy. Only eve...</td>\n",
       "      <td>https://twitter.com/dog_rates/status/892420643...</td>\n",
       "      <td>13</td>\n",
       "      <td>Phineas</td>\n",
       "      <td>Twitter for iPhone</td>\n",
       "      <td>http://twitter.com/download/iphone</td>\n",
       "      <td>16:23:56</td>\n",
       "      <td>2017-08-01</td>\n",
       "      <td>Not recorded</td>\n",
       "      <td>34636</td>\n",
       "      <td>7232</td>\n",
       "    </tr>\n",
       "    <tr>\n",
       "      <th>1</th>\n",
       "      <td>892177421306343426</td>\n",
       "      <td>This is Tilly. She's just checking pup on you....</td>\n",
       "      <td>https://twitter.com/dog_rates/status/892177421...</td>\n",
       "      <td>13</td>\n",
       "      <td>Tilly</td>\n",
       "      <td>Twitter for iPhone</td>\n",
       "      <td>http://twitter.com/download/iphone</td>\n",
       "      <td>00:17:27</td>\n",
       "      <td>2017-08-01</td>\n",
       "      <td>Not recorded</td>\n",
       "      <td>30021</td>\n",
       "      <td>5419</td>\n",
       "    </tr>\n",
       "    <tr>\n",
       "      <th>2</th>\n",
       "      <td>891815181378084864</td>\n",
       "      <td>This is Archie. He is a rare Norwegian Pouncin...</td>\n",
       "      <td>https://twitter.com/dog_rates/status/891815181...</td>\n",
       "      <td>12</td>\n",
       "      <td>Archie</td>\n",
       "      <td>Twitter for iPhone</td>\n",
       "      <td>http://twitter.com/download/iphone</td>\n",
       "      <td>00:18:03</td>\n",
       "      <td>2017-07-31</td>\n",
       "      <td>Not recorded</td>\n",
       "      <td>22599</td>\n",
       "      <td>3579</td>\n",
       "    </tr>\n",
       "    <tr>\n",
       "      <th>3</th>\n",
       "      <td>891689557279858688</td>\n",
       "      <td>This is Darla. She commenced a snooze mid meal...</td>\n",
       "      <td>https://twitter.com/dog_rates/status/891689557...</td>\n",
       "      <td>13</td>\n",
       "      <td>Darla</td>\n",
       "      <td>Twitter for iPhone</td>\n",
       "      <td>http://twitter.com/download/iphone</td>\n",
       "      <td>15:58:51</td>\n",
       "      <td>2017-07-30</td>\n",
       "      <td>Not recorded</td>\n",
       "      <td>37886</td>\n",
       "      <td>7435</td>\n",
       "    </tr>\n",
       "    <tr>\n",
       "      <th>4</th>\n",
       "      <td>891327558926688256</td>\n",
       "      <td>This is Franklin. He would like you to stop ca...</td>\n",
       "      <td>https://twitter.com/dog_rates/status/891327558...</td>\n",
       "      <td>12</td>\n",
       "      <td>Franklin</td>\n",
       "      <td>Twitter for iPhone</td>\n",
       "      <td>http://twitter.com/download/iphone</td>\n",
       "      <td>16:00:24</td>\n",
       "      <td>2017-07-29</td>\n",
       "      <td>Not recorded</td>\n",
       "      <td>36162</td>\n",
       "      <td>7988</td>\n",
       "    </tr>\n",
       "    <tr>\n",
       "      <th>...</th>\n",
       "      <td>...</td>\n",
       "      <td>...</td>\n",
       "      <td>...</td>\n",
       "      <td>...</td>\n",
       "      <td>...</td>\n",
       "      <td>...</td>\n",
       "      <td>...</td>\n",
       "      <td>...</td>\n",
       "      <td>...</td>\n",
       "      <td>...</td>\n",
       "      <td>...</td>\n",
       "      <td>...</td>\n",
       "    </tr>\n",
       "    <tr>\n",
       "      <th>2064</th>\n",
       "      <td>666049248165822465</td>\n",
       "      <td>Here we have a 1949 1st generation vulpix. Enj...</td>\n",
       "      <td>https://twitter.com/dog_rates/status/666049248...</td>\n",
       "      <td>5</td>\n",
       "      <td>None</td>\n",
       "      <td>Twitter for iPhone</td>\n",
       "      <td>http://twitter.com/download/iphone</td>\n",
       "      <td>00:24:50</td>\n",
       "      <td>2015-11-16</td>\n",
       "      <td>Not recorded</td>\n",
       "      <td>92</td>\n",
       "      <td>37</td>\n",
       "    </tr>\n",
       "    <tr>\n",
       "      <th>2065</th>\n",
       "      <td>666044226329800704</td>\n",
       "      <td>This is a purebred Piers Morgan. Loves to Netf...</td>\n",
       "      <td>https://twitter.com/dog_rates/status/666044226...</td>\n",
       "      <td>6</td>\n",
       "      <td>a</td>\n",
       "      <td>Twitter for iPhone</td>\n",
       "      <td>http://twitter.com/download/iphone</td>\n",
       "      <td>00:04:52</td>\n",
       "      <td>2015-11-16</td>\n",
       "      <td>Not recorded</td>\n",
       "      <td>252</td>\n",
       "      <td>119</td>\n",
       "    </tr>\n",
       "    <tr>\n",
       "      <th>2066</th>\n",
       "      <td>666033412701032449</td>\n",
       "      <td>Here is a very happy pup. Big fan of well-main...</td>\n",
       "      <td>https://twitter.com/dog_rates/status/666033412...</td>\n",
       "      <td>9</td>\n",
       "      <td>a</td>\n",
       "      <td>Twitter for iPhone</td>\n",
       "      <td>http://twitter.com/download/iphone</td>\n",
       "      <td>23:21:54</td>\n",
       "      <td>2015-11-15</td>\n",
       "      <td>Not recorded</td>\n",
       "      <td>103</td>\n",
       "      <td>38</td>\n",
       "    </tr>\n",
       "    <tr>\n",
       "      <th>2067</th>\n",
       "      <td>666029285002620928</td>\n",
       "      <td>This is a western brown Mitsubishi terrier. Up...</td>\n",
       "      <td>https://twitter.com/dog_rates/status/666029285...</td>\n",
       "      <td>7</td>\n",
       "      <td>a</td>\n",
       "      <td>Twitter for iPhone</td>\n",
       "      <td>http://twitter.com/download/iphone</td>\n",
       "      <td>23:05:30</td>\n",
       "      <td>2015-11-15</td>\n",
       "      <td>Not recorded</td>\n",
       "      <td>116</td>\n",
       "      <td>41</td>\n",
       "    </tr>\n",
       "    <tr>\n",
       "      <th>2068</th>\n",
       "      <td>666020888022790149</td>\n",
       "      <td>Here we have a Japanese Irish Setter. Lost eye...</td>\n",
       "      <td>https://twitter.com/dog_rates/status/666020888...</td>\n",
       "      <td>8</td>\n",
       "      <td>None</td>\n",
       "      <td>Twitter for iPhone</td>\n",
       "      <td>http://twitter.com/download/iphone</td>\n",
       "      <td>22:32:08</td>\n",
       "      <td>2015-11-15</td>\n",
       "      <td>Not recorded</td>\n",
       "      <td>2329</td>\n",
       "      <td>439</td>\n",
       "    </tr>\n",
       "  </tbody>\n",
       "</table>\n",
       "<p>2069 rows × 12 columns</p>\n",
       "</div>"
      ],
      "text/plain": [
       "                tweet_id                                               text  \\\n",
       "0     892420643555336193  This is Phineas. He's a mystical boy. Only eve...   \n",
       "1     892177421306343426  This is Tilly. She's just checking pup on you....   \n",
       "2     891815181378084864  This is Archie. He is a rare Norwegian Pouncin...   \n",
       "3     891689557279858688  This is Darla. She commenced a snooze mid meal...   \n",
       "4     891327558926688256  This is Franklin. He would like you to stop ca...   \n",
       "...                  ...                                                ...   \n",
       "2064  666049248165822465  Here we have a 1949 1st generation vulpix. Enj...   \n",
       "2065  666044226329800704  This is a purebred Piers Morgan. Loves to Netf...   \n",
       "2066  666033412701032449  Here is a very happy pup. Big fan of well-main...   \n",
       "2067  666029285002620928  This is a western brown Mitsubishi terrier. Up...   \n",
       "2068  666020888022790149  Here we have a Japanese Irish Setter. Lost eye...   \n",
       "\n",
       "                                          expanded_urls  rating_out_of_10  \\\n",
       "0     https://twitter.com/dog_rates/status/892420643...                13   \n",
       "1     https://twitter.com/dog_rates/status/892177421...                13   \n",
       "2     https://twitter.com/dog_rates/status/891815181...                12   \n",
       "3     https://twitter.com/dog_rates/status/891689557...                13   \n",
       "4     https://twitter.com/dog_rates/status/891327558...                12   \n",
       "...                                                 ...               ...   \n",
       "2064  https://twitter.com/dog_rates/status/666049248...                 5   \n",
       "2065  https://twitter.com/dog_rates/status/666044226...                 6   \n",
       "2066  https://twitter.com/dog_rates/status/666033412...                 9   \n",
       "2067  https://twitter.com/dog_rates/status/666029285...                 7   \n",
       "2068  https://twitter.com/dog_rates/status/666020888...                 8   \n",
       "\n",
       "          name         source_name                     source_location  \\\n",
       "0      Phineas  Twitter for iPhone  http://twitter.com/download/iphone   \n",
       "1        Tilly  Twitter for iPhone  http://twitter.com/download/iphone   \n",
       "2       Archie  Twitter for iPhone  http://twitter.com/download/iphone   \n",
       "3        Darla  Twitter for iPhone  http://twitter.com/download/iphone   \n",
       "4     Franklin  Twitter for iPhone  http://twitter.com/download/iphone   \n",
       "...        ...                 ...                                 ...   \n",
       "2064      None  Twitter for iPhone  http://twitter.com/download/iphone   \n",
       "2065         a  Twitter for iPhone  http://twitter.com/download/iphone   \n",
       "2066         a  Twitter for iPhone  http://twitter.com/download/iphone   \n",
       "2067         a  Twitter for iPhone  http://twitter.com/download/iphone   \n",
       "2068      None  Twitter for iPhone  http://twitter.com/download/iphone   \n",
       "\n",
       "          time        date         stage  favorite_count  retweet_count  \n",
       "0     16:23:56  2017-08-01  Not recorded           34636           7232  \n",
       "1     00:17:27  2017-08-01  Not recorded           30021           5419  \n",
       "2     00:18:03  2017-07-31  Not recorded           22599           3579  \n",
       "3     15:58:51  2017-07-30  Not recorded           37886           7435  \n",
       "4     16:00:24  2017-07-29  Not recorded           36162           7988  \n",
       "...        ...         ...           ...             ...            ...  \n",
       "2064  00:24:50  2015-11-16  Not recorded              92             37  \n",
       "2065  00:04:52  2015-11-16  Not recorded             252            119  \n",
       "2066  23:21:54  2015-11-15  Not recorded             103             38  \n",
       "2067  23:05:30  2015-11-15  Not recorded             116             41  \n",
       "2068  22:32:08  2015-11-15  Not recorded            2329            439  \n",
       "\n",
       "[2069 rows x 12 columns]"
      ]
     },
     "execution_count": 84,
     "metadata": {},
     "output_type": "execute_result"
    }
   ],
   "source": [
    "pd.read_csv('twitter_archive_master.csv')"
   ]
  },
  {
   "cell_type": "markdown",
   "id": "d1415c84",
   "metadata": {},
   "source": [
    "##### 3a) Define"
   ]
  },
  {
   "cell_type": "markdown",
   "id": "93575cc6",
   "metadata": {},
   "source": [
    "Cleaned `image_predictions` dataframe should be saved separately in order to conform to Wickham, 2014"
   ]
  },
  {
   "cell_type": "markdown",
   "id": "741d26f9",
   "metadata": {},
   "source": [
    "##### 3b) Code"
   ]
  },
  {
   "cell_type": "code",
   "execution_count": 85,
   "id": "ee39863f",
   "metadata": {},
   "outputs": [],
   "source": [
    "image_predictions.to_csv('cleaned_image_predictions.csv', index = False)"
   ]
  },
  {
   "cell_type": "markdown",
   "id": "13270dd7",
   "metadata": {},
   "source": [
    "##### 3c) Test"
   ]
  },
  {
   "cell_type": "code",
   "execution_count": 86,
   "id": "005c7036",
   "metadata": {},
   "outputs": [
    {
     "data": {
      "text/html": [
       "<div>\n",
       "<style scoped>\n",
       "    .dataframe tbody tr th:only-of-type {\n",
       "        vertical-align: middle;\n",
       "    }\n",
       "\n",
       "    .dataframe tbody tr th {\n",
       "        vertical-align: top;\n",
       "    }\n",
       "\n",
       "    .dataframe thead th {\n",
       "        text-align: right;\n",
       "    }\n",
       "</style>\n",
       "<table border=\"1\" class=\"dataframe\">\n",
       "  <thead>\n",
       "    <tr style=\"text-align: right;\">\n",
       "      <th></th>\n",
       "      <th>tweet_id</th>\n",
       "      <th>jpg_url</th>\n",
       "      <th>img_num</th>\n",
       "      <th>p1</th>\n",
       "      <th>p1_conf</th>\n",
       "      <th>p1_dog</th>\n",
       "      <th>p2</th>\n",
       "      <th>p2_conf</th>\n",
       "      <th>p2_dog</th>\n",
       "      <th>p3</th>\n",
       "      <th>p3_conf</th>\n",
       "      <th>p3_dog</th>\n",
       "    </tr>\n",
       "  </thead>\n",
       "  <tbody>\n",
       "    <tr>\n",
       "      <th>0</th>\n",
       "      <td>666020888022790149</td>\n",
       "      <td>https://pbs.twimg.com/media/CT4udn0WwAA0aMy.jpg</td>\n",
       "      <td>1</td>\n",
       "      <td>Welsh_springer_spaniel</td>\n",
       "      <td>0.465074</td>\n",
       "      <td>True</td>\n",
       "      <td>collie</td>\n",
       "      <td>0.156665</td>\n",
       "      <td>True</td>\n",
       "      <td>Shetland_sheepdog</td>\n",
       "      <td>0.061428</td>\n",
       "      <td>True</td>\n",
       "    </tr>\n",
       "    <tr>\n",
       "      <th>1</th>\n",
       "      <td>666029285002620928</td>\n",
       "      <td>https://pbs.twimg.com/media/CT42GRgUYAA5iDo.jpg</td>\n",
       "      <td>1</td>\n",
       "      <td>redbone</td>\n",
       "      <td>0.506826</td>\n",
       "      <td>True</td>\n",
       "      <td>miniature_pinscher</td>\n",
       "      <td>0.074192</td>\n",
       "      <td>True</td>\n",
       "      <td>Rhodesian_ridgeback</td>\n",
       "      <td>0.072010</td>\n",
       "      <td>True</td>\n",
       "    </tr>\n",
       "    <tr>\n",
       "      <th>2</th>\n",
       "      <td>666033412701032449</td>\n",
       "      <td>https://pbs.twimg.com/media/CT4521TWwAEvMyu.jpg</td>\n",
       "      <td>1</td>\n",
       "      <td>German_shepherd</td>\n",
       "      <td>0.596461</td>\n",
       "      <td>True</td>\n",
       "      <td>malinois</td>\n",
       "      <td>0.138584</td>\n",
       "      <td>True</td>\n",
       "      <td>bloodhound</td>\n",
       "      <td>0.116197</td>\n",
       "      <td>True</td>\n",
       "    </tr>\n",
       "    <tr>\n",
       "      <th>3</th>\n",
       "      <td>666044226329800704</td>\n",
       "      <td>https://pbs.twimg.com/media/CT5Dr8HUEAA-lEu.jpg</td>\n",
       "      <td>1</td>\n",
       "      <td>Rhodesian_ridgeback</td>\n",
       "      <td>0.408143</td>\n",
       "      <td>True</td>\n",
       "      <td>redbone</td>\n",
       "      <td>0.360687</td>\n",
       "      <td>True</td>\n",
       "      <td>miniature_pinscher</td>\n",
       "      <td>0.222752</td>\n",
       "      <td>True</td>\n",
       "    </tr>\n",
       "    <tr>\n",
       "      <th>4</th>\n",
       "      <td>666049248165822465</td>\n",
       "      <td>https://pbs.twimg.com/media/CT5IQmsXIAAKY4A.jpg</td>\n",
       "      <td>1</td>\n",
       "      <td>miniature_pinscher</td>\n",
       "      <td>0.560311</td>\n",
       "      <td>True</td>\n",
       "      <td>Rottweiler</td>\n",
       "      <td>0.243682</td>\n",
       "      <td>True</td>\n",
       "      <td>Doberman</td>\n",
       "      <td>0.154629</td>\n",
       "      <td>True</td>\n",
       "    </tr>\n",
       "    <tr>\n",
       "      <th>...</th>\n",
       "      <td>...</td>\n",
       "      <td>...</td>\n",
       "      <td>...</td>\n",
       "      <td>...</td>\n",
       "      <td>...</td>\n",
       "      <td>...</td>\n",
       "      <td>...</td>\n",
       "      <td>...</td>\n",
       "      <td>...</td>\n",
       "      <td>...</td>\n",
       "      <td>...</td>\n",
       "      <td>...</td>\n",
       "    </tr>\n",
       "    <tr>\n",
       "      <th>1746</th>\n",
       "      <td>891087950875897856</td>\n",
       "      <td>https://pbs.twimg.com/media/DF3HwyEWsAABqE6.jpg</td>\n",
       "      <td>1</td>\n",
       "      <td>Chesapeake_Bay_retriever</td>\n",
       "      <td>0.425595</td>\n",
       "      <td>True</td>\n",
       "      <td>Irish_terrier</td>\n",
       "      <td>0.116317</td>\n",
       "      <td>True</td>\n",
       "      <td>Indian_elephant</td>\n",
       "      <td>0.076902</td>\n",
       "      <td>False</td>\n",
       "    </tr>\n",
       "    <tr>\n",
       "      <th>1747</th>\n",
       "      <td>891327558926688256</td>\n",
       "      <td>https://pbs.twimg.com/media/DF6hr6BUMAAzZgT.jpg</td>\n",
       "      <td>2</td>\n",
       "      <td>basset</td>\n",
       "      <td>0.555712</td>\n",
       "      <td>True</td>\n",
       "      <td>English_springer</td>\n",
       "      <td>0.225770</td>\n",
       "      <td>True</td>\n",
       "      <td>German_short-haired_pointer</td>\n",
       "      <td>0.175219</td>\n",
       "      <td>True</td>\n",
       "    </tr>\n",
       "    <tr>\n",
       "      <th>1748</th>\n",
       "      <td>891689557279858688</td>\n",
       "      <td>https://pbs.twimg.com/media/DF_q7IAWsAEuuN8.jpg</td>\n",
       "      <td>1</td>\n",
       "      <td>paper_towel</td>\n",
       "      <td>0.170278</td>\n",
       "      <td>False</td>\n",
       "      <td>Labrador_retriever</td>\n",
       "      <td>0.168086</td>\n",
       "      <td>True</td>\n",
       "      <td>spatula</td>\n",
       "      <td>0.040836</td>\n",
       "      <td>False</td>\n",
       "    </tr>\n",
       "    <tr>\n",
       "      <th>1749</th>\n",
       "      <td>891815181378084864</td>\n",
       "      <td>https://pbs.twimg.com/media/DGBdLU1WsAANxJ9.jpg</td>\n",
       "      <td>1</td>\n",
       "      <td>Chihuahua</td>\n",
       "      <td>0.716012</td>\n",
       "      <td>True</td>\n",
       "      <td>malamute</td>\n",
       "      <td>0.078253</td>\n",
       "      <td>True</td>\n",
       "      <td>kelpie</td>\n",
       "      <td>0.031379</td>\n",
       "      <td>True</td>\n",
       "    </tr>\n",
       "    <tr>\n",
       "      <th>1750</th>\n",
       "      <td>892177421306343426</td>\n",
       "      <td>https://pbs.twimg.com/media/DGGmoV4XsAAUL6n.jpg</td>\n",
       "      <td>1</td>\n",
       "      <td>Chihuahua</td>\n",
       "      <td>0.323581</td>\n",
       "      <td>True</td>\n",
       "      <td>Pekinese</td>\n",
       "      <td>0.090647</td>\n",
       "      <td>True</td>\n",
       "      <td>papillon</td>\n",
       "      <td>0.068957</td>\n",
       "      <td>True</td>\n",
       "    </tr>\n",
       "  </tbody>\n",
       "</table>\n",
       "<p>1751 rows × 12 columns</p>\n",
       "</div>"
      ],
      "text/plain": [
       "                tweet_id                                          jpg_url  \\\n",
       "0     666020888022790149  https://pbs.twimg.com/media/CT4udn0WwAA0aMy.jpg   \n",
       "1     666029285002620928  https://pbs.twimg.com/media/CT42GRgUYAA5iDo.jpg   \n",
       "2     666033412701032449  https://pbs.twimg.com/media/CT4521TWwAEvMyu.jpg   \n",
       "3     666044226329800704  https://pbs.twimg.com/media/CT5Dr8HUEAA-lEu.jpg   \n",
       "4     666049248165822465  https://pbs.twimg.com/media/CT5IQmsXIAAKY4A.jpg   \n",
       "...                  ...                                              ...   \n",
       "1746  891087950875897856  https://pbs.twimg.com/media/DF3HwyEWsAABqE6.jpg   \n",
       "1747  891327558926688256  https://pbs.twimg.com/media/DF6hr6BUMAAzZgT.jpg   \n",
       "1748  891689557279858688  https://pbs.twimg.com/media/DF_q7IAWsAEuuN8.jpg   \n",
       "1749  891815181378084864  https://pbs.twimg.com/media/DGBdLU1WsAANxJ9.jpg   \n",
       "1750  892177421306343426  https://pbs.twimg.com/media/DGGmoV4XsAAUL6n.jpg   \n",
       "\n",
       "      img_num                        p1   p1_conf  p1_dog                  p2  \\\n",
       "0           1    Welsh_springer_spaniel  0.465074    True              collie   \n",
       "1           1                   redbone  0.506826    True  miniature_pinscher   \n",
       "2           1           German_shepherd  0.596461    True            malinois   \n",
       "3           1       Rhodesian_ridgeback  0.408143    True             redbone   \n",
       "4           1        miniature_pinscher  0.560311    True          Rottweiler   \n",
       "...       ...                       ...       ...     ...                 ...   \n",
       "1746        1  Chesapeake_Bay_retriever  0.425595    True       Irish_terrier   \n",
       "1747        2                    basset  0.555712    True    English_springer   \n",
       "1748        1               paper_towel  0.170278   False  Labrador_retriever   \n",
       "1749        1                 Chihuahua  0.716012    True            malamute   \n",
       "1750        1                 Chihuahua  0.323581    True            Pekinese   \n",
       "\n",
       "       p2_conf  p2_dog                           p3   p3_conf  p3_dog  \n",
       "0     0.156665    True            Shetland_sheepdog  0.061428    True  \n",
       "1     0.074192    True          Rhodesian_ridgeback  0.072010    True  \n",
       "2     0.138584    True                   bloodhound  0.116197    True  \n",
       "3     0.360687    True           miniature_pinscher  0.222752    True  \n",
       "4     0.243682    True                     Doberman  0.154629    True  \n",
       "...        ...     ...                          ...       ...     ...  \n",
       "1746  0.116317    True              Indian_elephant  0.076902   False  \n",
       "1747  0.225770    True  German_short-haired_pointer  0.175219    True  \n",
       "1748  0.168086    True                      spatula  0.040836   False  \n",
       "1749  0.078253    True                       kelpie  0.031379    True  \n",
       "1750  0.090647    True                     papillon  0.068957    True  \n",
       "\n",
       "[1751 rows x 12 columns]"
      ]
     },
     "execution_count": 86,
     "metadata": {},
     "output_type": "execute_result"
    }
   ],
   "source": [
    "pd.read_csv('cleaned_image_predictions.csv')"
   ]
  },
  {
   "cell_type": "markdown",
   "id": "6c4135d1",
   "metadata": {},
   "source": [
    "# Analysing & Visualising"
   ]
  },
  {
   "cell_type": "code",
   "execution_count": 87,
   "id": "fc0eb5c6",
   "metadata": {},
   "outputs": [
    {
     "data": {
      "text/html": [
       "<div>\n",
       "<style scoped>\n",
       "    .dataframe tbody tr th:only-of-type {\n",
       "        vertical-align: middle;\n",
       "    }\n",
       "\n",
       "    .dataframe tbody tr th {\n",
       "        vertical-align: top;\n",
       "    }\n",
       "\n",
       "    .dataframe thead th {\n",
       "        text-align: right;\n",
       "    }\n",
       "</style>\n",
       "<table border=\"1\" class=\"dataframe\">\n",
       "  <thead>\n",
       "    <tr style=\"text-align: right;\">\n",
       "      <th></th>\n",
       "      <th>tweet_id</th>\n",
       "      <th>jpg_url</th>\n",
       "      <th>img_num</th>\n",
       "      <th>p1</th>\n",
       "      <th>p1_conf</th>\n",
       "      <th>p1_dog</th>\n",
       "      <th>p2</th>\n",
       "      <th>p2_conf</th>\n",
       "      <th>p2_dog</th>\n",
       "      <th>p3</th>\n",
       "      <th>p3_conf</th>\n",
       "      <th>p3_dog</th>\n",
       "    </tr>\n",
       "  </thead>\n",
       "  <tbody>\n",
       "    <tr>\n",
       "      <th>0</th>\n",
       "      <td>666020888022790149</td>\n",
       "      <td>https://pbs.twimg.com/media/CT4udn0WwAA0aMy.jpg</td>\n",
       "      <td>1</td>\n",
       "      <td>Welsh_springer_spaniel</td>\n",
       "      <td>0.465074</td>\n",
       "      <td>True</td>\n",
       "      <td>collie</td>\n",
       "      <td>0.156665</td>\n",
       "      <td>True</td>\n",
       "      <td>Shetland_sheepdog</td>\n",
       "      <td>0.061428</td>\n",
       "      <td>True</td>\n",
       "    </tr>\n",
       "    <tr>\n",
       "      <th>1</th>\n",
       "      <td>666029285002620928</td>\n",
       "      <td>https://pbs.twimg.com/media/CT42GRgUYAA5iDo.jpg</td>\n",
       "      <td>1</td>\n",
       "      <td>redbone</td>\n",
       "      <td>0.506826</td>\n",
       "      <td>True</td>\n",
       "      <td>miniature_pinscher</td>\n",
       "      <td>0.074192</td>\n",
       "      <td>True</td>\n",
       "      <td>Rhodesian_ridgeback</td>\n",
       "      <td>0.072010</td>\n",
       "      <td>True</td>\n",
       "    </tr>\n",
       "    <tr>\n",
       "      <th>2</th>\n",
       "      <td>666033412701032449</td>\n",
       "      <td>https://pbs.twimg.com/media/CT4521TWwAEvMyu.jpg</td>\n",
       "      <td>1</td>\n",
       "      <td>German_shepherd</td>\n",
       "      <td>0.596461</td>\n",
       "      <td>True</td>\n",
       "      <td>malinois</td>\n",
       "      <td>0.138584</td>\n",
       "      <td>True</td>\n",
       "      <td>bloodhound</td>\n",
       "      <td>0.116197</td>\n",
       "      <td>True</td>\n",
       "    </tr>\n",
       "    <tr>\n",
       "      <th>3</th>\n",
       "      <td>666044226329800704</td>\n",
       "      <td>https://pbs.twimg.com/media/CT5Dr8HUEAA-lEu.jpg</td>\n",
       "      <td>1</td>\n",
       "      <td>Rhodesian_ridgeback</td>\n",
       "      <td>0.408143</td>\n",
       "      <td>True</td>\n",
       "      <td>redbone</td>\n",
       "      <td>0.360687</td>\n",
       "      <td>True</td>\n",
       "      <td>miniature_pinscher</td>\n",
       "      <td>0.222752</td>\n",
       "      <td>True</td>\n",
       "    </tr>\n",
       "    <tr>\n",
       "      <th>4</th>\n",
       "      <td>666049248165822465</td>\n",
       "      <td>https://pbs.twimg.com/media/CT5IQmsXIAAKY4A.jpg</td>\n",
       "      <td>1</td>\n",
       "      <td>miniature_pinscher</td>\n",
       "      <td>0.560311</td>\n",
       "      <td>True</td>\n",
       "      <td>Rottweiler</td>\n",
       "      <td>0.243682</td>\n",
       "      <td>True</td>\n",
       "      <td>Doberman</td>\n",
       "      <td>0.154629</td>\n",
       "      <td>True</td>\n",
       "    </tr>\n",
       "  </tbody>\n",
       "</table>\n",
       "</div>"
      ],
      "text/plain": [
       "             tweet_id                                          jpg_url  \\\n",
       "0  666020888022790149  https://pbs.twimg.com/media/CT4udn0WwAA0aMy.jpg   \n",
       "1  666029285002620928  https://pbs.twimg.com/media/CT42GRgUYAA5iDo.jpg   \n",
       "2  666033412701032449  https://pbs.twimg.com/media/CT4521TWwAEvMyu.jpg   \n",
       "3  666044226329800704  https://pbs.twimg.com/media/CT5Dr8HUEAA-lEu.jpg   \n",
       "4  666049248165822465  https://pbs.twimg.com/media/CT5IQmsXIAAKY4A.jpg   \n",
       "\n",
       "   img_num                      p1   p1_conf  p1_dog                  p2  \\\n",
       "0        1  Welsh_springer_spaniel  0.465074    True              collie   \n",
       "1        1                 redbone  0.506826    True  miniature_pinscher   \n",
       "2        1         German_shepherd  0.596461    True            malinois   \n",
       "3        1     Rhodesian_ridgeback  0.408143    True             redbone   \n",
       "4        1      miniature_pinscher  0.560311    True          Rottweiler   \n",
       "\n",
       "    p2_conf  p2_dog                   p3   p3_conf  p3_dog  \n",
       "0  0.156665    True    Shetland_sheepdog  0.061428    True  \n",
       "1  0.074192    True  Rhodesian_ridgeback  0.072010    True  \n",
       "2  0.138584    True           bloodhound  0.116197    True  \n",
       "3  0.360687    True   miniature_pinscher  0.222752    True  \n",
       "4  0.243682    True             Doberman  0.154629    True  "
      ]
     },
     "execution_count": 87,
     "metadata": {},
     "output_type": "execute_result"
    }
   ],
   "source": [
    "image_predictions.head()"
   ]
  },
  {
   "cell_type": "code",
   "execution_count": 88,
   "id": "6ac384f8",
   "metadata": {},
   "outputs": [
    {
     "data": {
      "text/plain": [
       "golden_retriever      173\n",
       "Labrador_retriever    113\n",
       "Pembroke               96\n",
       "Chihuahua              95\n",
       "pug                    65\n",
       "toy_poodle             52\n",
       "chow                   51\n",
       "Samoyed                46\n",
       "Pomeranian             42\n",
       "malamute               34\n",
       "dtype: int64"
      ]
     },
     "execution_count": 88,
     "metadata": {},
     "output_type": "execute_result"
    }
   ],
   "source": [
    "# Look at only those images which have been identified as a dog\n",
    "p1dog = image_predictions[image_predictions.p1_dog == True].p1\n",
    "p2dog = image_predictions[(image_predictions.p1_dog == False) & (image_predictions.p2_dog == True)].p2\n",
    "p3dog = image_predictions[(image_predictions.p1_dog == False) & (image_predictions.p2_dog == False) & (image_predictions.p3_dog == True)].p3\n",
    "all_dogs_concat = pd.concat([p1dog, p2dog, p3dog])\n",
    "all_dogs_concat.value_counts()[0:10]"
   ]
  },
  {
   "cell_type": "code",
   "execution_count": 89,
   "id": "9e7371db",
   "metadata": {},
   "outputs": [],
   "source": [
    "all_dogs_concat = all_dogs_concat.str.replace(\"_\", \" \").str.title() # A litle cleaning."
   ]
  },
  {
   "cell_type": "code",
   "execution_count": 90,
   "id": "fa635748",
   "metadata": {},
   "outputs": [
    {
     "data": {
      "image/png": "[encoded data removed]",
      "text/plain": [
       "<Figure size 1080x360 with 1 Axes>"
      ]
     },
     "metadata": {
      "needs_background": "light"
     },
     "output_type": "display_data"
    }
   ],
   "source": [
    "all_dogs_concat.value_counts()[0:10].plot(kind='bar', figsize = (15,5)); \n",
    "plt.xlabel('Identified dog type', fontsize = 14)\n",
    "plt.ylabel('Number of dogs', fontsize = 14)\n",
    "plt.xticks(rotation = 45, fontsize = 12)\n",
    "plt.yticks(fontsize = 12)\n",
    "plt.title('Different dog types identified by neural net', fontsize = 14);"
   ]
  },
  {
   "cell_type": "code",
   "execution_count": 91,
   "id": "b4738fd2",
   "metadata": {},
   "outputs": [
    {
     "data": {
      "image/png": "[encoded data removed]",
      "text/plain": [
       "<Figure size 1080x720 with 9 Axes>"
      ]
     },
     "metadata": {
      "needs_background": "light"
     },
     "output_type": "display_data"
    }
   ],
   "source": [
    "# Overview of important variable in the master dataframe\n",
    "df = master_df[['rating_out_of_10', 'retweet_count', 'favorite_count']]\n",
    "pd.plotting.scatter_matrix(df, figsize = (15,10), alpha=0.2);"
   ]
  },
  {
   "cell_type": "code",
   "execution_count": 92,
   "id": "73e6ddff",
   "metadata": {},
   "outputs": [],
   "source": [
    "ratings_dogs = pd.DataFrame(df['rating_out_of_10'].value_counts())\n",
    "ratings_dogs.reset_index(level = 0, inplace = True)\n",
    "ratings_dogs.rename(columns = {\"index\":\"Rating\", \"rating_out_of_10\":\"Number of dogs\"}, inplace = True)\n",
    "ratings_dogs = ratings_dogs.sort_values(by = \"Rating\")"
   ]
  },
  {
   "cell_type": "code",
   "execution_count": 93,
   "id": "ca1d6f21",
   "metadata": {},
   "outputs": [
    {
     "data": {
      "image/png": "[encoded data removed]",
      "text/plain": [
       "<Figure size 1080x360 with 1 Axes>"
      ]
     },
     "metadata": {
      "needs_background": "light"
     },
     "output_type": "display_data"
    }
   ],
   "source": [
    "plt.figure(figsize = (15,5))\n",
    "plt.bar(ratings_dogs.Rating, ratings_dogs['Number of dogs'])\n",
    "plt.ylabel('Number of dogs', fontsize = 14)\n",
    "plt.xlabel('Rating', fontsize = 14);\n",
    "plt.xticks(fontsize = 12)\n",
    "plt.title('Number of dogs with different ratings', fontsize = 14);"
   ]
  },
  {
   "cell_type": "markdown",
   "id": "15524341",
   "metadata": {},
   "source": [
    "Most dogs received scores of 10, 11 and 12. "
   ]
  },
  {
   "cell_type": "code",
   "execution_count": 94,
   "id": "c2a20ba6",
   "metadata": {},
   "outputs": [
    {
     "data": {
      "image/png": "[encoded data removed]",
      "text/plain": [
       "<Figure size 720x360 with 1 Axes>"
      ]
     },
     "metadata": {
      "needs_background": "light"
     },
     "output_type": "display_data"
    }
   ],
   "source": [
    "df = master_df.copy()\n",
    "df['stage'].value_counts()[1:].plot(kind='bar', figsize = (10,5)); # Ignoring \"Not recorded\"\n",
    "plt.xlabel('Dog stage')\n",
    "plt.ylabel('Number of dogs')\n",
    "plt.title('Number of dogs at different stages');"
   ]
  },
  {
   "cell_type": "markdown",
   "id": "4b669a69",
   "metadata": {},
   "source": [
    "The most assigned stage is the \"pupper\". This is probably not that useful as most of the dogs don't have an assigned stage:"
   ]
  },
  {
   "cell_type": "code",
   "execution_count": 95,
   "id": "fdef4181",
   "metadata": {},
   "outputs": [
    {
     "data": {
      "text/plain": [
       "Not recorded    1734\n",
       "pupper           230\n",
       "doggo             71\n",
       "puppo             24\n",
       "floofer           10\n",
       "Name: stage, dtype: int64"
      ]
     },
     "execution_count": 95,
     "metadata": {},
     "output_type": "execute_result"
    }
   ],
   "source": [
    "df['stage'].value_counts()"
   ]
  },
  {
   "cell_type": "code",
   "execution_count": 96,
   "id": "282a3e65",
   "metadata": {},
   "outputs": [
    {
     "data": {
      "text/plain": [
       "None       589\n",
       "a           54\n",
       "Oliver      10\n",
       "Charlie     10\n",
       "Lucy        10\n",
       "Name: name, dtype: int64"
      ]
     },
     "execution_count": 96,
     "metadata": {},
     "output_type": "execute_result"
    }
   ],
   "source": [
    "df['name'].value_counts()[0:5] "
   ]
  },
  {
   "cell_type": "markdown",
   "id": "cef5f9fe",
   "metadata": {},
   "source": [
    "\"None\" & \"a\" are not correct names; we will not clean these on this occassion as we are not greatly interested in the name in this particular analysis. We can have a quick look though... "
   ]
  },
  {
   "cell_type": "code",
   "execution_count": 97,
   "id": "81cb2b2b",
   "metadata": {},
   "outputs": [
    {
     "data": {
      "image/png": "[encoded data removed]",
      "text/plain": [
       "<Figure size 720x360 with 1 Axes>"
      ]
     },
     "metadata": {
      "needs_background": "light"
     },
     "output_type": "display_data"
    }
   ],
   "source": [
    "df['name'].value_counts()[2:20].plot(kind='bar', figsize = (10,5)); \n",
    "plt.xlabel('Dog name')\n",
    "plt.ylabel('Number of name')\n",
    "plt.title('Number of dogs with particular names');"
   ]
  },
  {
   "cell_type": "markdown",
   "id": "bd2e7f66",
   "metadata": {},
   "source": [
    "We should do a spot check to make sure that these are different dogs. Manually inspecting the images reveals that the dogs are indeed different. So here we learn that common names for dogs are \"Lucy\", \"Charlie\", \"Oliver\" and \"Copper\". \n",
    "\n",
    "As \"None\" & \"a\" are not correct names, there may well be names which are more common than \"Lucy\", \"Charlie\", \"Oliver\" and \"Copper\" so these should *not* be thought of as the top four names."
   ]
  },
  {
   "cell_type": "code",
   "execution_count": 98,
   "id": "7139f6b8",
   "metadata": {},
   "outputs": [],
   "source": [
    " def regression_plot(x, y, data, xlabel = \"\", ylabel = \"\", title = \"\", xlim = (0,10), ylim = (0,1000)):\n",
    "    '''This function is used to plot the dependent variable against the independent variable.'''       \n",
    "    plt.figure(figsize = (10,6))\n",
    "    ax = sns.regplot(x=x, y=y, data=data, marker=\"+\", scatter_kws={'alpha':0.3})\n",
    "    plt.xlabel(xlabel, labelpad=14, fontsize = 14);\n",
    "    plt.ylabel(ylabel, labelpad=14, fontsize = 14);\n",
    "    plt.title(title, fontsize = 14);\n",
    "    plt.xticks(fontsize = 14)\n",
    "    plt.xlim(xlim[0],xlim[1]); plt.ylim(ylim[0],ylim[1]);"
   ]
  },
  {
   "cell_type": "code",
   "execution_count": 99,
   "id": "52aa1626",
   "metadata": {},
   "outputs": [
    {
     "data": {
      "image/png": "[encoded data removed]",
      "text/plain": [
       "<Figure size 720x432 with 1 Axes>"
      ]
     },
     "metadata": {
      "needs_background": "light"
     },
     "output_type": "display_data"
    }
   ],
   "source": [
    "regression_plot(x=\"retweet_count\", y=\"favorite_count\", data=master_df, xlabel = 'Retweet Count', ylabel = 'Favorite Count', title = \"Number of favorites vs. number of retweets\", xlim = (0,4000), ylim = (0,10000))"
   ]
  },
  {
   "cell_type": "markdown",
   "id": "f95dbadd",
   "metadata": {},
   "source": [
    "More retweeted tweets are also the more favorited tweets."
   ]
  },
  {
   "cell_type": "code",
   "execution_count": 100,
   "id": "31fd90cd",
   "metadata": {},
   "outputs": [
    {
     "data": {
      "image/png": "[encoded data removed]",
      "text/plain": [
       "<Figure size 720x432 with 1 Axes>"
      ]
     },
     "metadata": {
      "needs_background": "light"
     },
     "output_type": "display_data"
    }
   ],
   "source": [
    "regression_plot(x=\"rating_out_of_10\", y=\"retweet_count\", data=master_df, xlabel = 'Rating', ylabel = 'Retweet Count', title = \"Number of retweets vs. rating\", xlim = (0,20), ylim = (0,40000))"
   ]
  },
  {
   "cell_type": "markdown",
   "id": "4ac03ee5",
   "metadata": {},
   "source": [
    "The higher the rating of the dog, the more likely the associated tweet is to be retweeted."
   ]
  },
  {
   "cell_type": "code",
   "execution_count": 101,
   "id": "efa86ba5",
   "metadata": {},
   "outputs": [
    {
     "data": {
      "image/png": "[encoded data removed]",
      "text/plain": [
       "<Figure size 720x432 with 1 Axes>"
      ]
     },
     "metadata": {
      "needs_background": "light"
     },
     "output_type": "display_data"
    }
   ],
   "source": [
    "regression_plot(x=\"rating_out_of_10\", y=\"favorite_count\", data=master_df, xlabel = 'Rating', ylabel = 'Favorite Count', title = \"rating_out_of_10 vs. favorite_count\", xlim = (0,20), ylim = (0,70000))"
   ]
  },
  {
   "cell_type": "markdown",
   "id": "df0f7734",
   "metadata": {},
   "source": [
    "The higher the rating of the dog, the more likely it is to be favorited (or \"liked\") on twitter."
   ]
  },
  {
   "cell_type": "markdown",
   "id": "f375b18b",
   "metadata": {},
   "source": [
    "Let us see if we can devise a model that predicts favorite count from the retweet count."
   ]
  },
  {
   "cell_type": "code",
   "execution_count": 102,
   "id": "7fe9268f",
   "metadata": {},
   "outputs": [
    {
     "data": {
      "text/html": [
       "<table class=\"simpletable\">\n",
       "<caption>OLS Regression Results</caption>\n",
       "<tr>\n",
       "  <th>Dep. Variable:</th>     <td>favorite_count</td>  <th>  R-squared:         </th> <td>   0.857</td> \n",
       "</tr>\n",
       "<tr>\n",
       "  <th>Model:</th>                   <td>OLS</td>       <th>  Adj. R-squared:    </th> <td>   0.857</td> \n",
       "</tr>\n",
       "<tr>\n",
       "  <th>Method:</th>             <td>Least Squares</td>  <th>  F-statistic:       </th> <td>1.238e+04</td>\n",
       "</tr>\n",
       "<tr>\n",
       "  <th>Date:</th>             <td>Sat, 17 Jul 2021</td> <th>  Prob (F-statistic):</th>  <td>  0.00</td>  \n",
       "</tr>\n",
       "<tr>\n",
       "  <th>Time:</th>                 <td>11:26:51</td>     <th>  Log-Likelihood:    </th> <td> -20292.</td> \n",
       "</tr>\n",
       "<tr>\n",
       "  <th>No. Observations:</th>      <td>  2069</td>      <th>  AIC:               </th> <td>4.059e+04</td>\n",
       "</tr>\n",
       "<tr>\n",
       "  <th>Df Residuals:</th>          <td>  2067</td>      <th>  BIC:               </th> <td>4.060e+04</td>\n",
       "</tr>\n",
       "<tr>\n",
       "  <th>Df Model:</th>              <td>     1</td>      <th>                     </th>     <td> </td>    \n",
       "</tr>\n",
       "<tr>\n",
       "  <th>Covariance Type:</th>      <td>nonrobust</td>    <th>                     </th>     <td> </td>    \n",
       "</tr>\n",
       "</table>\n",
       "<table class=\"simpletable\">\n",
       "<tr>\n",
       "        <td></td>           <th>coef</th>     <th>std err</th>      <th>t</th>      <th>P>|t|</th>  <th>[0.025</th>    <th>0.975]</th>  \n",
       "</tr>\n",
       "<tr>\n",
       "  <th>intercept</th>     <td> 1846.0992</td> <td>  111.292</td> <td>   16.588</td> <td> 0.000</td> <td> 1627.843</td> <td> 2064.355</td>\n",
       "</tr>\n",
       "<tr>\n",
       "  <th>retweet_count</th> <td>    2.5818</td> <td>    0.023</td> <td>  111.261</td> <td> 0.000</td> <td>    2.536</td> <td>    2.627</td>\n",
       "</tr>\n",
       "</table>\n",
       "<table class=\"simpletable\">\n",
       "<tr>\n",
       "  <th>Omnibus:</th>       <td>560.254</td> <th>  Durbin-Watson:     </th> <td>   0.772</td> \n",
       "</tr>\n",
       "<tr>\n",
       "  <th>Prob(Omnibus):</th> <td> 0.000</td>  <th>  Jarque-Bera (JB):  </th> <td>13390.624</td>\n",
       "</tr>\n",
       "<tr>\n",
       "  <th>Skew:</th>          <td> 0.710</td>  <th>  Prob(JB):          </th> <td>    0.00</td> \n",
       "</tr>\n",
       "<tr>\n",
       "  <th>Kurtosis:</th>      <td>15.382</td>  <th>  Cond. No.          </th> <td>5.52e+03</td> \n",
       "</tr>\n",
       "</table><br/><br/>Notes:<br/>[1] Standard Errors assume that the covariance matrix of the errors is correctly specified.<br/>[2] The condition number is large, 5.52e+03. This might indicate that there are<br/>strong multicollinearity or other numerical problems."
      ],
      "text/plain": [
       "<class 'statsmodels.iolib.summary.Summary'>\n",
       "\"\"\"\n",
       "                            OLS Regression Results                            \n",
       "==============================================================================\n",
       "Dep. Variable:         favorite_count   R-squared:                       0.857\n",
       "Model:                            OLS   Adj. R-squared:                  0.857\n",
       "Method:                 Least Squares   F-statistic:                 1.238e+04\n",
       "Date:                Sat, 17 Jul 2021   Prob (F-statistic):               0.00\n",
       "Time:                        11:26:51   Log-Likelihood:                -20292.\n",
       "No. Observations:                2069   AIC:                         4.059e+04\n",
       "Df Residuals:                    2067   BIC:                         4.060e+04\n",
       "Df Model:                           1                                         \n",
       "Covariance Type:            nonrobust                                         \n",
       "=================================================================================\n",
       "                    coef    std err          t      P>|t|      [0.025      0.975]\n",
       "---------------------------------------------------------------------------------\n",
       "intercept      1846.0992    111.292     16.588      0.000    1627.843    2064.355\n",
       "retweet_count     2.5818      0.023    111.261      0.000       2.536       2.627\n",
       "==============================================================================\n",
       "Omnibus:                      560.254   Durbin-Watson:                   0.772\n",
       "Prob(Omnibus):                  0.000   Jarque-Bera (JB):            13390.624\n",
       "Skew:                           0.710   Prob(JB):                         0.00\n",
       "Kurtosis:                      15.382   Cond. No.                     5.52e+03\n",
       "==============================================================================\n",
       "\n",
       "Notes:\n",
       "[1] Standard Errors assume that the covariance matrix of the errors is correctly specified.\n",
       "[2] The condition number is large, 5.52e+03. This might indicate that there are\n",
       "strong multicollinearity or other numerical problems.\n",
       "\"\"\""
      ]
     },
     "execution_count": 102,
     "metadata": {},
     "output_type": "execute_result"
    }
   ],
   "source": [
    "df['intercept'] = 1\n",
    "lm = sm.OLS(df['favorite_count'], df[['intercept', 'retweet_count']])\n",
    "results = lm.fit()\n",
    "results.summary()"
   ]
  },
  {
   "cell_type": "markdown",
   "id": "c157e113",
   "metadata": {},
   "source": [
    "The p values are less than 0.5 for the intercept and the gradient so these are statistically significant results."
   ]
  },
  {
   "cell_type": "code",
   "execution_count": 103,
   "id": "935480a8",
   "metadata": {},
   "outputs": [
    {
     "data": {
      "image/png": "[encoded data removed]",
      "text/plain": [
       "<Figure size 720x432 with 1 Axes>"
      ]
     },
     "metadata": {
      "needs_background": "light"
     },
     "output_type": "display_data"
    }
   ],
   "source": [
    "intercept, gradient = results.params[0], results.params[1]\n",
    "\n",
    "x = master_df.retweet_count\n",
    "y = master_df.favorite_count\n",
    "xlabel, ylabel, title = \"Retweet count\", \"Favorite count\", \"Number of favorites vs. number of retweets\"\n",
    "\n",
    "fit_x = np.linspace(start = x.min(), stop = x.max(), num = 2) # Only two points are needed to fit a straight line\n",
    "fit_y = (gradient*fit_x) + intercept # Create a linear regression line\n",
    "\n",
    "plt.figure(figsize = (10,6))\n",
    "plt.scatter(x, y, marker=\"+\", alpha = 0.5)\n",
    "plt.plot(fit_x, fit_y, color = 'red')\n",
    "plt.xlabel(xlabel, labelpad=14, fontsize = 14);\n",
    "plt.ylabel(ylabel, labelpad=14, fontsize = 14);\n",
    "plt.title(title, fontsize = 14);\n",
    "plt.xlim(0,10000); plt.ylim(0,30000)\n",
    "plt.show()"
   ]
  },
  {
   "cell_type": "markdown",
   "id": "38b7916f",
   "metadata": {},
   "source": [
    "Let us see if we can also devise a model that predicts favorite count from the rating."
   ]
  },
  {
   "cell_type": "code",
   "execution_count": 104,
   "id": "805629b4",
   "metadata": {},
   "outputs": [
    {
     "name": "stdout",
     "output_type": "stream",
     "text": [
      "intercept          -14616.651313\n",
      "rating_out_of_10     2129.935595\n",
      "dtype: float64\n"
     ]
    },
    {
     "data": {
      "text/html": [
       "<table class=\"simpletable\">\n",
       "<caption>OLS Regression Results</caption>\n",
       "<tr>\n",
       "  <th>Dep. Variable:</th>     <td>favorite_count</td>  <th>  R-squared:         </th> <td>   0.154</td> \n",
       "</tr>\n",
       "<tr>\n",
       "  <th>Model:</th>                   <td>OLS</td>       <th>  Adj. R-squared:    </th> <td>   0.154</td> \n",
       "</tr>\n",
       "<tr>\n",
       "  <th>Method:</th>             <td>Least Squares</td>  <th>  F-statistic:       </th> <td>   376.2</td> \n",
       "</tr>\n",
       "<tr>\n",
       "  <th>Date:</th>             <td>Sat, 17 Jul 2021</td> <th>  Prob (F-statistic):</th> <td>3.99e-77</td> \n",
       "</tr>\n",
       "<tr>\n",
       "  <th>Time:</th>                 <td>11:26:51</td>     <th>  Log-Likelihood:    </th> <td> -22130.</td> \n",
       "</tr>\n",
       "<tr>\n",
       "  <th>No. Observations:</th>      <td>  2069</td>      <th>  AIC:               </th> <td>4.426e+04</td>\n",
       "</tr>\n",
       "<tr>\n",
       "  <th>Df Residuals:</th>          <td>  2067</td>      <th>  BIC:               </th> <td>4.428e+04</td>\n",
       "</tr>\n",
       "<tr>\n",
       "  <th>Df Model:</th>              <td>     1</td>      <th>                     </th>     <td> </td>    \n",
       "</tr>\n",
       "<tr>\n",
       "  <th>Covariance Type:</th>      <td>nonrobust</td>    <th>                     </th>     <td> </td>    \n",
       "</tr>\n",
       "</table>\n",
       "<table class=\"simpletable\">\n",
       "<tr>\n",
       "          <td></td>            <th>coef</th>     <th>std err</th>      <th>t</th>      <th>P>|t|</th>  <th>[0.025</th>    <th>0.975]</th>  \n",
       "</tr>\n",
       "<tr>\n",
       "  <th>intercept</th>        <td>-1.462e+04</td> <td> 1188.321</td> <td>  -12.300</td> <td> 0.000</td> <td>-1.69e+04</td> <td>-1.23e+04</td>\n",
       "</tr>\n",
       "<tr>\n",
       "  <th>rating_out_of_10</th> <td> 2129.9356</td> <td>  109.816</td> <td>   19.395</td> <td> 0.000</td> <td> 1914.574</td> <td> 2345.297</td>\n",
       "</tr>\n",
       "</table>\n",
       "<table class=\"simpletable\">\n",
       "<tr>\n",
       "  <th>Omnibus:</th>       <td>2025.374</td> <th>  Durbin-Watson:     </th>  <td>   1.570</td> \n",
       "</tr>\n",
       "<tr>\n",
       "  <th>Prob(Omnibus):</th>  <td> 0.000</td>  <th>  Jarque-Bera (JB):  </th> <td>121275.318</td>\n",
       "</tr>\n",
       "<tr>\n",
       "  <th>Skew:</th>           <td> 4.618</td>  <th>  Prob(JB):          </th>  <td>    0.00</td> \n",
       "</tr>\n",
       "<tr>\n",
       "  <th>Kurtosis:</th>       <td>39.352</td>  <th>  Cond. No.          </th>  <td>    55.1</td> \n",
       "</tr>\n",
       "</table><br/><br/>Notes:<br/>[1] Standard Errors assume that the covariance matrix of the errors is correctly specified."
      ],
      "text/plain": [
       "<class 'statsmodels.iolib.summary.Summary'>\n",
       "\"\"\"\n",
       "                            OLS Regression Results                            \n",
       "==============================================================================\n",
       "Dep. Variable:         favorite_count   R-squared:                       0.154\n",
       "Model:                            OLS   Adj. R-squared:                  0.154\n",
       "Method:                 Least Squares   F-statistic:                     376.2\n",
       "Date:                Sat, 17 Jul 2021   Prob (F-statistic):           3.99e-77\n",
       "Time:                        11:26:51   Log-Likelihood:                -22130.\n",
       "No. Observations:                2069   AIC:                         4.426e+04\n",
       "Df Residuals:                    2067   BIC:                         4.428e+04\n",
       "Df Model:                           1                                         \n",
       "Covariance Type:            nonrobust                                         \n",
       "====================================================================================\n",
       "                       coef    std err          t      P>|t|      [0.025      0.975]\n",
       "------------------------------------------------------------------------------------\n",
       "intercept        -1.462e+04   1188.321    -12.300      0.000   -1.69e+04   -1.23e+04\n",
       "rating_out_of_10  2129.9356    109.816     19.395      0.000    1914.574    2345.297\n",
       "==============================================================================\n",
       "Omnibus:                     2025.374   Durbin-Watson:                   1.570\n",
       "Prob(Omnibus):                  0.000   Jarque-Bera (JB):           121275.318\n",
       "Skew:                           4.618   Prob(JB):                         0.00\n",
       "Kurtosis:                      39.352   Cond. No.                         55.1\n",
       "==============================================================================\n",
       "\n",
       "Notes:\n",
       "[1] Standard Errors assume that the covariance matrix of the errors is correctly specified.\n",
       "\"\"\""
      ]
     },
     "execution_count": 104,
     "metadata": {},
     "output_type": "execute_result"
    }
   ],
   "source": [
    "df['intercept'] = 1\n",
    "lm = sm.OLS(df['favorite_count'], df[['intercept', 'rating_out_of_10']])\n",
    "results = lm.fit()\n",
    "print(results.params)\n",
    "results.summary()"
   ]
  },
  {
   "cell_type": "code",
   "execution_count": 105,
   "id": "ba05c23c",
   "metadata": {},
   "outputs": [
    {
     "data": {
      "image/png": "[encoded data removed]",
      "text/plain": [
       "<Figure size 720x432 with 1 Axes>"
      ]
     },
     "metadata": {
      "needs_background": "light"
     },
     "output_type": "display_data"
    }
   ],
   "source": [
    "intercept, gradient = results.params[0], results.params[1]\n",
    "x = master_df.rating_out_of_10\n",
    "y = master_df.favorite_count\n",
    "xlabel, ylabel, title = \"Rating\", \"Favorite count\", \"Number of favorites vs. rating\"\n",
    "\n",
    "fit_x = np.linspace(start = x.min(), stop = x.max(), num = 2) # Only two points are needed to fit a straight line\n",
    "fit_y = (gradient*fit_x) + intercept # Create a linear regression line\n",
    "\n",
    "plt.figure(figsize = (10,6))\n",
    "plt.scatter(x, y, marker=\"+\", alpha = 0.5)\n",
    "plt.plot(fit_x, fit_y, color = 'red')\n",
    "plt.xlabel(xlabel, labelpad=14, fontsize = 14);\n",
    "plt.ylabel(ylabel, labelpad=14, fontsize = 14);\n",
    "plt.title(title, fontsize = 14);\n",
    "plt.ylim(0,140000)\n",
    "plt.xlim(0,15)\n",
    "plt.show()"
   ]
  },
  {
   "cell_type": "markdown",
   "id": "7d407d50",
   "metadata": {},
   "source": [
    "The p values are less than 0.5 for the intercept and the gradient so these are statistically significant results. The R-squared value is only 0.154 so although there is a positive correlation here it is weak."
   ]
  },
  {
   "cell_type": "code",
   "execution_count": 106,
   "id": "8fbd1b0f",
   "metadata": {},
   "outputs": [
    {
     "data": {
      "image/png": "[encoded data removed]",
      "text/plain": [
       "<Figure size 432x288 with 1 Axes>"
      ]
     },
     "metadata": {
      "needs_background": "light"
     },
     "output_type": "display_data"
    }
   ],
   "source": [
    "#master_df[['rating_out_of_10','favorite_count']].groupby('rating_out_of_10').mean()\n",
    "master_df[['rating_out_of_10','favorite_count']].groupby('rating_out_of_10').mean().plot(kind = 'bar');\n",
    "plt.ylabel('Number of dogs')\n",
    "plt.xlabel('Rating out of ten');"
   ]
  },
  {
   "cell_type": "markdown",
   "id": "9e7f5253",
   "metadata": {},
   "source": [
    "The more highly the dog is rated, the more likely it is that it will be \"liked\" by a twitter user."
   ]
  },
  {
   "cell_type": "markdown",
   "id": "8dac9c0f",
   "metadata": {},
   "source": [
    "# References"
   ]
  },
  {
   "cell_type": "markdown",
   "id": "a103b69c",
   "metadata": {},
   "source": [
    "Wickham, H. (2014). Tiday Data. Journal of Statistical Software, 59(10), 1–23. http://www.jstatsoft.org/"
   ]
  }
 ],
 "metadata": {
  "kernelspec": {
   "display_name": "Python 3",
   "language": "python",
   "name": "python3"
  },
  "language_info": {
   "codemirror_mode": {
    "name": "ipython",
    "version": 3
   },
   "file_extension": ".py",
   "mimetype": "text/x-python",
   "name": "python",
   "nbconvert_exporter": "python",
   "pygments_lexer": "ipython3",
   "version": "3.9.5"
  }
 },
 "nbformat": 4,
 "nbformat_minor": 5
}
